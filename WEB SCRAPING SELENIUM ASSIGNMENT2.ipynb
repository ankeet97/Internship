{
 "cells": [
  {
   "cell_type": "markdown",
   "id": "3f68d29e",
   "metadata": {},
   "source": [
    "## Web_scraping with Selenium"
   ]
  },
  {
   "cell_type": "markdown",
   "id": "f087ede4",
   "metadata": {},
   "source": [
    "### Answer 1 :: Write a python program to scrape data for “Data Analyst” Job position in “Bangalore” location. You\n",
    "have to scrape the job-title, job-location, company_name, experience_required. You have to scrape first 10\n",
    "jobs data"
   ]
  },
  {
   "cell_type": "code",
   "execution_count": 2,
   "id": "66f9f3b6",
   "metadata": {},
   "outputs": [],
   "source": [
    "# importing all  the neccessary libs\n",
    "import pandas  as pd\n",
    "import numpy  as np\n",
    "import selenium\n",
    "from selenium import webdriver\n",
    "from selenium.webdriver.common.by import By\n",
    "import warnings\n",
    "warnings.filterwarnings('ignore')"
   ]
  },
  {
   "cell_type": "code",
   "execution_count": 2,
   "id": "e2dd1695",
   "metadata": {},
   "outputs": [],
   "source": [
    "#command for open  the  automation window of browser \n",
    "driver = webdriver.Chrome('chromedriver.exe')"
   ]
  },
  {
   "cell_type": "code",
   "execution_count": 3,
   "id": "1cb751a1",
   "metadata": {},
   "outputs": [],
   "source": [
    "url = 'https://www.naukri.com/'\n",
    "driver.get(url)"
   ]
  },
  {
   "cell_type": "code",
   "execution_count": 4,
   "id": "6a94aa12",
   "metadata": {},
   "outputs": [
    {
     "data": {
      "text/plain": [
       "<selenium.webdriver.remote.webelement.WebElement (session=\"a0dbfb8e6aea98899cda803246861871\", element=\"0604d14c-8783-4e45-be77-c4c381bdc2ef\")>"
      ]
     },
     "execution_count": 4,
     "metadata": {},
     "output_type": "execute_result"
    }
   ],
   "source": [
    "# Finding web element for search job bar using id\n",
    "search_job = driver.find_element(By.CLASS_NAME,'suggestor-input')\n",
    "search_job"
   ]
  },
  {
   "cell_type": "code",
   "execution_count": 5,
   "id": "f1d8b6e9",
   "metadata": {},
   "outputs": [],
   "source": [
    "search_job.send_keys('Data Analyst')"
   ]
  },
  {
   "cell_type": "code",
   "execution_count": 6,
   "id": "ce15357f",
   "metadata": {},
   "outputs": [
    {
     "data": {
      "text/plain": [
       "<selenium.webdriver.remote.webelement.WebElement (session=\"a0dbfb8e6aea98899cda803246861871\", element=\"16c17441-eb83-4338-b31d-0dd019ba4e0e\")>"
      ]
     },
     "execution_count": 6,
     "metadata": {},
     "output_type": "execute_result"
    }
   ],
   "source": [
    "# finding web element for search loc bar using relative xpath\n",
    "search_loc = driver.find_element(By.XPATH,'/html/body/div[1]/div[2]/div[3]/div/div/div[5]/div/div/div/input')\n",
    "search_loc"
   ]
  },
  {
   "cell_type": "code",
   "execution_count": 7,
   "id": "c4e8814c",
   "metadata": {},
   "outputs": [],
   "source": [
    "# finding web element for job location bar\n",
    "search_loc.send_keys('Bangalore')"
   ]
  },
  {
   "cell_type": "code",
   "execution_count": 8,
   "id": "fe436ea7",
   "metadata": {},
   "outputs": [
    {
     "data": {
      "text/plain": [
       "<selenium.webdriver.remote.webelement.WebElement (session=\"a0dbfb8e6aea98899cda803246861871\", element=\"e92cb526-ad2d-43b4-bc83-171be7ef8854\")>"
      ]
     },
     "execution_count": 8,
     "metadata": {},
     "output_type": "execute_result"
    }
   ],
   "source": [
    "# clicking using absolute xpath function\n",
    "search_btn = driver.find_element(By.XPATH,'/html/body/div[1]/div[2]/div[3]/div/div/div[6]')\n",
    "search_btn"
   ]
  },
  {
   "cell_type": "code",
   "execution_count": 9,
   "id": "361441a6",
   "metadata": {},
   "outputs": [],
   "source": [
    "search_btn.click()"
   ]
  },
  {
   "cell_type": "markdown",
   "id": "7e281ad0",
   "metadata": {},
   "source": [
    "# Extracting job titles"
   ]
  },
  {
   "cell_type": "code",
   "execution_count": 10,
   "id": "bbccb8e4",
   "metadata": {},
   "outputs": [
    {
     "data": {
      "text/plain": [
       "[<selenium.webdriver.remote.webelement.WebElement (session=\"a0dbfb8e6aea98899cda803246861871\", element=\"7fc37e38-cc86-4d1f-9f1a-8ba0729518ae\")>,\n",
       " <selenium.webdriver.remote.webelement.WebElement (session=\"a0dbfb8e6aea98899cda803246861871\", element=\"8e69013e-b66c-4501-a4e7-083571d52079\")>,\n",
       " <selenium.webdriver.remote.webelement.WebElement (session=\"a0dbfb8e6aea98899cda803246861871\", element=\"b75c3905-29fa-4da0-af48-82a533fabc5d\")>,\n",
       " <selenium.webdriver.remote.webelement.WebElement (session=\"a0dbfb8e6aea98899cda803246861871\", element=\"a507bafe-8eb4-404c-a371-16f40d89b159\")>,\n",
       " <selenium.webdriver.remote.webelement.WebElement (session=\"a0dbfb8e6aea98899cda803246861871\", element=\"8d8a7e1e-a4c2-45a2-b184-b9f6c672ed3b\")>,\n",
       " <selenium.webdriver.remote.webelement.WebElement (session=\"a0dbfb8e6aea98899cda803246861871\", element=\"906fcfc2-fbc0-47ca-a0e7-73704bf4259f\")>,\n",
       " <selenium.webdriver.remote.webelement.WebElement (session=\"a0dbfb8e6aea98899cda803246861871\", element=\"1a3b913e-5d8f-46c7-928b-29f87bf4c60d\")>,\n",
       " <selenium.webdriver.remote.webelement.WebElement (session=\"a0dbfb8e6aea98899cda803246861871\", element=\"82267764-f1a0-46ab-b2ee-7a07d0ff2834\")>,\n",
       " <selenium.webdriver.remote.webelement.WebElement (session=\"a0dbfb8e6aea98899cda803246861871\", element=\"10e69d05-4313-453f-ae2f-5d82baee0f1c\")>,\n",
       " <selenium.webdriver.remote.webelement.WebElement (session=\"a0dbfb8e6aea98899cda803246861871\", element=\"815332e7-752c-42f0-8cb7-ea4928727fe3\")>]"
      ]
     },
     "execution_count": 10,
     "metadata": {},
     "output_type": "execute_result"
    }
   ],
   "source": [
    "# Let's extract all web elements having job titles\n",
    "title_tags = driver.find_elements(By.XPATH,'//a[@class=\"title fw500 ellipsis\"]')\n",
    "title_tags[0:10]"
   ]
  },
  {
   "cell_type": "code",
   "execution_count": 11,
   "id": "de1b3b03",
   "metadata": {},
   "outputs": [
    {
     "data": {
      "text/plain": [
       "['Software Technical Expert - Data Analyst',\n",
       " 'Reference Data Analyst',\n",
       " 'Sales Data Analyst',\n",
       " 'Data Analyst',\n",
       " 'Big data analyst',\n",
       " 'Data Analyst/Senior Data Analyst',\n",
       " 'Data Analyst - Marketplace',\n",
       " 'Hiring Data Analysts - Virtusa',\n",
       " 'Data Analyst 2',\n",
       " 'Senior Data Analyst II']"
      ]
     },
     "execution_count": 11,
     "metadata": {},
     "output_type": "execute_result"
    }
   ],
   "source": [
    "# Now the text of job title is inside the web elements extracted above\n",
    "# so we will run a for loop to iterate over the tags and will extract\n",
    "job_titles = []\n",
    "for i in title_tags:\n",
    "    job_titles.append(i.text)\n",
    "job_titles[0:10]"
   ]
  },
  {
   "cell_type": "markdown",
   "id": "d9ff7a6d",
   "metadata": {},
   "source": [
    "# Extracting company names"
   ]
  },
  {
   "cell_type": "code",
   "execution_count": 12,
   "id": "fa1da54a",
   "metadata": {},
   "outputs": [
    {
     "data": {
      "text/plain": [
       "[<selenium.webdriver.remote.webelement.WebElement (session=\"a0dbfb8e6aea98899cda803246861871\", element=\"ec8d72c6-a2a9-434f-bd2d-5d6c5549927b\")>,\n",
       " <selenium.webdriver.remote.webelement.WebElement (session=\"a0dbfb8e6aea98899cda803246861871\", element=\"8c66dffc-f3eb-4e4f-9805-0b755ddf4985\")>,\n",
       " <selenium.webdriver.remote.webelement.WebElement (session=\"a0dbfb8e6aea98899cda803246861871\", element=\"c3654586-b64c-448e-bab5-34b1b0523b82\")>,\n",
       " <selenium.webdriver.remote.webelement.WebElement (session=\"a0dbfb8e6aea98899cda803246861871\", element=\"b8580406-2fad-4442-a538-3c7a6f06d1dc\")>,\n",
       " <selenium.webdriver.remote.webelement.WebElement (session=\"a0dbfb8e6aea98899cda803246861871\", element=\"febb91cc-5377-440b-83a6-ffe38ac489a4\")>,\n",
       " <selenium.webdriver.remote.webelement.WebElement (session=\"a0dbfb8e6aea98899cda803246861871\", element=\"6d3e11c6-9418-496b-88ef-baf529f33531\")>,\n",
       " <selenium.webdriver.remote.webelement.WebElement (session=\"a0dbfb8e6aea98899cda803246861871\", element=\"fb2a22f8-1202-4377-9d3c-b53281f2908c\")>,\n",
       " <selenium.webdriver.remote.webelement.WebElement (session=\"a0dbfb8e6aea98899cda803246861871\", element=\"37ec2326-046c-451f-9524-9f7cc3ca38e6\")>,\n",
       " <selenium.webdriver.remote.webelement.WebElement (session=\"a0dbfb8e6aea98899cda803246861871\", element=\"4f376f63-50d2-43ca-9194-670658a4730f\")>,\n",
       " <selenium.webdriver.remote.webelement.WebElement (session=\"a0dbfb8e6aea98899cda803246861871\", element=\"9ade77fe-0c6f-479c-84e4-8f9b7f71616f\")>]"
      ]
     },
     "execution_count": 12,
     "metadata": {},
     "output_type": "execute_result"
    }
   ],
   "source": [
    "# Let's exrtract all web elements having company name\n",
    "company_tags = driver.find_elements(By.XPATH,'//a[@class=\"subTitle ellipsis fleft\"]')\n",
    "company_tags[0:10]"
   ]
  },
  {
   "cell_type": "code",
   "execution_count": 13,
   "id": "d2111e27",
   "metadata": {},
   "outputs": [
    {
     "data": {
      "text/plain": [
       "['Schneider Electric',\n",
       " 'Deutsche Bank',\n",
       " 'NUANCE INDIA PVT LTD',\n",
       " 'Jio',\n",
       " 'Accolite Software India Pvt Ltd',\n",
       " 'Meesho',\n",
       " 'Gojek',\n",
       " 'Virtusa',\n",
       " 'PayPal',\n",
       " 'Flipkart']"
      ]
     },
     "execution_count": 13,
     "metadata": {},
     "output_type": "execute_result"
    }
   ],
   "source": [
    "# so we will run a for loop to iterate over the tags and will extract\n",
    "company_names = []\n",
    "for i in company_tags:\n",
    "    company_names.append(i.text)\n",
    "company_names[0:10]"
   ]
  },
  {
   "cell_type": "markdown",
   "id": "cead2037",
   "metadata": {},
   "source": [
    "# Extracting Experience"
   ]
  },
  {
   "cell_type": "code",
   "execution_count": 14,
   "id": "320de9f2",
   "metadata": {},
   "outputs": [
    {
     "data": {
      "text/plain": [
       "[<selenium.webdriver.remote.webelement.WebElement (session=\"a0dbfb8e6aea98899cda803246861871\", element=\"ac1e3ef3-282d-4eef-82be-ea73762901b9\")>,\n",
       " <selenium.webdriver.remote.webelement.WebElement (session=\"a0dbfb8e6aea98899cda803246861871\", element=\"473ea286-a131-4f4b-90d8-3fae272b3ce2\")>,\n",
       " <selenium.webdriver.remote.webelement.WebElement (session=\"a0dbfb8e6aea98899cda803246861871\", element=\"0ec31b89-1d17-454e-bfa0-a7f07d08d895\")>,\n",
       " <selenium.webdriver.remote.webelement.WebElement (session=\"a0dbfb8e6aea98899cda803246861871\", element=\"befa61e3-9b9e-4843-882b-4500e2bee837\")>,\n",
       " <selenium.webdriver.remote.webelement.WebElement (session=\"a0dbfb8e6aea98899cda803246861871\", element=\"6454e14e-90b1-4b26-b94e-57132698cc1b\")>,\n",
       " <selenium.webdriver.remote.webelement.WebElement (session=\"a0dbfb8e6aea98899cda803246861871\", element=\"e2116c8e-90af-41c1-ae6c-aaa31651886b\")>,\n",
       " <selenium.webdriver.remote.webelement.WebElement (session=\"a0dbfb8e6aea98899cda803246861871\", element=\"2aa06cb1-da28-49a6-b056-e4eaa78cfb10\")>,\n",
       " <selenium.webdriver.remote.webelement.WebElement (session=\"a0dbfb8e6aea98899cda803246861871\", element=\"5cc47ae4-f8d3-4e71-838f-16eb7dcbd0fd\")>,\n",
       " <selenium.webdriver.remote.webelement.WebElement (session=\"a0dbfb8e6aea98899cda803246861871\", element=\"71c0bd89-8a9d-42e3-9fa6-153571a38c3b\")>,\n",
       " <selenium.webdriver.remote.webelement.WebElement (session=\"a0dbfb8e6aea98899cda803246861871\", element=\"bd23f489-646d-429d-ab80-c8d2a2615b27\")>]"
      ]
     },
     "execution_count": 14,
     "metadata": {},
     "output_type": "execute_result"
    }
   ],
   "source": [
    "# Let's exrtract all web elements having experience using parent tag\n",
    "exp_tags = driver.find_elements(By.XPATH,'//li[@class=\"fleft grey-text br2 placeHolderLi experience\"]')\n",
    "exp_tags[0:10]"
   ]
  },
  {
   "cell_type": "code",
   "execution_count": 15,
   "id": "126c92db",
   "metadata": {},
   "outputs": [
    {
     "data": {
      "text/plain": [
       "['3-6 Yrs',\n",
       " '2-5 Yrs',\n",
       " '1-3 Yrs',\n",
       " '8-11 Yrs',\n",
       " '2-6 Yrs',\n",
       " '3-6 Yrs',\n",
       " '3-7 Yrs',\n",
       " '4-8 Yrs',\n",
       " '1-3 Yrs',\n",
       " '3-6 Yrs']"
      ]
     },
     "execution_count": 15,
     "metadata": {},
     "output_type": "execute_result"
    }
   ],
   "source": [
    "# so we will run a for loop to iterate over the tags and will extract\n",
    "experience = []\n",
    "for i in exp_tags:\n",
    "    experience.append(i.text)\n",
    "experience[0:10]"
   ]
  },
  {
   "cell_type": "markdown",
   "id": "b10fc8c9",
   "metadata": {},
   "source": [
    "# Extracting Location"
   ]
  },
  {
   "cell_type": "code",
   "execution_count": 16,
   "id": "44003de0",
   "metadata": {},
   "outputs": [
    {
     "data": {
      "text/plain": [
       "[<selenium.webdriver.remote.webelement.WebElement (session=\"a0dbfb8e6aea98899cda803246861871\", element=\"cd3fc805-13e3-450d-b7d6-7ae6d4e6c935\")>,\n",
       " <selenium.webdriver.remote.webelement.WebElement (session=\"a0dbfb8e6aea98899cda803246861871\", element=\"e6cad4eb-4737-4666-83c6-30709303aa86\")>,\n",
       " <selenium.webdriver.remote.webelement.WebElement (session=\"a0dbfb8e6aea98899cda803246861871\", element=\"79edbca6-b516-490d-9d93-9a04d9b29732\")>,\n",
       " <selenium.webdriver.remote.webelement.WebElement (session=\"a0dbfb8e6aea98899cda803246861871\", element=\"df26447c-408c-4532-a271-df5b0a118bfb\")>,\n",
       " <selenium.webdriver.remote.webelement.WebElement (session=\"a0dbfb8e6aea98899cda803246861871\", element=\"d4c41e0a-7997-410d-a357-c7d6172693be\")>,\n",
       " <selenium.webdriver.remote.webelement.WebElement (session=\"a0dbfb8e6aea98899cda803246861871\", element=\"f0a9243e-f061-479b-8e75-ade46db842b1\")>,\n",
       " <selenium.webdriver.remote.webelement.WebElement (session=\"a0dbfb8e6aea98899cda803246861871\", element=\"651832ae-6c37-403d-8422-f5514035bec8\")>,\n",
       " <selenium.webdriver.remote.webelement.WebElement (session=\"a0dbfb8e6aea98899cda803246861871\", element=\"35f8881d-ca8b-4a6d-81df-830f32640253\")>,\n",
       " <selenium.webdriver.remote.webelement.WebElement (session=\"a0dbfb8e6aea98899cda803246861871\", element=\"11f34602-d05d-4fb9-b25a-bd98da1e3fe5\")>,\n",
       " <selenium.webdriver.remote.webelement.WebElement (session=\"a0dbfb8e6aea98899cda803246861871\", element=\"c108031e-a1f7-4bbe-abb9-f53c63eecf23\")>]"
      ]
     },
     "execution_count": 16,
     "metadata": {},
     "output_type": "execute_result"
    }
   ],
   "source": [
    "# Let's exrtract all web elements having location using parent tag\n",
    "loc_tags = driver.find_elements(By.XPATH,'//li[@class=\"fleft grey-text br2 placeHolderLi location\"]')\n",
    "loc_tags[0:10]"
   ]
  },
  {
   "cell_type": "code",
   "execution_count": 17,
   "id": "f4bab056",
   "metadata": {},
   "outputs": [
    {
     "data": {
      "text/plain": [
       "['Bangalore/Bengaluru',\n",
       " 'Bangalore/Bengaluru',\n",
       " 'Bangalore/Bengaluru',\n",
       " 'Bangalore/Bengaluru',\n",
       " 'Bangalore/Bengaluru',\n",
       " 'Bangalore/Bengaluru',\n",
       " 'Bangalore/Bengaluru',\n",
       " 'Bangalore/Bengaluru, Hyderabad/Secunderabad, Pune, Chennai',\n",
       " 'Bangalore/Bengaluru',\n",
       " 'Bangalore/Bengaluru']"
      ]
     },
     "execution_count": 17,
     "metadata": {},
     "output_type": "execute_result"
    }
   ],
   "source": [
    "# so we will run a for loop to iterate over the tags and will extract\n",
    "location = []\n",
    "for i in loc_tags:\n",
    "    location.append(i.text)\n",
    "location[0:10]"
   ]
  },
  {
   "cell_type": "code",
   "execution_count": 18,
   "id": "26fb8856",
   "metadata": {},
   "outputs": [
    {
     "data": {
      "text/html": [
       "<div>\n",
       "<style scoped>\n",
       "    .dataframe tbody tr th:only-of-type {\n",
       "        vertical-align: middle;\n",
       "    }\n",
       "\n",
       "    .dataframe tbody tr th {\n",
       "        vertical-align: top;\n",
       "    }\n",
       "\n",
       "    .dataframe thead th {\n",
       "        text-align: right;\n",
       "    }\n",
       "</style>\n",
       "<table border=\"1\" class=\"dataframe\">\n",
       "  <thead>\n",
       "    <tr style=\"text-align: right;\">\n",
       "      <th></th>\n",
       "      <th>Job Title</th>\n",
       "      <th>Company Name</th>\n",
       "      <th>Experience</th>\n",
       "      <th>Location</th>\n",
       "    </tr>\n",
       "  </thead>\n",
       "  <tbody>\n",
       "    <tr>\n",
       "      <th>0</th>\n",
       "      <td>Software Technical Expert - Data Analyst</td>\n",
       "      <td>Schneider Electric</td>\n",
       "      <td>3-6 Yrs</td>\n",
       "      <td>Bangalore/Bengaluru</td>\n",
       "    </tr>\n",
       "    <tr>\n",
       "      <th>1</th>\n",
       "      <td>Reference Data Analyst</td>\n",
       "      <td>Deutsche Bank</td>\n",
       "      <td>2-5 Yrs</td>\n",
       "      <td>Bangalore/Bengaluru</td>\n",
       "    </tr>\n",
       "    <tr>\n",
       "      <th>2</th>\n",
       "      <td>Sales Data Analyst</td>\n",
       "      <td>NUANCE INDIA PVT LTD</td>\n",
       "      <td>1-3 Yrs</td>\n",
       "      <td>Bangalore/Bengaluru</td>\n",
       "    </tr>\n",
       "    <tr>\n",
       "      <th>3</th>\n",
       "      <td>Data Analyst</td>\n",
       "      <td>Jio</td>\n",
       "      <td>8-11 Yrs</td>\n",
       "      <td>Bangalore/Bengaluru</td>\n",
       "    </tr>\n",
       "    <tr>\n",
       "      <th>4</th>\n",
       "      <td>Big data analyst</td>\n",
       "      <td>Accolite Software India Pvt Ltd</td>\n",
       "      <td>2-6 Yrs</td>\n",
       "      <td>Bangalore/Bengaluru</td>\n",
       "    </tr>\n",
       "    <tr>\n",
       "      <th>5</th>\n",
       "      <td>Data Analyst/Senior Data Analyst</td>\n",
       "      <td>Meesho</td>\n",
       "      <td>3-6 Yrs</td>\n",
       "      <td>Bangalore/Bengaluru</td>\n",
       "    </tr>\n",
       "    <tr>\n",
       "      <th>6</th>\n",
       "      <td>Data Analyst - Marketplace</td>\n",
       "      <td>Gojek</td>\n",
       "      <td>3-7 Yrs</td>\n",
       "      <td>Bangalore/Bengaluru</td>\n",
       "    </tr>\n",
       "    <tr>\n",
       "      <th>7</th>\n",
       "      <td>Hiring Data Analysts - Virtusa</td>\n",
       "      <td>Virtusa</td>\n",
       "      <td>4-8 Yrs</td>\n",
       "      <td>Bangalore/Bengaluru, Hyderabad/Secunderabad, P...</td>\n",
       "    </tr>\n",
       "    <tr>\n",
       "      <th>8</th>\n",
       "      <td>Data Analyst 2</td>\n",
       "      <td>PayPal</td>\n",
       "      <td>1-3 Yrs</td>\n",
       "      <td>Bangalore/Bengaluru</td>\n",
       "    </tr>\n",
       "    <tr>\n",
       "      <th>9</th>\n",
       "      <td>Senior Data Analyst II</td>\n",
       "      <td>Flipkart</td>\n",
       "      <td>3-6 Yrs</td>\n",
       "      <td>Bangalore/Bengaluru</td>\n",
       "    </tr>\n",
       "  </tbody>\n",
       "</table>\n",
       "</div>"
      ],
      "text/plain": [
       "                                  Job Title                     Company Name  \\\n",
       "0  Software Technical Expert - Data Analyst               Schneider Electric   \n",
       "1                    Reference Data Analyst                    Deutsche Bank   \n",
       "2                        Sales Data Analyst             NUANCE INDIA PVT LTD   \n",
       "3                              Data Analyst                              Jio   \n",
       "4                          Big data analyst  Accolite Software India Pvt Ltd   \n",
       "5          Data Analyst/Senior Data Analyst                           Meesho   \n",
       "6                Data Analyst - Marketplace                            Gojek   \n",
       "7            Hiring Data Analysts - Virtusa                          Virtusa   \n",
       "8                            Data Analyst 2                           PayPal   \n",
       "9                    Senior Data Analyst II                         Flipkart   \n",
       "\n",
       "  Experience                                           Location  \n",
       "0    3-6 Yrs                                Bangalore/Bengaluru  \n",
       "1    2-5 Yrs                                Bangalore/Bengaluru  \n",
       "2    1-3 Yrs                                Bangalore/Bengaluru  \n",
       "3   8-11 Yrs                                Bangalore/Bengaluru  \n",
       "4    2-6 Yrs                                Bangalore/Bengaluru  \n",
       "5    3-6 Yrs                                Bangalore/Bengaluru  \n",
       "6    3-7 Yrs                                Bangalore/Bengaluru  \n",
       "7    4-8 Yrs  Bangalore/Bengaluru, Hyderabad/Secunderabad, P...  \n",
       "8    1-3 Yrs                                Bangalore/Bengaluru  \n",
       "9    3-6 Yrs                                Bangalore/Bengaluru  "
      ]
     },
     "execution_count": 18,
     "metadata": {},
     "output_type": "execute_result"
    }
   ],
   "source": [
    "jobs = pd.DataFrame()\n",
    "jobs['Job Title'] = job_titles\n",
    "jobs['Company Name'] = company_names\n",
    "jobs['Experience'] = experience\n",
    "jobs['Location'] = location\n",
    "jobs[0:10]"
   ]
  },
  {
   "cell_type": "markdown",
   "id": "3ea23643",
   "metadata": {},
   "source": [
    "## Answer 2 :: A program to scrape data for “Data Scientist” Job position in “Bangalore” location."
   ]
  },
  {
   "cell_type": "markdown",
   "id": "ae6eb929",
   "metadata": {},
   "source": [
    "## You have to scrape the job-title, job-location, company_name. You have to scrape first 10 jobs data."
   ]
  },
  {
   "cell_type": "code",
   "execution_count": 19,
   "id": "345e6b8c",
   "metadata": {},
   "outputs": [],
   "source": [
    "#command for open  the  automation window of browser \n",
    "driver = webdriver.Chrome('chromedriver.exe')"
   ]
  },
  {
   "cell_type": "code",
   "execution_count": 20,
   "id": "c3d1e58e",
   "metadata": {},
   "outputs": [],
   "source": [
    "url = 'https://www.naukri.com/'\n",
    "driver.get(url)"
   ]
  },
  {
   "cell_type": "code",
   "execution_count": 21,
   "id": "55a14e1a",
   "metadata": {},
   "outputs": [
    {
     "data": {
      "text/plain": [
       "<selenium.webdriver.remote.webelement.WebElement (session=\"759be299c491ab3211f98b3b4589596e\", element=\"fe88e8d5-422d-430f-8cb0-12510fbfe30d\")>"
      ]
     },
     "execution_count": 21,
     "metadata": {},
     "output_type": "execute_result"
    }
   ],
   "source": [
    "# Finding web element for search job bar using id\n",
    "search_job = driver.find_element(By.CLASS_NAME,'suggestor-input')\n",
    "search_job"
   ]
  },
  {
   "cell_type": "code",
   "execution_count": 22,
   "id": "0bd27b97",
   "metadata": {},
   "outputs": [],
   "source": [
    "search_job.send_keys('Data Scientist')"
   ]
  },
  {
   "cell_type": "code",
   "execution_count": 23,
   "id": "6bf8f0e8",
   "metadata": {},
   "outputs": [
    {
     "data": {
      "text/plain": [
       "<selenium.webdriver.remote.webelement.WebElement (session=\"759be299c491ab3211f98b3b4589596e\", element=\"5e2aaba1-5c25-4c8e-93eb-df00007aa3f7\")>"
      ]
     },
     "execution_count": 23,
     "metadata": {},
     "output_type": "execute_result"
    }
   ],
   "source": [
    "# finding web element for search loc bar using relative xpath\n",
    "search_loc = driver.find_element(By.XPATH,'/html/body/div[1]/div[2]/div[3]/div/div/div[5]/div/div/div/input')\n",
    "search_loc"
   ]
  },
  {
   "cell_type": "code",
   "execution_count": 24,
   "id": "2875c0e2",
   "metadata": {},
   "outputs": [],
   "source": [
    "# finding web element for job location bar\n",
    "search_loc.send_keys('Bangalore')"
   ]
  },
  {
   "cell_type": "code",
   "execution_count": 25,
   "id": "35130fa2",
   "metadata": {},
   "outputs": [
    {
     "data": {
      "text/plain": [
       "<selenium.webdriver.remote.webelement.WebElement (session=\"759be299c491ab3211f98b3b4589596e\", element=\"b910b5f8-6245-4f0e-bcee-4d247a655732\")>"
      ]
     },
     "execution_count": 25,
     "metadata": {},
     "output_type": "execute_result"
    }
   ],
   "source": [
    "# clicking using absolute xpath function\n",
    "search_btn = driver.find_element(By.XPATH,'/html/body/div[1]/div[2]/div[3]/div/div/div[6]')\n",
    "search_btn"
   ]
  },
  {
   "cell_type": "code",
   "execution_count": 26,
   "id": "76bab156",
   "metadata": {},
   "outputs": [],
   "source": [
    "search_btn.click()"
   ]
  },
  {
   "cell_type": "markdown",
   "id": "0208c48c",
   "metadata": {},
   "source": [
    "# Extracting job titles"
   ]
  },
  {
   "cell_type": "code",
   "execution_count": 27,
   "id": "ca09a409",
   "metadata": {},
   "outputs": [
    {
     "data": {
      "text/plain": [
       "[<selenium.webdriver.remote.webelement.WebElement (session=\"759be299c491ab3211f98b3b4589596e\", element=\"58abbf62-5177-4a03-a325-233ac2005627\")>,\n",
       " <selenium.webdriver.remote.webelement.WebElement (session=\"759be299c491ab3211f98b3b4589596e\", element=\"4f1d08cc-86d4-49fa-bd49-d779d371a1e5\")>,\n",
       " <selenium.webdriver.remote.webelement.WebElement (session=\"759be299c491ab3211f98b3b4589596e\", element=\"c0c3cb05-c4db-452f-9554-3ddf22b1ce36\")>,\n",
       " <selenium.webdriver.remote.webelement.WebElement (session=\"759be299c491ab3211f98b3b4589596e\", element=\"7a5c7e56-fbe6-4503-bf1e-44d587544244\")>,\n",
       " <selenium.webdriver.remote.webelement.WebElement (session=\"759be299c491ab3211f98b3b4589596e\", element=\"d67fd5e0-c130-4cf3-a3da-ea5014233f55\")>,\n",
       " <selenium.webdriver.remote.webelement.WebElement (session=\"759be299c491ab3211f98b3b4589596e\", element=\"27f4d38d-db58-4fa7-9841-4129689d76e4\")>,\n",
       " <selenium.webdriver.remote.webelement.WebElement (session=\"759be299c491ab3211f98b3b4589596e\", element=\"4e107ada-a6aa-4676-972e-588b2c1240b1\")>,\n",
       " <selenium.webdriver.remote.webelement.WebElement (session=\"759be299c491ab3211f98b3b4589596e\", element=\"e2252ceb-9e45-431a-a405-c2bf79227a9e\")>,\n",
       " <selenium.webdriver.remote.webelement.WebElement (session=\"759be299c491ab3211f98b3b4589596e\", element=\"810906ab-095a-49fa-af68-4837e323e886\")>,\n",
       " <selenium.webdriver.remote.webelement.WebElement (session=\"759be299c491ab3211f98b3b4589596e\", element=\"9e362b71-3130-425d-ae0b-cebfd3e129ae\")>]"
      ]
     },
     "execution_count": 27,
     "metadata": {},
     "output_type": "execute_result"
    }
   ],
   "source": [
    "# Let's extract all web elements having job titles\n",
    "title_tags = driver.find_elements(By.XPATH,'//a[@class=\"title fw500 ellipsis\"]')\n",
    "title_tags[0:10]"
   ]
  },
  {
   "cell_type": "code",
   "execution_count": 28,
   "id": "677d7670",
   "metadata": {},
   "outputs": [
    {
     "data": {
      "text/plain": [
       "['Urgent Job Opening For AI Practitioner - Data Science at Wipro Holmes',\n",
       " 'Dataiku Consultant',\n",
       " 'Research and Development -AI/ML -(PhD )',\n",
       " 'Opportunity For Data Scientist - Female Candidates ONLY',\n",
       " 'Data Scientist: Artificial Intelligence',\n",
       " 'Data Scientist - IN3',\n",
       " 'Data Scientist - IN3',\n",
       " 'Opening For SAS Data Scientist_Senior (MNC_Big4)',\n",
       " 'Opening For SAS Data Scientist_Senior (MNC_Big4)',\n",
       " 'Senior Data Science Engineer']"
      ]
     },
     "execution_count": 28,
     "metadata": {},
     "output_type": "execute_result"
    }
   ],
   "source": [
    "# Now the text of job title is inside the web elements extracted above\n",
    "# so we will run a for loop to iterate over the tags and will extract\n",
    "job_titles = []\n",
    "for i in title_tags:\n",
    "    job_titles.append(i.text)\n",
    "job_titles[0:10]"
   ]
  },
  {
   "cell_type": "markdown",
   "id": "1530dcb5",
   "metadata": {},
   "source": [
    "# Extracting company names"
   ]
  },
  {
   "cell_type": "code",
   "execution_count": 29,
   "id": "a615fbeb",
   "metadata": {},
   "outputs": [
    {
     "data": {
      "text/plain": [
       "[<selenium.webdriver.remote.webelement.WebElement (session=\"759be299c491ab3211f98b3b4589596e\", element=\"feef006a-ae5b-4982-a749-f6a5e7280bc1\")>,\n",
       " <selenium.webdriver.remote.webelement.WebElement (session=\"759be299c491ab3211f98b3b4589596e\", element=\"313153d1-f14f-41d6-b9b8-4a3900e8f217\")>,\n",
       " <selenium.webdriver.remote.webelement.WebElement (session=\"759be299c491ab3211f98b3b4589596e\", element=\"8558bb3d-597f-401e-8e70-4f82578ada84\")>,\n",
       " <selenium.webdriver.remote.webelement.WebElement (session=\"759be299c491ab3211f98b3b4589596e\", element=\"8cbefa75-47d1-4692-ae15-1c276a4c8bc7\")>,\n",
       " <selenium.webdriver.remote.webelement.WebElement (session=\"759be299c491ab3211f98b3b4589596e\", element=\"f6d17772-8e89-4818-8316-f86b8fa11cda\")>,\n",
       " <selenium.webdriver.remote.webelement.WebElement (session=\"759be299c491ab3211f98b3b4589596e\", element=\"8439eb4e-9b87-4771-8ea6-ee1a4ce9facc\")>,\n",
       " <selenium.webdriver.remote.webelement.WebElement (session=\"759be299c491ab3211f98b3b4589596e\", element=\"f511b158-94f2-4ed8-842c-1b188623de3f\")>,\n",
       " <selenium.webdriver.remote.webelement.WebElement (session=\"759be299c491ab3211f98b3b4589596e\", element=\"cc7b5a45-a3e9-42d5-8e81-f9610889227e\")>,\n",
       " <selenium.webdriver.remote.webelement.WebElement (session=\"759be299c491ab3211f98b3b4589596e\", element=\"a0b0fe57-853f-4174-b5f9-88c7d81b7275\")>,\n",
       " <selenium.webdriver.remote.webelement.WebElement (session=\"759be299c491ab3211f98b3b4589596e\", element=\"de00a4f6-a5d2-4130-9b37-b122c004548e\")>]"
      ]
     },
     "execution_count": 29,
     "metadata": {},
     "output_type": "execute_result"
    }
   ],
   "source": [
    "# Let's exrtract all web elements having company name\n",
    "company_tags = driver.find_elements(By.XPATH,'//a[@class=\"subTitle ellipsis fleft\"]')\n",
    "company_tags[0:10]"
   ]
  },
  {
   "cell_type": "code",
   "execution_count": 30,
   "id": "ec9f2464",
   "metadata": {},
   "outputs": [
    {
     "data": {
      "text/plain": [
       "['Wipro',\n",
       " 'Wipro',\n",
       " 'EXL',\n",
       " 'PayU',\n",
       " 'IBM',\n",
       " 'Walmart',\n",
       " 'Walmart',\n",
       " 'Allegis Services India Pvt. Ltd.',\n",
       " 'Allegis Services India Pvt. Ltd.',\n",
       " 'Fractal Analytics']"
      ]
     },
     "execution_count": 30,
     "metadata": {},
     "output_type": "execute_result"
    }
   ],
   "source": [
    "# so we will run a for loop to iterate over the tags and will extract\n",
    "company_names = []\n",
    "for i in company_tags:\n",
    "    company_names.append(i.text)\n",
    "company_names[0:10]"
   ]
  },
  {
   "cell_type": "markdown",
   "id": "10d323d8",
   "metadata": {},
   "source": [
    "# Extracting Location"
   ]
  },
  {
   "cell_type": "code",
   "execution_count": 31,
   "id": "fe441e27",
   "metadata": {},
   "outputs": [
    {
     "data": {
      "text/plain": [
       "[<selenium.webdriver.remote.webelement.WebElement (session=\"759be299c491ab3211f98b3b4589596e\", element=\"6d0396a4-bdc0-4b44-980c-886d20ee5ac8\")>,\n",
       " <selenium.webdriver.remote.webelement.WebElement (session=\"759be299c491ab3211f98b3b4589596e\", element=\"40e21f01-be26-422c-8fd4-c9146cf874d9\")>,\n",
       " <selenium.webdriver.remote.webelement.WebElement (session=\"759be299c491ab3211f98b3b4589596e\", element=\"31d24b71-701a-4340-8729-660fed531ea2\")>,\n",
       " <selenium.webdriver.remote.webelement.WebElement (session=\"759be299c491ab3211f98b3b4589596e\", element=\"440e1b52-eb8e-4dcb-bb6a-34415c44a4ee\")>,\n",
       " <selenium.webdriver.remote.webelement.WebElement (session=\"759be299c491ab3211f98b3b4589596e\", element=\"1692ce3a-83b8-47d7-b081-342e63f4a3e7\")>,\n",
       " <selenium.webdriver.remote.webelement.WebElement (session=\"759be299c491ab3211f98b3b4589596e\", element=\"edc65496-3477-4db9-803c-b48496048879\")>,\n",
       " <selenium.webdriver.remote.webelement.WebElement (session=\"759be299c491ab3211f98b3b4589596e\", element=\"0ee81215-da6b-4f13-91c3-b75c10622c37\")>,\n",
       " <selenium.webdriver.remote.webelement.WebElement (session=\"759be299c491ab3211f98b3b4589596e\", element=\"32884f7a-6af1-431a-9072-cbab827fae86\")>,\n",
       " <selenium.webdriver.remote.webelement.WebElement (session=\"759be299c491ab3211f98b3b4589596e\", element=\"6570ad86-2835-41fb-8302-90ba2457683f\")>,\n",
       " <selenium.webdriver.remote.webelement.WebElement (session=\"759be299c491ab3211f98b3b4589596e\", element=\"4fbe211c-e1b5-442c-8547-1b293cf9514d\")>]"
      ]
     },
     "execution_count": 31,
     "metadata": {},
     "output_type": "execute_result"
    }
   ],
   "source": [
    "# Let's exrtract all web elements having location using parent tag\n",
    "loc_tags = driver.find_elements(By.XPATH,'//li[@class=\"fleft grey-text br2 placeHolderLi location\"]')\n",
    "loc_tags[0:10]"
   ]
  },
  {
   "cell_type": "code",
   "execution_count": 32,
   "id": "d48cdf62",
   "metadata": {},
   "outputs": [
    {
     "data": {
      "text/plain": [
       "['Bangalore/Bengaluru, Kochi/Cochin, New Delhi, Coimbatore, Chennai, Pune, Mumbai, Hyderabad',\n",
       " 'Bangalore/Bengaluru, Pune, Chennai',\n",
       " 'Bangalore/Bengaluru, Noida, Hyderabad/Secunderabad, Pune, Gurgaon/Gurugram, Chennai, Delhi / NCR',\n",
       " 'Bangalore/Bengaluru, Gurgaon/Gurugram, Mumbai (All Areas)',\n",
       " 'Bangalore/Bengaluru',\n",
       " 'Bangalore/Bengaluru',\n",
       " 'Bangalore/Bengaluru',\n",
       " 'Bangalore/Bengaluru, Kolkata, Hyderabad/Secunderabad',\n",
       " 'Bangalore/Bengaluru, Kolkata, Hyderabad/Secunderabad',\n",
       " 'Bangalore/Bengaluru, Gurgaon/Gurugram, Mumbai (All Areas)']"
      ]
     },
     "execution_count": 32,
     "metadata": {},
     "output_type": "execute_result"
    }
   ],
   "source": [
    "# so we will run a for loop to iterate over the tags and will extract\n",
    "location = []\n",
    "for i in loc_tags:\n",
    "    location.append(i.text)\n",
    "location[0:10]"
   ]
  },
  {
   "cell_type": "code",
   "execution_count": 33,
   "id": "011f0686",
   "metadata": {},
   "outputs": [
    {
     "data": {
      "text/html": [
       "<div>\n",
       "<style scoped>\n",
       "    .dataframe tbody tr th:only-of-type {\n",
       "        vertical-align: middle;\n",
       "    }\n",
       "\n",
       "    .dataframe tbody tr th {\n",
       "        vertical-align: top;\n",
       "    }\n",
       "\n",
       "    .dataframe thead th {\n",
       "        text-align: right;\n",
       "    }\n",
       "</style>\n",
       "<table border=\"1\" class=\"dataframe\">\n",
       "  <thead>\n",
       "    <tr style=\"text-align: right;\">\n",
       "      <th></th>\n",
       "      <th>Job Title</th>\n",
       "      <th>Company Name</th>\n",
       "      <th>Location</th>\n",
       "    </tr>\n",
       "  </thead>\n",
       "  <tbody>\n",
       "    <tr>\n",
       "      <th>0</th>\n",
       "      <td>Urgent Job Opening For AI Practitioner - Data ...</td>\n",
       "      <td>Wipro</td>\n",
       "      <td>Bangalore/Bengaluru, Kochi/Cochin, New Delhi, ...</td>\n",
       "    </tr>\n",
       "    <tr>\n",
       "      <th>1</th>\n",
       "      <td>Dataiku Consultant</td>\n",
       "      <td>Wipro</td>\n",
       "      <td>Bangalore/Bengaluru, Pune, Chennai</td>\n",
       "    </tr>\n",
       "    <tr>\n",
       "      <th>2</th>\n",
       "      <td>Research and Development -AI/ML -(PhD )</td>\n",
       "      <td>EXL</td>\n",
       "      <td>Bangalore/Bengaluru, Noida, Hyderabad/Secunder...</td>\n",
       "    </tr>\n",
       "    <tr>\n",
       "      <th>3</th>\n",
       "      <td>Opportunity For Data Scientist - Female Candid...</td>\n",
       "      <td>PayU</td>\n",
       "      <td>Bangalore/Bengaluru, Gurgaon/Gurugram, Mumbai ...</td>\n",
       "    </tr>\n",
       "    <tr>\n",
       "      <th>4</th>\n",
       "      <td>Data Scientist: Artificial Intelligence</td>\n",
       "      <td>IBM</td>\n",
       "      <td>Bangalore/Bengaluru</td>\n",
       "    </tr>\n",
       "    <tr>\n",
       "      <th>5</th>\n",
       "      <td>Data Scientist - IN3</td>\n",
       "      <td>Walmart</td>\n",
       "      <td>Bangalore/Bengaluru</td>\n",
       "    </tr>\n",
       "    <tr>\n",
       "      <th>6</th>\n",
       "      <td>Data Scientist - IN3</td>\n",
       "      <td>Walmart</td>\n",
       "      <td>Bangalore/Bengaluru</td>\n",
       "    </tr>\n",
       "    <tr>\n",
       "      <th>7</th>\n",
       "      <td>Opening For SAS Data Scientist_Senior (MNC_Big4)</td>\n",
       "      <td>Allegis Services India Pvt. Ltd.</td>\n",
       "      <td>Bangalore/Bengaluru, Kolkata, Hyderabad/Secund...</td>\n",
       "    </tr>\n",
       "    <tr>\n",
       "      <th>8</th>\n",
       "      <td>Opening For SAS Data Scientist_Senior (MNC_Big4)</td>\n",
       "      <td>Allegis Services India Pvt. Ltd.</td>\n",
       "      <td>Bangalore/Bengaluru, Kolkata, Hyderabad/Secund...</td>\n",
       "    </tr>\n",
       "    <tr>\n",
       "      <th>9</th>\n",
       "      <td>Senior Data Science Engineer</td>\n",
       "      <td>Fractal Analytics</td>\n",
       "      <td>Bangalore/Bengaluru, Gurgaon/Gurugram, Mumbai ...</td>\n",
       "    </tr>\n",
       "  </tbody>\n",
       "</table>\n",
       "</div>"
      ],
      "text/plain": [
       "                                           Job Title  \\\n",
       "0  Urgent Job Opening For AI Practitioner - Data ...   \n",
       "1                                 Dataiku Consultant   \n",
       "2            Research and Development -AI/ML -(PhD )   \n",
       "3  Opportunity For Data Scientist - Female Candid...   \n",
       "4            Data Scientist: Artificial Intelligence   \n",
       "5                               Data Scientist - IN3   \n",
       "6                               Data Scientist - IN3   \n",
       "7   Opening For SAS Data Scientist_Senior (MNC_Big4)   \n",
       "8   Opening For SAS Data Scientist_Senior (MNC_Big4)   \n",
       "9                       Senior Data Science Engineer   \n",
       "\n",
       "                       Company Name  \\\n",
       "0                             Wipro   \n",
       "1                             Wipro   \n",
       "2                               EXL   \n",
       "3                              PayU   \n",
       "4                               IBM   \n",
       "5                           Walmart   \n",
       "6                           Walmart   \n",
       "7  Allegis Services India Pvt. Ltd.   \n",
       "8  Allegis Services India Pvt. Ltd.   \n",
       "9                 Fractal Analytics   \n",
       "\n",
       "                                            Location  \n",
       "0  Bangalore/Bengaluru, Kochi/Cochin, New Delhi, ...  \n",
       "1                 Bangalore/Bengaluru, Pune, Chennai  \n",
       "2  Bangalore/Bengaluru, Noida, Hyderabad/Secunder...  \n",
       "3  Bangalore/Bengaluru, Gurgaon/Gurugram, Mumbai ...  \n",
       "4                                Bangalore/Bengaluru  \n",
       "5                                Bangalore/Bengaluru  \n",
       "6                                Bangalore/Bengaluru  \n",
       "7  Bangalore/Bengaluru, Kolkata, Hyderabad/Secund...  \n",
       "8  Bangalore/Bengaluru, Kolkata, Hyderabad/Secund...  \n",
       "9  Bangalore/Bengaluru, Gurgaon/Gurugram, Mumbai ...  "
      ]
     },
     "execution_count": 33,
     "metadata": {},
     "output_type": "execute_result"
    }
   ],
   "source": [
    "jobs = pd.DataFrame()\n",
    "jobs['Job Title'] = job_titles\n",
    "jobs['Company Name'] = company_names\n",
    "jobs['Location'] = location\n",
    "jobs[0:10]"
   ]
  },
  {
   "cell_type": "markdown",
   "id": "819e1a57",
   "metadata": {},
   "source": [
    "Thus we have extracted the 10 data columns for the role Data scientist from naukri .com"
   ]
  },
  {
   "cell_type": "markdown",
   "id": "aa164853",
   "metadata": {},
   "source": [
    "#### Answer 3 u have to use the location and salary filter."
   ]
  },
  {
   "cell_type": "markdown",
   "id": "74309d96",
   "metadata": {},
   "source": [
    "#### You have to scrape data for “Data Scientist” designation for first 10 job results."
   ]
  },
  {
   "cell_type": "markdown",
   "id": "3be0c202",
   "metadata": {},
   "source": [
    "#### You have to scrape the job-title, job-location, company name, experience required."
   ]
  },
  {
   "cell_type": "markdown",
   "id": "23ce0364",
   "metadata": {},
   "source": [
    "#### The location filter to be used is “Delhi/NCR”. The salary filter to be used is “3-6” lakhs from naukri.com"
   ]
  },
  {
   "cell_type": "code",
   "execution_count": 122,
   "id": "0ee75526",
   "metadata": {},
   "outputs": [],
   "source": [
    "#command for open  the  automation window of browser \n",
    "driver = webdriver.Chrome('chromedriver.exe')"
   ]
  },
  {
   "cell_type": "code",
   "execution_count": 123,
   "id": "163f604a",
   "metadata": {},
   "outputs": [],
   "source": [
    "url = 'https://www.naukri.com/'\n",
    "driver.get(url)"
   ]
  },
  {
   "cell_type": "code",
   "execution_count": 124,
   "id": "d4f8049a",
   "metadata": {},
   "outputs": [
    {
     "data": {
      "text/plain": [
       "<selenium.webdriver.remote.webelement.WebElement (session=\"5398339f211eb3153cfe1fe06dd8c800\", element=\"4c35e1ca-af9b-4d34-ae7f-d6effcc1ce26\")>"
      ]
     },
     "execution_count": 124,
     "metadata": {},
     "output_type": "execute_result"
    }
   ],
   "source": [
    "# Finding web element for search job bar using id\n",
    "search_job = driver.find_element(By.CLASS_NAME,'suggestor-input')\n",
    "search_job"
   ]
  },
  {
   "cell_type": "code",
   "execution_count": 125,
   "id": "41d2cb91",
   "metadata": {},
   "outputs": [],
   "source": [
    "search_job.send_keys('Data Scientist')"
   ]
  },
  {
   "cell_type": "code",
   "execution_count": 126,
   "id": "c08b75aa",
   "metadata": {},
   "outputs": [
    {
     "data": {
      "text/plain": [
       "<selenium.webdriver.remote.webelement.WebElement (session=\"5398339f211eb3153cfe1fe06dd8c800\", element=\"97f49c44-54ff-4a77-947e-2f6fc4e8b1fc\")>"
      ]
     },
     "execution_count": 126,
     "metadata": {},
     "output_type": "execute_result"
    }
   ],
   "source": [
    "# clicking using absolute xpath function\n",
    "search_btn = driver.find_element(By.XPATH,'/html/body/div[1]/div[2]/div[3]/div/div/div[6]')\n",
    "search_btn"
   ]
  },
  {
   "cell_type": "code",
   "execution_count": 127,
   "id": "c421d8b9",
   "metadata": {},
   "outputs": [],
   "source": [
    "search_btn.click()"
   ]
  },
  {
   "cell_type": "code",
   "execution_count": 128,
   "id": "48ff419d",
   "metadata": {},
   "outputs": [
    {
     "data": {
      "text/plain": [
       "<selenium.webdriver.remote.webelement.WebElement (session=\"5398339f211eb3153cfe1fe06dd8c800\", element=\"1dd44962-5a82-40b5-a2f2-14669f52bc86\")>"
      ]
     },
     "execution_count": 128,
     "metadata": {},
     "output_type": "execute_result"
    }
   ],
   "source": [
    "loc_check = driver.find_element(By.XPATH,'/html/body/div[1]/div[3]/div[2]/section[1]/div[2]/div[5]/div[2]/div[3]/label/p')\n",
    "loc_check"
   ]
  },
  {
   "cell_type": "code",
   "execution_count": 129,
   "id": "26438d69",
   "metadata": {},
   "outputs": [],
   "source": [
    "loc_check.click()"
   ]
  },
  {
   "cell_type": "code",
   "execution_count": 130,
   "id": "12bdeb9b",
   "metadata": {},
   "outputs": [
    {
     "data": {
      "text/plain": [
       "<selenium.webdriver.remote.webelement.WebElement (session=\"5398339f211eb3153cfe1fe06dd8c800\", element=\"e9900165-b76c-4bbe-9400-afffe6df4c2d\")>"
      ]
     },
     "execution_count": 130,
     "metadata": {},
     "output_type": "execute_result"
    }
   ],
   "source": [
    "salary_check = driver.find_element(By.XPATH,'/html/body/div[1]/div[3]/div[2]/section[1]/div[2]/div[6]/div[2]/div[1]/label/p/span[1]')\n",
    "salary_check"
   ]
  },
  {
   "cell_type": "code",
   "execution_count": 131,
   "id": "ea0868f3",
   "metadata": {},
   "outputs": [],
   "source": [
    "salary_check.click()"
   ]
  },
  {
   "cell_type": "code",
   "execution_count": 152,
   "id": "15f2ee42",
   "metadata": {},
   "outputs": [
    {
     "data": {
      "text/plain": [
       "6"
      ]
     },
     "execution_count": 152,
     "metadata": {},
     "output_type": "execute_result"
    }
   ],
   "source": [
    "# Let's extract all web elements having job titles\n",
    "title_tags = driver.find_elements(By.XPATH,'//a[@class=\"title fw500 ellipsis\"]')\n",
    "len(title_tags)"
   ]
  },
  {
   "cell_type": "code",
   "execution_count": 154,
   "id": "c7775af1",
   "metadata": {},
   "outputs": [
    {
     "data": {
      "text/plain": [
       "6"
      ]
     },
     "execution_count": 154,
     "metadata": {},
     "output_type": "execute_result"
    }
   ],
   "source": [
    "# Now the text of job title is inside the web elements extracted above\n",
    "# so we will run a for loop to iterate over the tags and will extract\n",
    "job_titles = []\n",
    "for i in title_tags:\n",
    "    job_titles.append(i.text)\n",
    "len(job_titles)"
   ]
  },
  {
   "cell_type": "code",
   "execution_count": 156,
   "id": "c182560f",
   "metadata": {},
   "outputs": [
    {
     "data": {
      "text/plain": [
       "['Hiring For Data Science Intern- DataTrained Education',\n",
       " 'Data Scientist',\n",
       " 'Data Scientist',\n",
       " 'Data Science',\n",
       " 'Data Science',\n",
       " 'Data Scientist']"
      ]
     },
     "execution_count": 156,
     "metadata": {},
     "output_type": "execute_result"
    }
   ],
   "source": [
    "job_titles"
   ]
  },
  {
   "cell_type": "code",
   "execution_count": 132,
   "id": "e3e43777",
   "metadata": {},
   "outputs": [
    {
     "data": {
      "text/plain": [
       "6"
      ]
     },
     "execution_count": 132,
     "metadata": {},
     "output_type": "execute_result"
    }
   ],
   "source": [
    "# Let's exrtract all web elements having location using parent tag\n",
    "loc_tags = driver.find_elements(By.XPATH,'//li[@class=\"fleft grey-text br2 placeHolderLi location\"]')\n",
    "len(loc_tags)"
   ]
  },
  {
   "cell_type": "code",
   "execution_count": 133,
   "id": "e115fbb5",
   "metadata": {},
   "outputs": [
    {
     "data": {
      "text/plain": [
       "6"
      ]
     },
     "execution_count": 133,
     "metadata": {},
     "output_type": "execute_result"
    }
   ],
   "source": [
    "# so we will run a for loop to iterate over the tags and will extract\n",
    "location = []\n",
    "for i in loc_tags:\n",
    "    location.append(i.text)\n",
    "len(location)"
   ]
  },
  {
   "cell_type": "code",
   "execution_count": 157,
   "id": "cd39872e",
   "metadata": {},
   "outputs": [
    {
     "data": {
      "text/plain": [
       "['Delhi / NCR, Gurgaon/Gurugram, Bangalore/Bengaluru',\n",
       " 'Delhi / NCR, Pune, Bangalore/Bengaluru',\n",
       " 'Delhi / NCR, Pune, Bangalore/Bengaluru',\n",
       " 'Delhi / NCR, Noida, Faridabad, Gurgaon/Gurugram, Bangalore/Bengaluru, Greater Noida',\n",
       " 'Delhi / NCR, Noida, Faridabad, Gurgaon/Gurugram, Bangalore/Bengaluru, Greater Noida',\n",
       " 'Gurgaon/Gurugram']"
      ]
     },
     "execution_count": 157,
     "metadata": {},
     "output_type": "execute_result"
    }
   ],
   "source": [
    "location"
   ]
  },
  {
   "cell_type": "code",
   "execution_count": 159,
   "id": "a2a87d37",
   "metadata": {},
   "outputs": [
    {
     "data": {
      "text/plain": [
       "6"
      ]
     },
     "execution_count": 159,
     "metadata": {},
     "output_type": "execute_result"
    }
   ],
   "source": [
    "# Let's exrtract all web elements having company name\n",
    "company_tags = driver.find_elements(By.XPATH,'//a[@class=\"subTitle ellipsis fleft\"]')\n",
    "len(company_tags)"
   ]
  },
  {
   "cell_type": "code",
   "execution_count": 160,
   "id": "295be37e",
   "metadata": {},
   "outputs": [
    {
     "data": {
      "text/plain": [
       "6"
      ]
     },
     "execution_count": 160,
     "metadata": {},
     "output_type": "execute_result"
    }
   ],
   "source": [
    "# so we will run a for loop to iterate over the tags and will extract\n",
    "company_names = []\n",
    "for i in company_tags:\n",
    "    company_names.append(i.text)\n",
    "len(company_names)"
   ]
  },
  {
   "cell_type": "code",
   "execution_count": 161,
   "id": "59e0a790",
   "metadata": {},
   "outputs": [
    {
     "data": {
      "text/plain": [
       "['DataTrained',\n",
       " 'Mount Talent Consulting Private Limited',\n",
       " 'Mount Talent Consulting Private Limited',\n",
       " 'Mount Talent Consulting Private Limited',\n",
       " 'Mount Talent Consulting Private Limited',\n",
       " 'Hanu Software Solutions']"
      ]
     },
     "execution_count": 161,
     "metadata": {},
     "output_type": "execute_result"
    }
   ],
   "source": [
    "company_names"
   ]
  },
  {
   "cell_type": "code",
   "execution_count": 162,
   "id": "ff5768d2",
   "metadata": {},
   "outputs": [
    {
     "data": {
      "text/plain": [
       "6"
      ]
     },
     "execution_count": 162,
     "metadata": {},
     "output_type": "execute_result"
    }
   ],
   "source": [
    "# Let's exrtract all web elements having experience using parent tag\n",
    "exp_tags = driver.find_elements(By.XPATH,'//li[@class=\"fleft grey-text br2 placeHolderLi experience\"]')\n",
    "len(exp_tags)"
   ]
  },
  {
   "cell_type": "code",
   "execution_count": 163,
   "id": "b35cb045",
   "metadata": {},
   "outputs": [
    {
     "data": {
      "text/plain": [
       "6"
      ]
     },
     "execution_count": 163,
     "metadata": {},
     "output_type": "execute_result"
    }
   ],
   "source": [
    "# so we will run a for loop to iterate over the tags and will extract\n",
    "experience = []\n",
    "for i in exp_tags:\n",
    "    experience.append(i.text)\n",
    "len(experience)"
   ]
  },
  {
   "cell_type": "code",
   "execution_count": 164,
   "id": "c92d043a",
   "metadata": {},
   "outputs": [
    {
     "data": {
      "text/plain": [
       "['0-2 Yrs', '2-4 Yrs', '2-4 Yrs', '2-5 Yrs', '2-5 Yrs', '6-9 Yrs']"
      ]
     },
     "execution_count": 164,
     "metadata": {},
     "output_type": "execute_result"
    }
   ],
   "source": [
    "experience"
   ]
  },
  {
   "cell_type": "code",
   "execution_count": 151,
   "id": "1e1cb703",
   "metadata": {},
   "outputs": [
    {
     "data": {
      "text/plain": [
       "6"
      ]
     },
     "execution_count": 151,
     "metadata": {},
     "output_type": "execute_result"
    }
   ],
   "source": [
    "Salary_tags = driver.find_elements(By.XPATH,'//li[@class=\"fleft grey-text br2 placeHolderLi salary\"]')\n",
    "len(Salary_tags)"
   ]
  },
  {
   "cell_type": "code",
   "execution_count": 150,
   "id": "4d170f5e",
   "metadata": {},
   "outputs": [
    {
     "data": {
      "text/plain": [
       "['50,000 - 1,25,000 PA.',\n",
       " 'Not disclosed',\n",
       " 'Not disclosed',\n",
       " 'Not disclosed',\n",
       " 'Not disclosed',\n",
       " 'Not disclosed']"
      ]
     },
     "execution_count": 150,
     "metadata": {},
     "output_type": "execute_result"
    }
   ],
   "source": [
    "# so we will run a for loop to iterate over the tags and will extract\n",
    "Salary = []\n",
    "for i in Salary_tags:\n",
    "    Salary.append(i.text)\n",
    "Salary"
   ]
  },
  {
   "cell_type": "code",
   "execution_count": 166,
   "id": "3813cf56",
   "metadata": {},
   "outputs": [
    {
     "data": {
      "text/html": [
       "<div>\n",
       "<style scoped>\n",
       "    .dataframe tbody tr th:only-of-type {\n",
       "        vertical-align: middle;\n",
       "    }\n",
       "\n",
       "    .dataframe tbody tr th {\n",
       "        vertical-align: top;\n",
       "    }\n",
       "\n",
       "    .dataframe thead th {\n",
       "        text-align: right;\n",
       "    }\n",
       "</style>\n",
       "<table border=\"1\" class=\"dataframe\">\n",
       "  <thead>\n",
       "    <tr style=\"text-align: right;\">\n",
       "      <th></th>\n",
       "      <th>Job Title</th>\n",
       "      <th>Company Name</th>\n",
       "      <th>Experience</th>\n",
       "      <th>Salary</th>\n",
       "      <th>Location</th>\n",
       "    </tr>\n",
       "  </thead>\n",
       "  <tbody>\n",
       "    <tr>\n",
       "      <th>0</th>\n",
       "      <td>Hiring For Data Science Intern- DataTrained Ed...</td>\n",
       "      <td>DataTrained</td>\n",
       "      <td>0-2 Yrs</td>\n",
       "      <td>50,000 - 1,25,000 PA.</td>\n",
       "      <td>Delhi / NCR, Gurgaon/Gurugram, Bangalore/Benga...</td>\n",
       "    </tr>\n",
       "    <tr>\n",
       "      <th>1</th>\n",
       "      <td>Data Scientist</td>\n",
       "      <td>Mount Talent Consulting Private Limited</td>\n",
       "      <td>2-4 Yrs</td>\n",
       "      <td>Not disclosed</td>\n",
       "      <td>Delhi / NCR, Pune, Bangalore/Bengaluru</td>\n",
       "    </tr>\n",
       "    <tr>\n",
       "      <th>2</th>\n",
       "      <td>Data Scientist</td>\n",
       "      <td>Mount Talent Consulting Private Limited</td>\n",
       "      <td>2-4 Yrs</td>\n",
       "      <td>Not disclosed</td>\n",
       "      <td>Delhi / NCR, Pune, Bangalore/Bengaluru</td>\n",
       "    </tr>\n",
       "    <tr>\n",
       "      <th>3</th>\n",
       "      <td>Data Science</td>\n",
       "      <td>Mount Talent Consulting Private Limited</td>\n",
       "      <td>2-5 Yrs</td>\n",
       "      <td>Not disclosed</td>\n",
       "      <td>Delhi / NCR, Noida, Faridabad, Gurgaon/Gurugra...</td>\n",
       "    </tr>\n",
       "    <tr>\n",
       "      <th>4</th>\n",
       "      <td>Data Science</td>\n",
       "      <td>Mount Talent Consulting Private Limited</td>\n",
       "      <td>2-5 Yrs</td>\n",
       "      <td>Not disclosed</td>\n",
       "      <td>Delhi / NCR, Noida, Faridabad, Gurgaon/Gurugra...</td>\n",
       "    </tr>\n",
       "    <tr>\n",
       "      <th>5</th>\n",
       "      <td>Data Scientist</td>\n",
       "      <td>Hanu Software Solutions</td>\n",
       "      <td>6-9 Yrs</td>\n",
       "      <td>Not disclosed</td>\n",
       "      <td>Gurgaon/Gurugram</td>\n",
       "    </tr>\n",
       "  </tbody>\n",
       "</table>\n",
       "</div>"
      ],
      "text/plain": [
       "                                           Job Title  \\\n",
       "0  Hiring For Data Science Intern- DataTrained Ed...   \n",
       "1                                     Data Scientist   \n",
       "2                                     Data Scientist   \n",
       "3                                       Data Science   \n",
       "4                                       Data Science   \n",
       "5                                     Data Scientist   \n",
       "\n",
       "                              Company Name Experience                 Salary  \\\n",
       "0                              DataTrained    0-2 Yrs  50,000 - 1,25,000 PA.   \n",
       "1  Mount Talent Consulting Private Limited    2-4 Yrs          Not disclosed   \n",
       "2  Mount Talent Consulting Private Limited    2-4 Yrs          Not disclosed   \n",
       "3  Mount Talent Consulting Private Limited    2-5 Yrs          Not disclosed   \n",
       "4  Mount Talent Consulting Private Limited    2-5 Yrs          Not disclosed   \n",
       "5                  Hanu Software Solutions    6-9 Yrs          Not disclosed   \n",
       "\n",
       "                                            Location  \n",
       "0  Delhi / NCR, Gurgaon/Gurugram, Bangalore/Benga...  \n",
       "1             Delhi / NCR, Pune, Bangalore/Bengaluru  \n",
       "2             Delhi / NCR, Pune, Bangalore/Bengaluru  \n",
       "3  Delhi / NCR, Noida, Faridabad, Gurgaon/Gurugra...  \n",
       "4  Delhi / NCR, Noida, Faridabad, Gurgaon/Gurugra...  \n",
       "5                                   Gurgaon/Gurugram  "
      ]
     },
     "execution_count": 166,
     "metadata": {},
     "output_type": "execute_result"
    }
   ],
   "source": [
    "jobs = pd.DataFrame()\n",
    "jobs['Job Title'] = job_titles\n",
    "jobs['Company Name'] = company_names\n",
    "jobs['Experience'] = experience\n",
    "jobs['Salary'] = Salary\n",
    "jobs['Location'] = location\n",
    "jobs"
   ]
  },
  {
   "cell_type": "markdown",
   "id": "9b2fb407",
   "metadata": {},
   "source": [
    "### Answer 4 :: Scrape data of first 100 sunglasses listings on flipkart.com. You have to scrape four attributes:"
   ]
  },
  {
   "cell_type": "markdown",
   "id": "9cac0798",
   "metadata": {},
   "source": [
    "### 1. Brand"
   ]
  },
  {
   "cell_type": "markdown",
   "id": "949a65e8",
   "metadata": {},
   "source": [
    "### 2. Product Description"
   ]
  },
  {
   "cell_type": "markdown",
   "id": "de3e494f",
   "metadata": {},
   "source": [
    "### 3. Price"
   ]
  },
  {
   "cell_type": "code",
   "execution_count": 29,
   "id": "0ae95252",
   "metadata": {},
   "outputs": [],
   "source": [
    "#command for open  the  automation window of browser \n",
    "driver = webdriver.Chrome('chromedriver.exe')"
   ]
  },
  {
   "cell_type": "code",
   "execution_count": 30,
   "id": "2509b096",
   "metadata": {},
   "outputs": [],
   "source": [
    "url = 'https://www.flipkart.com/'\n",
    "driver.get(url)"
   ]
  },
  {
   "cell_type": "code",
   "execution_count": 31,
   "id": "7d877099",
   "metadata": {},
   "outputs": [
    {
     "data": {
      "text/plain": [
       "<selenium.webdriver.remote.webelement.WebElement (session=\"8b25da1bc08cbbc5520ae4d5e3128e1a\", element=\"a4a9f29a-2f68-4cdb-b481-ccfbc940776a\")>"
      ]
     },
     "execution_count": 31,
     "metadata": {},
     "output_type": "execute_result"
    }
   ],
   "source": [
    "#now  checking   for  the sunglasses @  flipkart search box\n",
    "search_field_designation = driver.find_element(By.XPATH,'/html/body/div/div/div[1]/div[1]/div[2]/div[2]/form/div/div/input')\n",
    "search_field_designation"
   ]
  },
  {
   "cell_type": "code",
   "execution_count": 32,
   "id": "59529317",
   "metadata": {},
   "outputs": [],
   "source": [
    "search_field_designation.send_keys('sunglasses')"
   ]
  },
  {
   "cell_type": "code",
   "execution_count": 33,
   "id": "26032959",
   "metadata": {},
   "outputs": [
    {
     "data": {
      "text/plain": [
       "<selenium.webdriver.remote.webelement.WebElement (session=\"8b25da1bc08cbbc5520ae4d5e3128e1a\", element=\"b78fe02d-6366-4647-b099-b771703c3a2c\")>"
      ]
     },
     "execution_count": 33,
     "metadata": {},
     "output_type": "execute_result"
    }
   ],
   "source": [
    "# now we will be  be using  the click search item  to search  for sunglasses  here\n",
    "search_btn = driver.find_element(By.CLASS_NAME,'L0Z3Pu')\n",
    "search_btn"
   ]
  },
  {
   "cell_type": "code",
   "execution_count": 34,
   "id": "a8857da4",
   "metadata": {},
   "outputs": [],
   "source": [
    "search_btn.click()"
   ]
  },
  {
   "cell_type": "code",
   "execution_count": 35,
   "id": "8657a215",
   "metadata": {},
   "outputs": [
    {
     "data": {
      "text/plain": [
       "40"
      ]
     },
     "execution_count": 35,
     "metadata": {},
     "output_type": "execute_result"
    }
   ],
   "source": [
    "#now we  will be  scraping  the  brand\n",
    "brand_tags = driver.find_elements(By.CLASS_NAME,'_2WkVRV')\n",
    "len(brand_tags)"
   ]
  },
  {
   "cell_type": "code",
   "execution_count": 36,
   "id": "427fe5ae",
   "metadata": {},
   "outputs": [
    {
     "data": {
      "text/plain": [
       "40"
      ]
     },
     "execution_count": 36,
     "metadata": {},
     "output_type": "execute_result"
    }
   ],
   "source": [
    "# Now the text of brand is inside the web elements extracted above\n",
    "# so we will run a for loop to iterate over the tags and will extract\n",
    "Brands = []\n",
    "for i in brand_tags:\n",
    "    Brands.append(i.text)\n",
    "len(Brands)"
   ]
  },
  {
   "cell_type": "code",
   "execution_count": 37,
   "id": "6d1ac87e",
   "metadata": {},
   "outputs": [
    {
     "data": {
      "text/plain": [
       "['Fastrack',\n",
       " 'DAHAAZIL',\n",
       " 'New Specs',\n",
       " 'PIRASO',\n",
       " 'Elligator',\n",
       " 'Fastrack',\n",
       " 'SRPM',\n",
       " 'PIRASO',\n",
       " 'SUNBEE',\n",
       " 'SUNBEE',\n",
       " 'Lee Topper',\n",
       " 'SHAAH COLLECTIONS',\n",
       " 'Fastrack',\n",
       " 'PIRASO',\n",
       " 'ROZZETTA CRAFT',\n",
       " 'Fastrack',\n",
       " 'Lee Topper',\n",
       " 'Fastrack',\n",
       " 'VINCENT CHASE',\n",
       " 'CRYSTAL CART',\n",
       " 'Sewell',\n",
       " 'PIRASO',\n",
       " 'PIRASO',\n",
       " 'PIRASO',\n",
       " 'Fastrack',\n",
       " 'ROZZETTA CRAFT',\n",
       " 'PIRASO',\n",
       " 'SUNBEE',\n",
       " 'SHAAH COLLECTIONS',\n",
       " 'NuVew',\n",
       " 'New Specs',\n",
       " 'ROZZETTA CRAFT',\n",
       " 'Elligator',\n",
       " 'PIRASO',\n",
       " 'Lee Topper',\n",
       " 'LIZA ANGEL',\n",
       " 'PHENOMENAL',\n",
       " 'Fastrack',\n",
       " 'ROYAL SON',\n",
       " 'SRPM']"
      ]
     },
     "execution_count": 37,
     "metadata": {},
     "output_type": "execute_result"
    }
   ],
   "source": [
    "Brands"
   ]
  },
  {
   "cell_type": "code",
   "execution_count": 38,
   "id": "7cd23a7e",
   "metadata": {},
   "outputs": [
    {
     "data": {
      "text/plain": [
       "40"
      ]
     },
     "execution_count": 38,
     "metadata": {},
     "output_type": "execute_result"
    }
   ],
   "source": [
    "#now we  will be  scraping  the  Product desrciption and price\n",
    "descr_tags = driver.find_elements(By.CLASS_NAME,'IRpwTa')\n",
    "len(descr_tags)"
   ]
  },
  {
   "cell_type": "code",
   "execution_count": 39,
   "id": "f87f521d",
   "metadata": {},
   "outputs": [
    {
     "data": {
      "text/plain": [
       "40"
      ]
     },
     "execution_count": 39,
     "metadata": {},
     "output_type": "execute_result"
    }
   ],
   "source": [
    "product_desc = []\n",
    "for i in descr_tags:\n",
    "    product_desc.append(i.text)\n",
    "len(product_desc)"
   ]
  },
  {
   "cell_type": "code",
   "execution_count": 40,
   "id": "11622bd6",
   "metadata": {},
   "outputs": [
    {
     "data": {
      "text/plain": [
       "40"
      ]
     },
     "execution_count": 40,
     "metadata": {},
     "output_type": "execute_result"
    }
   ],
   "source": [
    "price_tags = driver.find_elements(By.XPATH,'//div[@class=\"_30jeq3\"]')\n",
    "len(price_tags)"
   ]
  },
  {
   "cell_type": "code",
   "execution_count": 41,
   "id": "19b31fc0",
   "metadata": {},
   "outputs": [
    {
     "data": {
      "text/plain": [
       "40"
      ]
     },
     "execution_count": 41,
     "metadata": {},
     "output_type": "execute_result"
    }
   ],
   "source": [
    "Price = []\n",
    "for i in price_tags:\n",
    "    Price.append(i.text)\n",
    "len(Price)"
   ]
  },
  {
   "cell_type": "code",
   "execution_count": 42,
   "id": "f5d04d65",
   "metadata": {},
   "outputs": [
    {
     "data": {
      "text/plain": [
       "['₹639',\n",
       " '₹177',\n",
       " '₹264',\n",
       " '₹224',\n",
       " '₹298',\n",
       " '₹719',\n",
       " '₹211',\n",
       " '₹224',\n",
       " '₹259',\n",
       " '₹283',\n",
       " '₹229',\n",
       " '₹195',\n",
       " '₹639',\n",
       " '₹359',\n",
       " '₹499',\n",
       " '₹639',\n",
       " '₹299',\n",
       " '₹1,039',\n",
       " '₹949',\n",
       " '₹189',\n",
       " '₹265',\n",
       " '₹246',\n",
       " '₹410',\n",
       " '₹226',\n",
       " '₹719',\n",
       " '₹319',\n",
       " '₹306',\n",
       " '₹283',\n",
       " '₹279',\n",
       " '₹345',\n",
       " '₹299',\n",
       " '₹349',\n",
       " '₹207',\n",
       " '₹246',\n",
       " '₹219',\n",
       " '₹179',\n",
       " '₹369',\n",
       " '₹799',\n",
       " '₹379',\n",
       " '₹207']"
      ]
     },
     "execution_count": 42,
     "metadata": {},
     "output_type": "execute_result"
    }
   ],
   "source": [
    "Price"
   ]
  },
  {
   "cell_type": "code",
   "execution_count": 43,
   "id": "08f97e54",
   "metadata": {},
   "outputs": [
    {
     "data": {
      "text/html": [
       "<div>\n",
       "<style scoped>\n",
       "    .dataframe tbody tr th:only-of-type {\n",
       "        vertical-align: middle;\n",
       "    }\n",
       "\n",
       "    .dataframe tbody tr th {\n",
       "        vertical-align: top;\n",
       "    }\n",
       "\n",
       "    .dataframe thead th {\n",
       "        text-align: right;\n",
       "    }\n",
       "</style>\n",
       "<table border=\"1\" class=\"dataframe\">\n",
       "  <thead>\n",
       "    <tr style=\"text-align: right;\">\n",
       "      <th></th>\n",
       "      <th>BRANDS</th>\n",
       "      <th>Product Description</th>\n",
       "      <th>Price of Products</th>\n",
       "    </tr>\n",
       "  </thead>\n",
       "  <tbody>\n",
       "    <tr>\n",
       "      <th>0</th>\n",
       "      <td>Fastrack</td>\n",
       "      <td>UV Protection Rectangular Sunglasses (Free Size)</td>\n",
       "      <td>₹639</td>\n",
       "    </tr>\n",
       "    <tr>\n",
       "      <th>1</th>\n",
       "      <td>DAHAAZIL</td>\n",
       "      <td>UV Protection, Night Vision, Riding Glasses Wa...</td>\n",
       "      <td>₹177</td>\n",
       "    </tr>\n",
       "    <tr>\n",
       "      <th>2</th>\n",
       "      <td>New Specs</td>\n",
       "      <td>UV Protection Rectangular Sunglasses (Free Size)</td>\n",
       "      <td>₹264</td>\n",
       "    </tr>\n",
       "    <tr>\n",
       "      <th>3</th>\n",
       "      <td>PIRASO</td>\n",
       "      <td>UV Protection Aviator Sunglasses (54)</td>\n",
       "      <td>₹224</td>\n",
       "    </tr>\n",
       "    <tr>\n",
       "      <th>4</th>\n",
       "      <td>Elligator</td>\n",
       "      <td>UV Protection Round Sunglasses (54)</td>\n",
       "      <td>₹298</td>\n",
       "    </tr>\n",
       "    <tr>\n",
       "      <th>5</th>\n",
       "      <td>Fastrack</td>\n",
       "      <td>UV Protection Wayfarer Sunglasses (Free Size)</td>\n",
       "      <td>₹719</td>\n",
       "    </tr>\n",
       "    <tr>\n",
       "      <th>6</th>\n",
       "      <td>SRPM</td>\n",
       "      <td>UV Protection Wayfarer Sunglasses (50)</td>\n",
       "      <td>₹211</td>\n",
       "    </tr>\n",
       "    <tr>\n",
       "      <th>7</th>\n",
       "      <td>PIRASO</td>\n",
       "      <td>UV Protection Aviator Sunglasses (54)</td>\n",
       "      <td>₹224</td>\n",
       "    </tr>\n",
       "    <tr>\n",
       "      <th>8</th>\n",
       "      <td>SUNBEE</td>\n",
       "      <td>UV Protection, Polarized, Mirrored Retro Squar...</td>\n",
       "      <td>₹259</td>\n",
       "    </tr>\n",
       "    <tr>\n",
       "      <th>9</th>\n",
       "      <td>SUNBEE</td>\n",
       "      <td>UV Protection, Polarized Wayfarer Sunglasses (...</td>\n",
       "      <td>₹283</td>\n",
       "    </tr>\n",
       "    <tr>\n",
       "      <th>10</th>\n",
       "      <td>Lee Topper</td>\n",
       "      <td>UV Protection Cat-eye Sunglasses (Free Size)</td>\n",
       "      <td>₹229</td>\n",
       "    </tr>\n",
       "    <tr>\n",
       "      <th>11</th>\n",
       "      <td>SHAAH COLLECTIONS</td>\n",
       "      <td>UV Protection, Polarized, Mirrored Rectangular...</td>\n",
       "      <td>₹195</td>\n",
       "    </tr>\n",
       "    <tr>\n",
       "      <th>12</th>\n",
       "      <td>Fastrack</td>\n",
       "      <td>UV Protection Aviator Sunglasses (Free Size)</td>\n",
       "      <td>₹639</td>\n",
       "    </tr>\n",
       "    <tr>\n",
       "      <th>13</th>\n",
       "      <td>PIRASO</td>\n",
       "      <td>UV Protection Aviator Sunglasses (58)</td>\n",
       "      <td>₹359</td>\n",
       "    </tr>\n",
       "    <tr>\n",
       "      <th>14</th>\n",
       "      <td>ROZZETTA CRAFT</td>\n",
       "      <td>Polarized, Riding Glasses Sports, Wrap-around ...</td>\n",
       "      <td>₹499</td>\n",
       "    </tr>\n",
       "    <tr>\n",
       "      <th>15</th>\n",
       "      <td>Fastrack</td>\n",
       "      <td>Gradient, UV Protection Wayfarer Sunglasses (F...</td>\n",
       "      <td>₹639</td>\n",
       "    </tr>\n",
       "    <tr>\n",
       "      <th>16</th>\n",
       "      <td>Lee Topper</td>\n",
       "      <td>Riding Glasses Wrap-around Sunglasses (Free Size)</td>\n",
       "      <td>₹299</td>\n",
       "    </tr>\n",
       "    <tr>\n",
       "      <th>17</th>\n",
       "      <td>Fastrack</td>\n",
       "      <td>UV Protection Aviator Sunglasses (58)</td>\n",
       "      <td>₹1,039</td>\n",
       "    </tr>\n",
       "    <tr>\n",
       "      <th>18</th>\n",
       "      <td>VINCENT CHASE</td>\n",
       "      <td>by Lenskart Polarized, UV Protection Cat-eye S...</td>\n",
       "      <td>₹949</td>\n",
       "    </tr>\n",
       "    <tr>\n",
       "      <th>19</th>\n",
       "      <td>CRYSTAL CART</td>\n",
       "      <td>Mirrored, Night Vision Oval Sunglasses (Free S...</td>\n",
       "      <td>₹189</td>\n",
       "    </tr>\n",
       "    <tr>\n",
       "      <th>20</th>\n",
       "      <td>Sewell</td>\n",
       "      <td>Mirrored, Night Vision, UV Protection, Riding ...</td>\n",
       "      <td>₹265</td>\n",
       "    </tr>\n",
       "    <tr>\n",
       "      <th>21</th>\n",
       "      <td>PIRASO</td>\n",
       "      <td>UV Protection Aviator Sunglasses (54)</td>\n",
       "      <td>₹246</td>\n",
       "    </tr>\n",
       "    <tr>\n",
       "      <th>22</th>\n",
       "      <td>PIRASO</td>\n",
       "      <td>UV Protection Over-sized Sunglasses (65)</td>\n",
       "      <td>₹410</td>\n",
       "    </tr>\n",
       "    <tr>\n",
       "      <th>23</th>\n",
       "      <td>PIRASO</td>\n",
       "      <td>UV Protection Wayfarer Sunglasses (32)</td>\n",
       "      <td>₹226</td>\n",
       "    </tr>\n",
       "    <tr>\n",
       "      <th>24</th>\n",
       "      <td>Fastrack</td>\n",
       "      <td>UV Protection Shield Sunglasses (Free Size)</td>\n",
       "      <td>₹719</td>\n",
       "    </tr>\n",
       "    <tr>\n",
       "      <th>25</th>\n",
       "      <td>ROZZETTA CRAFT</td>\n",
       "      <td>UV Protection Rectangular Sunglasses (Free Size)</td>\n",
       "      <td>₹319</td>\n",
       "    </tr>\n",
       "    <tr>\n",
       "      <th>26</th>\n",
       "      <td>PIRASO</td>\n",
       "      <td>UV Protection Rectangular Sunglasses (52)</td>\n",
       "      <td>₹306</td>\n",
       "    </tr>\n",
       "    <tr>\n",
       "      <th>27</th>\n",
       "      <td>SUNBEE</td>\n",
       "      <td>UV Protection, Polarized, Mirrored Wayfarer Su...</td>\n",
       "      <td>₹283</td>\n",
       "    </tr>\n",
       "    <tr>\n",
       "      <th>28</th>\n",
       "      <td>SHAAH COLLECTIONS</td>\n",
       "      <td>UV Protection Round Sunglasses (Free Size)</td>\n",
       "      <td>₹279</td>\n",
       "    </tr>\n",
       "    <tr>\n",
       "      <th>29</th>\n",
       "      <td>NuVew</td>\n",
       "      <td>UV Protection Sports Sunglasses (62)</td>\n",
       "      <td>₹345</td>\n",
       "    </tr>\n",
       "    <tr>\n",
       "      <th>30</th>\n",
       "      <td>New Specs</td>\n",
       "      <td>Mirrored, UV Protection, Riding Glasses, Other...</td>\n",
       "      <td>₹299</td>\n",
       "    </tr>\n",
       "    <tr>\n",
       "      <th>31</th>\n",
       "      <td>ROZZETTA CRAFT</td>\n",
       "      <td>UV Protection, Gradient Retro Square Sunglasse...</td>\n",
       "      <td>₹349</td>\n",
       "    </tr>\n",
       "    <tr>\n",
       "      <th>32</th>\n",
       "      <td>Elligator</td>\n",
       "      <td>UV Protection Round Sunglasses (53)</td>\n",
       "      <td>₹207</td>\n",
       "    </tr>\n",
       "    <tr>\n",
       "      <th>33</th>\n",
       "      <td>PIRASO</td>\n",
       "      <td>UV Protection Aviator Sunglasses (55)</td>\n",
       "      <td>₹246</td>\n",
       "    </tr>\n",
       "    <tr>\n",
       "      <th>34</th>\n",
       "      <td>Lee Topper</td>\n",
       "      <td>UV Protection Rectangular Sunglasses (Free Size)</td>\n",
       "      <td>₹219</td>\n",
       "    </tr>\n",
       "    <tr>\n",
       "      <th>35</th>\n",
       "      <td>LIZA ANGEL</td>\n",
       "      <td>Riding Glasses, Night Vision Spectacle Sunglas...</td>\n",
       "      <td>₹179</td>\n",
       "    </tr>\n",
       "    <tr>\n",
       "      <th>36</th>\n",
       "      <td>PHENOMENAL</td>\n",
       "      <td>UV Protection Retro Square Sunglasses (Free Size)</td>\n",
       "      <td>₹369</td>\n",
       "    </tr>\n",
       "    <tr>\n",
       "      <th>37</th>\n",
       "      <td>Fastrack</td>\n",
       "      <td>Mirrored, UV Protection Wayfarer Sunglasses (F...</td>\n",
       "      <td>₹799</td>\n",
       "    </tr>\n",
       "    <tr>\n",
       "      <th>38</th>\n",
       "      <td>ROYAL SON</td>\n",
       "      <td>Mirrored Aviator Sunglasses (55)</td>\n",
       "      <td>₹379</td>\n",
       "    </tr>\n",
       "    <tr>\n",
       "      <th>39</th>\n",
       "      <td>SRPM</td>\n",
       "      <td>Others Wayfarer, Retro Square Sunglasses (50)</td>\n",
       "      <td>₹207</td>\n",
       "    </tr>\n",
       "  </tbody>\n",
       "</table>\n",
       "</div>"
      ],
      "text/plain": [
       "               BRANDS                                Product Description  \\\n",
       "0            Fastrack   UV Protection Rectangular Sunglasses (Free Size)   \n",
       "1            DAHAAZIL  UV Protection, Night Vision, Riding Glasses Wa...   \n",
       "2           New Specs   UV Protection Rectangular Sunglasses (Free Size)   \n",
       "3              PIRASO              UV Protection Aviator Sunglasses (54)   \n",
       "4           Elligator                UV Protection Round Sunglasses (54)   \n",
       "5            Fastrack      UV Protection Wayfarer Sunglasses (Free Size)   \n",
       "6                SRPM             UV Protection Wayfarer Sunglasses (50)   \n",
       "7              PIRASO              UV Protection Aviator Sunglasses (54)   \n",
       "8              SUNBEE  UV Protection, Polarized, Mirrored Retro Squar...   \n",
       "9              SUNBEE  UV Protection, Polarized Wayfarer Sunglasses (...   \n",
       "10         Lee Topper       UV Protection Cat-eye Sunglasses (Free Size)   \n",
       "11  SHAAH COLLECTIONS  UV Protection, Polarized, Mirrored Rectangular...   \n",
       "12           Fastrack       UV Protection Aviator Sunglasses (Free Size)   \n",
       "13             PIRASO              UV Protection Aviator Sunglasses (58)   \n",
       "14     ROZZETTA CRAFT  Polarized, Riding Glasses Sports, Wrap-around ...   \n",
       "15           Fastrack  Gradient, UV Protection Wayfarer Sunglasses (F...   \n",
       "16         Lee Topper  Riding Glasses Wrap-around Sunglasses (Free Size)   \n",
       "17           Fastrack              UV Protection Aviator Sunglasses (58)   \n",
       "18      VINCENT CHASE  by Lenskart Polarized, UV Protection Cat-eye S...   \n",
       "19       CRYSTAL CART  Mirrored, Night Vision Oval Sunglasses (Free S...   \n",
       "20             Sewell  Mirrored, Night Vision, UV Protection, Riding ...   \n",
       "21             PIRASO              UV Protection Aviator Sunglasses (54)   \n",
       "22             PIRASO           UV Protection Over-sized Sunglasses (65)   \n",
       "23             PIRASO             UV Protection Wayfarer Sunglasses (32)   \n",
       "24           Fastrack        UV Protection Shield Sunglasses (Free Size)   \n",
       "25     ROZZETTA CRAFT   UV Protection Rectangular Sunglasses (Free Size)   \n",
       "26             PIRASO          UV Protection Rectangular Sunglasses (52)   \n",
       "27             SUNBEE  UV Protection, Polarized, Mirrored Wayfarer Su...   \n",
       "28  SHAAH COLLECTIONS         UV Protection Round Sunglasses (Free Size)   \n",
       "29              NuVew               UV Protection Sports Sunglasses (62)   \n",
       "30          New Specs  Mirrored, UV Protection, Riding Glasses, Other...   \n",
       "31     ROZZETTA CRAFT  UV Protection, Gradient Retro Square Sunglasse...   \n",
       "32          Elligator                UV Protection Round Sunglasses (53)   \n",
       "33             PIRASO              UV Protection Aviator Sunglasses (55)   \n",
       "34         Lee Topper   UV Protection Rectangular Sunglasses (Free Size)   \n",
       "35         LIZA ANGEL  Riding Glasses, Night Vision Spectacle Sunglas...   \n",
       "36         PHENOMENAL  UV Protection Retro Square Sunglasses (Free Size)   \n",
       "37           Fastrack  Mirrored, UV Protection Wayfarer Sunglasses (F...   \n",
       "38          ROYAL SON                   Mirrored Aviator Sunglasses (55)   \n",
       "39               SRPM      Others Wayfarer, Retro Square Sunglasses (50)   \n",
       "\n",
       "   Price of Products  \n",
       "0               ₹639  \n",
       "1               ₹177  \n",
       "2               ₹264  \n",
       "3               ₹224  \n",
       "4               ₹298  \n",
       "5               ₹719  \n",
       "6               ₹211  \n",
       "7               ₹224  \n",
       "8               ₹259  \n",
       "9               ₹283  \n",
       "10              ₹229  \n",
       "11              ₹195  \n",
       "12              ₹639  \n",
       "13              ₹359  \n",
       "14              ₹499  \n",
       "15              ₹639  \n",
       "16              ₹299  \n",
       "17            ₹1,039  \n",
       "18              ₹949  \n",
       "19              ₹189  \n",
       "20              ₹265  \n",
       "21              ₹246  \n",
       "22              ₹410  \n",
       "23              ₹226  \n",
       "24              ₹719  \n",
       "25              ₹319  \n",
       "26              ₹306  \n",
       "27              ₹283  \n",
       "28              ₹279  \n",
       "29              ₹345  \n",
       "30              ₹299  \n",
       "31              ₹349  \n",
       "32              ₹207  \n",
       "33              ₹246  \n",
       "34              ₹219  \n",
       "35              ₹179  \n",
       "36              ₹369  \n",
       "37              ₹799  \n",
       "38              ₹379  \n",
       "39              ₹207  "
      ]
     },
     "execution_count": 43,
     "metadata": {},
     "output_type": "execute_result"
    }
   ],
   "source": [
    "page1 = pd.DataFrame()\n",
    "page1['BRANDS'] = Brands\n",
    "page1['Product Description'] = product_desc\n",
    "page1['Price of Products'] = Price\n",
    "page1[0:40]"
   ]
  },
  {
   "cell_type": "code",
   "execution_count": 44,
   "id": "fcabbf54",
   "metadata": {},
   "outputs": [
    {
     "data": {
      "text/plain": [
       "<selenium.webdriver.remote.webelement.WebElement (session=\"8b25da1bc08cbbc5520ae4d5e3128e1a\", element=\"76c891b1-3865-451e-af5f-f517f02ab46b\")>"
      ]
     },
     "execution_count": 44,
     "metadata": {},
     "output_type": "execute_result"
    }
   ],
   "source": [
    "# now  wrirting  the  code  for  the next  button\n",
    "next_page2 = driver.find_element(By.XPATH,'/html/body/div[1]/div/div[3]/div[1]/div[2]/div[12]/div/div/nav/a[11]/span')\n",
    "next_page2"
   ]
  },
  {
   "cell_type": "code",
   "execution_count": 45,
   "id": "f63bb854",
   "metadata": {},
   "outputs": [],
   "source": [
    "next_page2.click()"
   ]
  },
  {
   "cell_type": "code",
   "execution_count": 46,
   "id": "b348d618",
   "metadata": {},
   "outputs": [],
   "source": [
    "#now we  will be  scraping  the  brand product description and price from page2\n",
    "brand_tags = driver.find_elements(By.CLASS_NAME,'_2WkVRV')\n",
    "descr_tags = driver.find_elements(By.CLASS_NAME,'IRpwTa')\n",
    "price_tags = driver.find_elements(By.XPATH,'//div[@class=\"_30jeq3\"]')"
   ]
  },
  {
   "cell_type": "code",
   "execution_count": 47,
   "id": "07998725",
   "metadata": {},
   "outputs": [
    {
     "data": {
      "text/plain": [
       "40"
      ]
     },
     "execution_count": 47,
     "metadata": {},
     "output_type": "execute_result"
    }
   ],
   "source": [
    "Brands = []\n",
    "for i in brand_tags:\n",
    "    Brands.append(i.text)\n",
    "len(Brands)"
   ]
  },
  {
   "cell_type": "code",
   "execution_count": 48,
   "id": "c22594dc",
   "metadata": {},
   "outputs": [
    {
     "data": {
      "text/plain": [
       "40"
      ]
     },
     "execution_count": 48,
     "metadata": {},
     "output_type": "execute_result"
    }
   ],
   "source": [
    "product_desc = []\n",
    "for i in descr_tags:\n",
    "    product_desc.append(i.text)\n",
    "len(product_desc)"
   ]
  },
  {
   "cell_type": "code",
   "execution_count": 49,
   "id": "8d1cc8cb",
   "metadata": {},
   "outputs": [
    {
     "data": {
      "text/plain": [
       "40"
      ]
     },
     "execution_count": 49,
     "metadata": {},
     "output_type": "execute_result"
    }
   ],
   "source": [
    "Price = []\n",
    "for i in price_tags:\n",
    "    Price.append(i.text)\n",
    "len(Price)"
   ]
  },
  {
   "cell_type": "code",
   "execution_count": 50,
   "id": "e0a3b962",
   "metadata": {},
   "outputs": [
    {
     "data": {
      "text/html": [
       "<div>\n",
       "<style scoped>\n",
       "    .dataframe tbody tr th:only-of-type {\n",
       "        vertical-align: middle;\n",
       "    }\n",
       "\n",
       "    .dataframe tbody tr th {\n",
       "        vertical-align: top;\n",
       "    }\n",
       "\n",
       "    .dataframe thead th {\n",
       "        text-align: right;\n",
       "    }\n",
       "</style>\n",
       "<table border=\"1\" class=\"dataframe\">\n",
       "  <thead>\n",
       "    <tr style=\"text-align: right;\">\n",
       "      <th></th>\n",
       "      <th>BRANDS</th>\n",
       "      <th>Product Description</th>\n",
       "      <th>Price of Products</th>\n",
       "    </tr>\n",
       "  </thead>\n",
       "  <tbody>\n",
       "    <tr>\n",
       "      <th>0</th>\n",
       "      <td>PIRASO</td>\n",
       "      <td>UV Protection Aviator Sunglasses (54)</td>\n",
       "      <td>₹223</td>\n",
       "    </tr>\n",
       "    <tr>\n",
       "      <th>1</th>\n",
       "      <td>Mi</td>\n",
       "      <td>Polarized Aviator Sunglasses (Free Size)</td>\n",
       "      <td>₹1,009</td>\n",
       "    </tr>\n",
       "    <tr>\n",
       "      <th>2</th>\n",
       "      <td>Singco India</td>\n",
       "      <td>Gradient, Toughened Glass Lens, UV Protection ...</td>\n",
       "      <td>₹664</td>\n",
       "    </tr>\n",
       "    <tr>\n",
       "      <th>3</th>\n",
       "      <td>kingsunglasses</td>\n",
       "      <td>UV Protection, Riding Glasses, Mirrored Wayfar...</td>\n",
       "      <td>₹213</td>\n",
       "    </tr>\n",
       "    <tr>\n",
       "      <th>4</th>\n",
       "      <td>Silver Kartz</td>\n",
       "      <td>UV Protection Wayfarer Sunglasses (Free Size)</td>\n",
       "      <td>₹288</td>\n",
       "    </tr>\n",
       "    <tr>\n",
       "      <th>5</th>\n",
       "      <td>ROZZETTA CRAFT</td>\n",
       "      <td>UV Protection Retro Square Sunglasses (Free Size)</td>\n",
       "      <td>₹499</td>\n",
       "    </tr>\n",
       "    <tr>\n",
       "      <th>6</th>\n",
       "      <td>ROYAL SON</td>\n",
       "      <td>Mirrored Aviator Sunglasses (Free Size)</td>\n",
       "      <td>₹379</td>\n",
       "    </tr>\n",
       "    <tr>\n",
       "      <th>7</th>\n",
       "      <td>kingsunglasses</td>\n",
       "      <td>UV Protection Round Sunglasses (Free Size)</td>\n",
       "      <td>₹329</td>\n",
       "    </tr>\n",
       "    <tr>\n",
       "      <th>8</th>\n",
       "      <td>kingsunglasses</td>\n",
       "      <td>Mirrored, UV Protection Wayfarer Sunglasses (53)</td>\n",
       "      <td>₹299</td>\n",
       "    </tr>\n",
       "    <tr>\n",
       "      <th>9</th>\n",
       "      <td>Fastrack</td>\n",
       "      <td>Gradient, UV Protection Wayfarer Sunglasses (F...</td>\n",
       "      <td>₹719</td>\n",
       "    </tr>\n",
       "    <tr>\n",
       "      <th>10</th>\n",
       "      <td>DEIXELS</td>\n",
       "      <td>UV Protection Aviator Sunglasses (Free Size)</td>\n",
       "      <td>₹224</td>\n",
       "    </tr>\n",
       "    <tr>\n",
       "      <th>11</th>\n",
       "      <td>Fastrack</td>\n",
       "      <td>Gradient, UV Protection Wayfarer Sunglasses (F...</td>\n",
       "      <td>₹719</td>\n",
       "    </tr>\n",
       "    <tr>\n",
       "      <th>12</th>\n",
       "      <td>kingsunglasses</td>\n",
       "      <td>UV Protection Round Sunglasses (54)</td>\n",
       "      <td>₹214</td>\n",
       "    </tr>\n",
       "    <tr>\n",
       "      <th>13</th>\n",
       "      <td>ROZZETTA CRAFT</td>\n",
       "      <td>UV Protection, Gradient Rectangular Sunglasses...</td>\n",
       "      <td>₹399</td>\n",
       "    </tr>\n",
       "    <tr>\n",
       "      <th>14</th>\n",
       "      <td>CRYSTAL CART</td>\n",
       "      <td>Polarized, UV Protection, Mirrored, Gradient R...</td>\n",
       "      <td>₹529</td>\n",
       "    </tr>\n",
       "    <tr>\n",
       "      <th>15</th>\n",
       "      <td>VINCENT CHASE</td>\n",
       "      <td>Polarized, UV Protection Round Sunglasses (51)</td>\n",
       "      <td>₹1,099</td>\n",
       "    </tr>\n",
       "    <tr>\n",
       "      <th>16</th>\n",
       "      <td>Fastrack</td>\n",
       "      <td>UV Protection Round Sunglasses (55)</td>\n",
       "      <td>₹979</td>\n",
       "    </tr>\n",
       "    <tr>\n",
       "      <th>17</th>\n",
       "      <td>ROYAL SON</td>\n",
       "      <td>Mirrored Aviator Sunglasses (55)</td>\n",
       "      <td>₹379</td>\n",
       "    </tr>\n",
       "    <tr>\n",
       "      <th>18</th>\n",
       "      <td>ROYAL SON</td>\n",
       "      <td>UV Protection, Gradient Butterfly Sunglasses (62)</td>\n",
       "      <td>₹699</td>\n",
       "    </tr>\n",
       "    <tr>\n",
       "      <th>19</th>\n",
       "      <td>kingsunglasses</td>\n",
       "      <td>UV Protection, Mirrored Round Sunglasses (Free...</td>\n",
       "      <td>₹265</td>\n",
       "    </tr>\n",
       "    <tr>\n",
       "      <th>20</th>\n",
       "      <td>Fastrack</td>\n",
       "      <td>UV Protection Wayfarer Sunglasses (Free Size)</td>\n",
       "      <td>₹639</td>\n",
       "    </tr>\n",
       "    <tr>\n",
       "      <th>21</th>\n",
       "      <td>VINCENT CHASE</td>\n",
       "      <td>by Lenskart Polarized, UV Protection Wayfarer ...</td>\n",
       "      <td>₹749</td>\n",
       "    </tr>\n",
       "    <tr>\n",
       "      <th>22</th>\n",
       "      <td>ROYAL SON</td>\n",
       "      <td>Polarized, UV Protection Wayfarer Sunglasses (61)</td>\n",
       "      <td>₹664</td>\n",
       "    </tr>\n",
       "    <tr>\n",
       "      <th>23</th>\n",
       "      <td>New Specs</td>\n",
       "      <td>UV Protection Round Sunglasses (Free Size)</td>\n",
       "      <td>₹268</td>\n",
       "    </tr>\n",
       "    <tr>\n",
       "      <th>24</th>\n",
       "      <td>Rich Club</td>\n",
       "      <td>UV Protection, Others Round Sunglasses (48)</td>\n",
       "      <td>₹260</td>\n",
       "    </tr>\n",
       "    <tr>\n",
       "      <th>25</th>\n",
       "      <td>LIZA ANGEL</td>\n",
       "      <td>UV Protection, Riding Glasses, Night Vision Sp...</td>\n",
       "      <td>₹169</td>\n",
       "    </tr>\n",
       "    <tr>\n",
       "      <th>26</th>\n",
       "      <td>Lee Topper</td>\n",
       "      <td>UV Protection Round Sunglasses (Free Size)</td>\n",
       "      <td>₹245</td>\n",
       "    </tr>\n",
       "    <tr>\n",
       "      <th>27</th>\n",
       "      <td>VINCENT CHASE</td>\n",
       "      <td>by Lenskart Polarized, UV Protection Rectangul...</td>\n",
       "      <td>₹749</td>\n",
       "    </tr>\n",
       "    <tr>\n",
       "      <th>28</th>\n",
       "      <td>Elligator</td>\n",
       "      <td>UV Protection, Riding Glasses Rectangular, Ret...</td>\n",
       "      <td>₹379</td>\n",
       "    </tr>\n",
       "    <tr>\n",
       "      <th>29</th>\n",
       "      <td>Fastrack</td>\n",
       "      <td>UV Protection Wayfarer Sunglasses (Free Size)</td>\n",
       "      <td>₹719</td>\n",
       "    </tr>\n",
       "    <tr>\n",
       "      <th>30</th>\n",
       "      <td>Singco India</td>\n",
       "      <td>Gradient, Toughened Glass Lens, UV Protection ...</td>\n",
       "      <td>₹598</td>\n",
       "    </tr>\n",
       "    <tr>\n",
       "      <th>31</th>\n",
       "      <td>Fastrack</td>\n",
       "      <td>UV Protection Wayfarer Sunglasses (Free Size)</td>\n",
       "      <td>₹849</td>\n",
       "    </tr>\n",
       "    <tr>\n",
       "      <th>32</th>\n",
       "      <td>ROYAL SON</td>\n",
       "      <td>Mirrored Aviator Sunglasses (58)</td>\n",
       "      <td>₹379</td>\n",
       "    </tr>\n",
       "    <tr>\n",
       "      <th>33</th>\n",
       "      <td>Mi</td>\n",
       "      <td>Polarized Wayfarer Sunglasses (Free Size)</td>\n",
       "      <td>₹849</td>\n",
       "    </tr>\n",
       "    <tr>\n",
       "      <th>34</th>\n",
       "      <td>New Specs</td>\n",
       "      <td>UV Protection Rectangular Sunglasses (Free Size)</td>\n",
       "      <td>₹189</td>\n",
       "    </tr>\n",
       "    <tr>\n",
       "      <th>35</th>\n",
       "      <td>kingsunglasses</td>\n",
       "      <td>Mirrored, UV Protection Wayfarer Sunglasses (F...</td>\n",
       "      <td>₹269</td>\n",
       "    </tr>\n",
       "    <tr>\n",
       "      <th>36</th>\n",
       "      <td>AISLIN</td>\n",
       "      <td>UV Protection, Gradient Butterfly, Retro Squar...</td>\n",
       "      <td>₹498</td>\n",
       "    </tr>\n",
       "    <tr>\n",
       "      <th>37</th>\n",
       "      <td>Fastrack</td>\n",
       "      <td>UV Protection Wayfarer Sunglasses (55)</td>\n",
       "      <td>₹721</td>\n",
       "    </tr>\n",
       "    <tr>\n",
       "      <th>38</th>\n",
       "      <td>ROYAL SON</td>\n",
       "      <td>Polarized Rectangular Sunglasses (60)</td>\n",
       "      <td>₹664</td>\n",
       "    </tr>\n",
       "    <tr>\n",
       "      <th>39</th>\n",
       "      <td>Elligator</td>\n",
       "      <td>UV Protection Retro Square, Round Sunglasses (54)</td>\n",
       "      <td>₹329</td>\n",
       "    </tr>\n",
       "  </tbody>\n",
       "</table>\n",
       "</div>"
      ],
      "text/plain": [
       "            BRANDS                                Product Description  \\\n",
       "0           PIRASO              UV Protection Aviator Sunglasses (54)   \n",
       "1               Mi           Polarized Aviator Sunglasses (Free Size)   \n",
       "2     Singco India  Gradient, Toughened Glass Lens, UV Protection ...   \n",
       "3   kingsunglasses  UV Protection, Riding Glasses, Mirrored Wayfar...   \n",
       "4     Silver Kartz      UV Protection Wayfarer Sunglasses (Free Size)   \n",
       "5   ROZZETTA CRAFT  UV Protection Retro Square Sunglasses (Free Size)   \n",
       "6        ROYAL SON            Mirrored Aviator Sunglasses (Free Size)   \n",
       "7   kingsunglasses         UV Protection Round Sunglasses (Free Size)   \n",
       "8   kingsunglasses   Mirrored, UV Protection Wayfarer Sunglasses (53)   \n",
       "9         Fastrack  Gradient, UV Protection Wayfarer Sunglasses (F...   \n",
       "10         DEIXELS       UV Protection Aviator Sunglasses (Free Size)   \n",
       "11        Fastrack  Gradient, UV Protection Wayfarer Sunglasses (F...   \n",
       "12  kingsunglasses                UV Protection Round Sunglasses (54)   \n",
       "13  ROZZETTA CRAFT  UV Protection, Gradient Rectangular Sunglasses...   \n",
       "14    CRYSTAL CART  Polarized, UV Protection, Mirrored, Gradient R...   \n",
       "15   VINCENT CHASE     Polarized, UV Protection Round Sunglasses (51)   \n",
       "16        Fastrack                UV Protection Round Sunglasses (55)   \n",
       "17       ROYAL SON                   Mirrored Aviator Sunglasses (55)   \n",
       "18       ROYAL SON  UV Protection, Gradient Butterfly Sunglasses (62)   \n",
       "19  kingsunglasses  UV Protection, Mirrored Round Sunglasses (Free...   \n",
       "20        Fastrack      UV Protection Wayfarer Sunglasses (Free Size)   \n",
       "21   VINCENT CHASE  by Lenskart Polarized, UV Protection Wayfarer ...   \n",
       "22       ROYAL SON  Polarized, UV Protection Wayfarer Sunglasses (61)   \n",
       "23       New Specs         UV Protection Round Sunglasses (Free Size)   \n",
       "24       Rich Club        UV Protection, Others Round Sunglasses (48)   \n",
       "25      LIZA ANGEL  UV Protection, Riding Glasses, Night Vision Sp...   \n",
       "26      Lee Topper         UV Protection Round Sunglasses (Free Size)   \n",
       "27   VINCENT CHASE  by Lenskart Polarized, UV Protection Rectangul...   \n",
       "28       Elligator  UV Protection, Riding Glasses Rectangular, Ret...   \n",
       "29        Fastrack      UV Protection Wayfarer Sunglasses (Free Size)   \n",
       "30    Singco India  Gradient, Toughened Glass Lens, UV Protection ...   \n",
       "31        Fastrack      UV Protection Wayfarer Sunglasses (Free Size)   \n",
       "32       ROYAL SON                   Mirrored Aviator Sunglasses (58)   \n",
       "33              Mi          Polarized Wayfarer Sunglasses (Free Size)   \n",
       "34       New Specs   UV Protection Rectangular Sunglasses (Free Size)   \n",
       "35  kingsunglasses  Mirrored, UV Protection Wayfarer Sunglasses (F...   \n",
       "36          AISLIN  UV Protection, Gradient Butterfly, Retro Squar...   \n",
       "37        Fastrack             UV Protection Wayfarer Sunglasses (55)   \n",
       "38       ROYAL SON              Polarized Rectangular Sunglasses (60)   \n",
       "39       Elligator  UV Protection Retro Square, Round Sunglasses (54)   \n",
       "\n",
       "   Price of Products  \n",
       "0               ₹223  \n",
       "1             ₹1,009  \n",
       "2               ₹664  \n",
       "3               ₹213  \n",
       "4               ₹288  \n",
       "5               ₹499  \n",
       "6               ₹379  \n",
       "7               ₹329  \n",
       "8               ₹299  \n",
       "9               ₹719  \n",
       "10              ₹224  \n",
       "11              ₹719  \n",
       "12              ₹214  \n",
       "13              ₹399  \n",
       "14              ₹529  \n",
       "15            ₹1,099  \n",
       "16              ₹979  \n",
       "17              ₹379  \n",
       "18              ₹699  \n",
       "19              ₹265  \n",
       "20              ₹639  \n",
       "21              ₹749  \n",
       "22              ₹664  \n",
       "23              ₹268  \n",
       "24              ₹260  \n",
       "25              ₹169  \n",
       "26              ₹245  \n",
       "27              ₹749  \n",
       "28              ₹379  \n",
       "29              ₹719  \n",
       "30              ₹598  \n",
       "31              ₹849  \n",
       "32              ₹379  \n",
       "33              ₹849  \n",
       "34              ₹189  \n",
       "35              ₹269  \n",
       "36              ₹498  \n",
       "37              ₹721  \n",
       "38              ₹664  \n",
       "39              ₹329  "
      ]
     },
     "execution_count": 50,
     "metadata": {},
     "output_type": "execute_result"
    }
   ],
   "source": [
    "page2 = pd.DataFrame()\n",
    "page2['BRANDS'] = Brands\n",
    "page2['Product Description'] = product_desc\n",
    "page2['Price of Products'] = Price\n",
    "page2[0:40]"
   ]
  },
  {
   "cell_type": "code",
   "execution_count": 51,
   "id": "e21aa08a",
   "metadata": {},
   "outputs": [
    {
     "data": {
      "text/plain": [
       "<selenium.webdriver.remote.webelement.WebElement (session=\"8b25da1bc08cbbc5520ae4d5e3128e1a\", element=\"76c891b1-3865-451e-af5f-f517f02ab46b\")>"
      ]
     },
     "execution_count": 51,
     "metadata": {},
     "output_type": "execute_result"
    }
   ],
   "source": [
    "# now  wrirting  the  code  for  the next  button\n",
    "next_page3 = driver.find_element(By.XPATH,'/html/body/div[1]/div/div[3]/div[1]/div[2]/div[12]/div/div/nav/a[12]/span')\n",
    "next_page3"
   ]
  },
  {
   "cell_type": "code",
   "execution_count": 52,
   "id": "3a0c4dba",
   "metadata": {},
   "outputs": [],
   "source": [
    "next_page3.click()"
   ]
  },
  {
   "cell_type": "code",
   "execution_count": 53,
   "id": "c3ac065d",
   "metadata": {},
   "outputs": [],
   "source": [
    "#now we  will be  scraping  the  brand product description and price from page2\n",
    "brand_tags = driver.find_elements(By.CLASS_NAME,'_2WkVRV')\n",
    "descr_tags = driver.find_elements(By.CLASS_NAME,'IRpwTa')\n",
    "price_tags = driver.find_elements(By.XPATH,'//div[@class=\"_30jeq3\"]')"
   ]
  },
  {
   "cell_type": "code",
   "execution_count": 54,
   "id": "9ceb4777",
   "metadata": {},
   "outputs": [
    {
     "data": {
      "text/plain": [
       "40"
      ]
     },
     "execution_count": 54,
     "metadata": {},
     "output_type": "execute_result"
    }
   ],
   "source": [
    "Brands = []\n",
    "for i in brand_tags:\n",
    "    Brands.append(i.text)\n",
    "len(Brands)"
   ]
  },
  {
   "cell_type": "code",
   "execution_count": 55,
   "id": "8d079691",
   "metadata": {},
   "outputs": [
    {
     "data": {
      "text/plain": [
       "40"
      ]
     },
     "execution_count": 55,
     "metadata": {},
     "output_type": "execute_result"
    }
   ],
   "source": [
    "product_desc = []\n",
    "for i in descr_tags:\n",
    "    product_desc.append(i.text)\n",
    "len(product_desc)"
   ]
  },
  {
   "cell_type": "code",
   "execution_count": 56,
   "id": "b46d5701",
   "metadata": {},
   "outputs": [
    {
     "data": {
      "text/plain": [
       "40"
      ]
     },
     "execution_count": 56,
     "metadata": {},
     "output_type": "execute_result"
    }
   ],
   "source": [
    "Price = []\n",
    "for i in price_tags:\n",
    "    Price.append(i.text)\n",
    "len(Price)"
   ]
  },
  {
   "cell_type": "code",
   "execution_count": 58,
   "id": "156b6da0",
   "metadata": {},
   "outputs": [
    {
     "data": {
      "text/html": [
       "<div>\n",
       "<style scoped>\n",
       "    .dataframe tbody tr th:only-of-type {\n",
       "        vertical-align: middle;\n",
       "    }\n",
       "\n",
       "    .dataframe tbody tr th {\n",
       "        vertical-align: top;\n",
       "    }\n",
       "\n",
       "    .dataframe thead th {\n",
       "        text-align: right;\n",
       "    }\n",
       "</style>\n",
       "<table border=\"1\" class=\"dataframe\">\n",
       "  <thead>\n",
       "    <tr style=\"text-align: right;\">\n",
       "      <th></th>\n",
       "      <th>BRANDS</th>\n",
       "      <th>Product Description</th>\n",
       "      <th>Price of Products</th>\n",
       "    </tr>\n",
       "  </thead>\n",
       "  <tbody>\n",
       "    <tr>\n",
       "      <th>0</th>\n",
       "      <td>LIZA ANGEL</td>\n",
       "      <td>UV Protection, Night Vision, Riding Glasses Ro...</td>\n",
       "      <td>₹199</td>\n",
       "    </tr>\n",
       "    <tr>\n",
       "      <th>1</th>\n",
       "      <td>New Specs</td>\n",
       "      <td>UV Protection Aviator Sunglasses (Free Size)</td>\n",
       "      <td>₹214</td>\n",
       "    </tr>\n",
       "    <tr>\n",
       "      <th>2</th>\n",
       "      <td>GANSTA</td>\n",
       "      <td>UV Protection, Riding Glasses Aviator Sunglass...</td>\n",
       "      <td>₹314</td>\n",
       "    </tr>\n",
       "    <tr>\n",
       "      <th>3</th>\n",
       "      <td>VINCENT CHASE</td>\n",
       "      <td>by Lenskart Polarized, UV Protection Aviator S...</td>\n",
       "      <td>₹949</td>\n",
       "    </tr>\n",
       "    <tr>\n",
       "      <th>4</th>\n",
       "      <td>ROZZETTA CRAFT</td>\n",
       "      <td>UV Protection, Gradient Round Sunglasses (Free...</td>\n",
       "      <td>₹399</td>\n",
       "    </tr>\n",
       "    <tr>\n",
       "      <th>5</th>\n",
       "      <td>Fastrack</td>\n",
       "      <td>UV Protection Aviator Sunglasses (58)</td>\n",
       "      <td>₹1,169</td>\n",
       "    </tr>\n",
       "    <tr>\n",
       "      <th>6</th>\n",
       "      <td>VINCENT CHASE</td>\n",
       "      <td>by Lenskart Polarized, UV Protection Round Sun...</td>\n",
       "      <td>₹949</td>\n",
       "    </tr>\n",
       "    <tr>\n",
       "      <th>7</th>\n",
       "      <td>kingsunglasses</td>\n",
       "      <td>UV Protection Rectangular Sunglasses (55)</td>\n",
       "      <td>₹269</td>\n",
       "    </tr>\n",
       "    <tr>\n",
       "      <th>8</th>\n",
       "      <td>PIRASO</td>\n",
       "      <td>UV Protection Aviator Sunglasses (58)</td>\n",
       "      <td>₹345</td>\n",
       "    </tr>\n",
       "    <tr>\n",
       "      <th>9</th>\n",
       "      <td>PIRASO</td>\n",
       "      <td>UV Protection Butterfly Sunglasses (60)</td>\n",
       "      <td>₹405</td>\n",
       "    </tr>\n",
       "    <tr>\n",
       "      <th>10</th>\n",
       "      <td>Singco India</td>\n",
       "      <td>Riding Glasses, UV Protection, Others Aviator ...</td>\n",
       "      <td>₹232</td>\n",
       "    </tr>\n",
       "    <tr>\n",
       "      <th>11</th>\n",
       "      <td>VINCENT CHASE</td>\n",
       "      <td>Polarized, UV Protection Round Sunglasses (50)</td>\n",
       "      <td>₹949</td>\n",
       "    </tr>\n",
       "    <tr>\n",
       "      <th>12</th>\n",
       "      <td>Fastrack</td>\n",
       "      <td>Polarized Retro Square Sunglasses (Free Size)</td>\n",
       "      <td>₹639</td>\n",
       "    </tr>\n",
       "    <tr>\n",
       "      <th>13</th>\n",
       "      <td>ROYAL SON</td>\n",
       "      <td>UV Protection, Gradient Wayfarer Sunglasses (55)</td>\n",
       "      <td>₹217</td>\n",
       "    </tr>\n",
       "    <tr>\n",
       "      <th>14</th>\n",
       "      <td>Rich Club</td>\n",
       "      <td>Polarized Round Sunglasses (48)</td>\n",
       "      <td>₹225</td>\n",
       "    </tr>\n",
       "    <tr>\n",
       "      <th>15</th>\n",
       "      <td>Fastrack</td>\n",
       "      <td>UV Protection Wayfarer Sunglasses (Free Size)</td>\n",
       "      <td>₹809</td>\n",
       "    </tr>\n",
       "    <tr>\n",
       "      <th>16</th>\n",
       "      <td>kingsunglasses</td>\n",
       "      <td>UV Protection, Mirrored Aviator Sunglasses (Fr...</td>\n",
       "      <td>₹269</td>\n",
       "    </tr>\n",
       "    <tr>\n",
       "      <th>17</th>\n",
       "      <td>ROZZETTA CRAFT</td>\n",
       "      <td>UV Protection, Gradient Rectangular Sunglasses...</td>\n",
       "      <td>₹449</td>\n",
       "    </tr>\n",
       "    <tr>\n",
       "      <th>18</th>\n",
       "      <td>Mi</td>\n",
       "      <td>Polarized Aviator Sunglasses (Free Size)</td>\n",
       "      <td>₹949</td>\n",
       "    </tr>\n",
       "    <tr>\n",
       "      <th>19</th>\n",
       "      <td>AISLIN</td>\n",
       "      <td>UV Protection, Gradient Oval Sunglasses (58)</td>\n",
       "      <td>₹498</td>\n",
       "    </tr>\n",
       "    <tr>\n",
       "      <th>20</th>\n",
       "      <td>GANSTA</td>\n",
       "      <td>UV Protection Aviator Sunglasses (57)</td>\n",
       "      <td>₹314</td>\n",
       "    </tr>\n",
       "    <tr>\n",
       "      <th>21</th>\n",
       "      <td>Fastrack</td>\n",
       "      <td>UV Protection Sports Sunglasses (Free Size)</td>\n",
       "      <td>₹759</td>\n",
       "    </tr>\n",
       "    <tr>\n",
       "      <th>22</th>\n",
       "      <td>Ray-Ban</td>\n",
       "      <td>Mirrored Aviator Sunglasses (63)</td>\n",
       "      <td>₹3,124</td>\n",
       "    </tr>\n",
       "    <tr>\n",
       "      <th>23</th>\n",
       "      <td>VINCENT CHASE</td>\n",
       "      <td>by Lenskart Polarized, UV Protection Round Sun...</td>\n",
       "      <td>₹949</td>\n",
       "    </tr>\n",
       "    <tr>\n",
       "      <th>24</th>\n",
       "      <td>DEIXELS</td>\n",
       "      <td>UV Protection Wayfarer Sunglasses (Free Size)</td>\n",
       "      <td>₹217</td>\n",
       "    </tr>\n",
       "    <tr>\n",
       "      <th>25</th>\n",
       "      <td>ROYAL SON</td>\n",
       "      <td>Polarized, UV Protection Aviator Sunglasses (58)</td>\n",
       "      <td>₹711</td>\n",
       "    </tr>\n",
       "    <tr>\n",
       "      <th>26</th>\n",
       "      <td>ROYAL SON</td>\n",
       "      <td>UV Protection Over-sized, Retro Square Sunglas...</td>\n",
       "      <td>₹664</td>\n",
       "    </tr>\n",
       "    <tr>\n",
       "      <th>27</th>\n",
       "      <td>Elligator</td>\n",
       "      <td>UV Protection Aviator Sunglasses (55)</td>\n",
       "      <td>₹329</td>\n",
       "    </tr>\n",
       "    <tr>\n",
       "      <th>28</th>\n",
       "      <td>Fastrack</td>\n",
       "      <td>UV Protection Aviator Sunglasses (57)</td>\n",
       "      <td>₹639</td>\n",
       "    </tr>\n",
       "    <tr>\n",
       "      <th>29</th>\n",
       "      <td>Fastrack</td>\n",
       "      <td>UV Protection Wayfarer Sunglasses (Free Size)</td>\n",
       "      <td>₹639</td>\n",
       "    </tr>\n",
       "    <tr>\n",
       "      <th>30</th>\n",
       "      <td>PHENOMENAL</td>\n",
       "      <td>UV Protection Retro Square Sunglasses (Free Size)</td>\n",
       "      <td>₹369</td>\n",
       "    </tr>\n",
       "    <tr>\n",
       "      <th>31</th>\n",
       "      <td>kingsunglasses</td>\n",
       "      <td>UV Protection, Night Vision Wayfarer Sunglasse...</td>\n",
       "      <td>₹299</td>\n",
       "    </tr>\n",
       "    <tr>\n",
       "      <th>32</th>\n",
       "      <td>AISLIN</td>\n",
       "      <td>UV Protection, Gradient Butterfly, Retro Squar...</td>\n",
       "      <td>₹498</td>\n",
       "    </tr>\n",
       "    <tr>\n",
       "      <th>33</th>\n",
       "      <td>Fastrack</td>\n",
       "      <td>UV Protection Wayfarer Sunglasses (54)</td>\n",
       "      <td>₹809</td>\n",
       "    </tr>\n",
       "    <tr>\n",
       "      <th>34</th>\n",
       "      <td>Singco India</td>\n",
       "      <td>Gradient, Toughened Glass Lens, UV Protection ...</td>\n",
       "      <td>₹629</td>\n",
       "    </tr>\n",
       "    <tr>\n",
       "      <th>35</th>\n",
       "      <td>PHENOMENAL</td>\n",
       "      <td>UV Protection Retro Square Sunglasses (53)</td>\n",
       "      <td>₹339</td>\n",
       "    </tr>\n",
       "    <tr>\n",
       "      <th>36</th>\n",
       "      <td>ROYAL SON</td>\n",
       "      <td>UV Protection Rectangular, Retro Square Sungla...</td>\n",
       "      <td>₹474</td>\n",
       "    </tr>\n",
       "    <tr>\n",
       "      <th>37</th>\n",
       "      <td>VINCENT CHASE</td>\n",
       "      <td>by Lenskart UV Protection Round Sunglasses (58)</td>\n",
       "      <td>₹949</td>\n",
       "    </tr>\n",
       "    <tr>\n",
       "      <th>38</th>\n",
       "      <td>VINCENT CHASE</td>\n",
       "      <td>by Lenskart Polarized, UV Protection Rectangul...</td>\n",
       "      <td>₹849</td>\n",
       "    </tr>\n",
       "    <tr>\n",
       "      <th>39</th>\n",
       "      <td>GHAWK</td>\n",
       "      <td>UV Protection Rectangular Sunglasses (Free Size)</td>\n",
       "      <td>₹319</td>\n",
       "    </tr>\n",
       "  </tbody>\n",
       "</table>\n",
       "</div>"
      ],
      "text/plain": [
       "            BRANDS                                Product Description  \\\n",
       "0       LIZA ANGEL  UV Protection, Night Vision, Riding Glasses Ro...   \n",
       "1        New Specs       UV Protection Aviator Sunglasses (Free Size)   \n",
       "2           GANSTA  UV Protection, Riding Glasses Aviator Sunglass...   \n",
       "3    VINCENT CHASE  by Lenskart Polarized, UV Protection Aviator S...   \n",
       "4   ROZZETTA CRAFT  UV Protection, Gradient Round Sunglasses (Free...   \n",
       "5         Fastrack              UV Protection Aviator Sunglasses (58)   \n",
       "6    VINCENT CHASE  by Lenskart Polarized, UV Protection Round Sun...   \n",
       "7   kingsunglasses          UV Protection Rectangular Sunglasses (55)   \n",
       "8           PIRASO              UV Protection Aviator Sunglasses (58)   \n",
       "9           PIRASO            UV Protection Butterfly Sunglasses (60)   \n",
       "10    Singco India  Riding Glasses, UV Protection, Others Aviator ...   \n",
       "11   VINCENT CHASE     Polarized, UV Protection Round Sunglasses (50)   \n",
       "12        Fastrack      Polarized Retro Square Sunglasses (Free Size)   \n",
       "13       ROYAL SON   UV Protection, Gradient Wayfarer Sunglasses (55)   \n",
       "14       Rich Club                    Polarized Round Sunglasses (48)   \n",
       "15        Fastrack      UV Protection Wayfarer Sunglasses (Free Size)   \n",
       "16  kingsunglasses  UV Protection, Mirrored Aviator Sunglasses (Fr...   \n",
       "17  ROZZETTA CRAFT  UV Protection, Gradient Rectangular Sunglasses...   \n",
       "18              Mi           Polarized Aviator Sunglasses (Free Size)   \n",
       "19          AISLIN       UV Protection, Gradient Oval Sunglasses (58)   \n",
       "20          GANSTA              UV Protection Aviator Sunglasses (57)   \n",
       "21        Fastrack        UV Protection Sports Sunglasses (Free Size)   \n",
       "22         Ray-Ban                   Mirrored Aviator Sunglasses (63)   \n",
       "23   VINCENT CHASE  by Lenskart Polarized, UV Protection Round Sun...   \n",
       "24         DEIXELS      UV Protection Wayfarer Sunglasses (Free Size)   \n",
       "25       ROYAL SON   Polarized, UV Protection Aviator Sunglasses (58)   \n",
       "26       ROYAL SON  UV Protection Over-sized, Retro Square Sunglas...   \n",
       "27       Elligator              UV Protection Aviator Sunglasses (55)   \n",
       "28        Fastrack              UV Protection Aviator Sunglasses (57)   \n",
       "29        Fastrack      UV Protection Wayfarer Sunglasses (Free Size)   \n",
       "30      PHENOMENAL  UV Protection Retro Square Sunglasses (Free Size)   \n",
       "31  kingsunglasses  UV Protection, Night Vision Wayfarer Sunglasse...   \n",
       "32          AISLIN  UV Protection, Gradient Butterfly, Retro Squar...   \n",
       "33        Fastrack             UV Protection Wayfarer Sunglasses (54)   \n",
       "34    Singco India  Gradient, Toughened Glass Lens, UV Protection ...   \n",
       "35      PHENOMENAL         UV Protection Retro Square Sunglasses (53)   \n",
       "36       ROYAL SON  UV Protection Rectangular, Retro Square Sungla...   \n",
       "37   VINCENT CHASE    by Lenskart UV Protection Round Sunglasses (58)   \n",
       "38   VINCENT CHASE  by Lenskart Polarized, UV Protection Rectangul...   \n",
       "39           GHAWK   UV Protection Rectangular Sunglasses (Free Size)   \n",
       "\n",
       "   Price of Products  \n",
       "0               ₹199  \n",
       "1               ₹214  \n",
       "2               ₹314  \n",
       "3               ₹949  \n",
       "4               ₹399  \n",
       "5             ₹1,169  \n",
       "6               ₹949  \n",
       "7               ₹269  \n",
       "8               ₹345  \n",
       "9               ₹405  \n",
       "10              ₹232  \n",
       "11              ₹949  \n",
       "12              ₹639  \n",
       "13              ₹217  \n",
       "14              ₹225  \n",
       "15              ₹809  \n",
       "16              ₹269  \n",
       "17              ₹449  \n",
       "18              ₹949  \n",
       "19              ₹498  \n",
       "20              ₹314  \n",
       "21              ₹759  \n",
       "22            ₹3,124  \n",
       "23              ₹949  \n",
       "24              ₹217  \n",
       "25              ₹711  \n",
       "26              ₹664  \n",
       "27              ₹329  \n",
       "28              ₹639  \n",
       "29              ₹639  \n",
       "30              ₹369  \n",
       "31              ₹299  \n",
       "32              ₹498  \n",
       "33              ₹809  \n",
       "34              ₹629  \n",
       "35              ₹339  \n",
       "36              ₹474  \n",
       "37              ₹949  \n",
       "38              ₹849  \n",
       "39              ₹319  "
      ]
     },
     "execution_count": 58,
     "metadata": {},
     "output_type": "execute_result"
    }
   ],
   "source": [
    "page3 = pd.DataFrame()\n",
    "page3['BRANDS'] = Brands\n",
    "page3['Product Description'] = product_desc\n",
    "page3['Price of Products'] = Price\n",
    "page3[0:40]"
   ]
  },
  {
   "cell_type": "code",
   "execution_count": 59,
   "id": "c8028837",
   "metadata": {},
   "outputs": [
    {
     "data": {
      "text/html": [
       "<div>\n",
       "<style scoped>\n",
       "    .dataframe tbody tr th:only-of-type {\n",
       "        vertical-align: middle;\n",
       "    }\n",
       "\n",
       "    .dataframe tbody tr th {\n",
       "        vertical-align: top;\n",
       "    }\n",
       "\n",
       "    .dataframe thead th {\n",
       "        text-align: right;\n",
       "    }\n",
       "</style>\n",
       "<table border=\"1\" class=\"dataframe\">\n",
       "  <thead>\n",
       "    <tr style=\"text-align: right;\">\n",
       "      <th></th>\n",
       "      <th>BRANDS</th>\n",
       "      <th>Product Description</th>\n",
       "      <th>Price of Products</th>\n",
       "    </tr>\n",
       "  </thead>\n",
       "  <tbody>\n",
       "    <tr>\n",
       "      <th>0</th>\n",
       "      <td>Fastrack</td>\n",
       "      <td>UV Protection Rectangular Sunglasses (Free Size)</td>\n",
       "      <td>₹639</td>\n",
       "    </tr>\n",
       "    <tr>\n",
       "      <th>1</th>\n",
       "      <td>DAHAAZIL</td>\n",
       "      <td>UV Protection, Night Vision, Riding Glasses Wa...</td>\n",
       "      <td>₹177</td>\n",
       "    </tr>\n",
       "    <tr>\n",
       "      <th>2</th>\n",
       "      <td>New Specs</td>\n",
       "      <td>UV Protection Rectangular Sunglasses (Free Size)</td>\n",
       "      <td>₹264</td>\n",
       "    </tr>\n",
       "    <tr>\n",
       "      <th>3</th>\n",
       "      <td>PIRASO</td>\n",
       "      <td>UV Protection Aviator Sunglasses (54)</td>\n",
       "      <td>₹224</td>\n",
       "    </tr>\n",
       "    <tr>\n",
       "      <th>4</th>\n",
       "      <td>Elligator</td>\n",
       "      <td>UV Protection Round Sunglasses (54)</td>\n",
       "      <td>₹298</td>\n",
       "    </tr>\n",
       "    <tr>\n",
       "      <th>...</th>\n",
       "      <td>...</td>\n",
       "      <td>...</td>\n",
       "      <td>...</td>\n",
       "    </tr>\n",
       "    <tr>\n",
       "      <th>15</th>\n",
       "      <td>Fastrack</td>\n",
       "      <td>UV Protection Wayfarer Sunglasses (Free Size)</td>\n",
       "      <td>₹809</td>\n",
       "    </tr>\n",
       "    <tr>\n",
       "      <th>16</th>\n",
       "      <td>kingsunglasses</td>\n",
       "      <td>UV Protection, Mirrored Aviator Sunglasses (Fr...</td>\n",
       "      <td>₹269</td>\n",
       "    </tr>\n",
       "    <tr>\n",
       "      <th>17</th>\n",
       "      <td>ROZZETTA CRAFT</td>\n",
       "      <td>UV Protection, Gradient Rectangular Sunglasses...</td>\n",
       "      <td>₹449</td>\n",
       "    </tr>\n",
       "    <tr>\n",
       "      <th>18</th>\n",
       "      <td>Mi</td>\n",
       "      <td>Polarized Aviator Sunglasses (Free Size)</td>\n",
       "      <td>₹949</td>\n",
       "    </tr>\n",
       "    <tr>\n",
       "      <th>19</th>\n",
       "      <td>AISLIN</td>\n",
       "      <td>UV Protection, Gradient Oval Sunglasses (58)</td>\n",
       "      <td>₹498</td>\n",
       "    </tr>\n",
       "  </tbody>\n",
       "</table>\n",
       "<p>100 rows × 3 columns</p>\n",
       "</div>"
      ],
      "text/plain": [
       "            BRANDS                                Product Description  \\\n",
       "0         Fastrack   UV Protection Rectangular Sunglasses (Free Size)   \n",
       "1         DAHAAZIL  UV Protection, Night Vision, Riding Glasses Wa...   \n",
       "2        New Specs   UV Protection Rectangular Sunglasses (Free Size)   \n",
       "3           PIRASO              UV Protection Aviator Sunglasses (54)   \n",
       "4        Elligator                UV Protection Round Sunglasses (54)   \n",
       "..             ...                                                ...   \n",
       "15        Fastrack      UV Protection Wayfarer Sunglasses (Free Size)   \n",
       "16  kingsunglasses  UV Protection, Mirrored Aviator Sunglasses (Fr...   \n",
       "17  ROZZETTA CRAFT  UV Protection, Gradient Rectangular Sunglasses...   \n",
       "18              Mi           Polarized Aviator Sunglasses (Free Size)   \n",
       "19          AISLIN       UV Protection, Gradient Oval Sunglasses (58)   \n",
       "\n",
       "   Price of Products  \n",
       "0               ₹639  \n",
       "1               ₹177  \n",
       "2               ₹264  \n",
       "3               ₹224  \n",
       "4               ₹298  \n",
       "..               ...  \n",
       "15              ₹809  \n",
       "16              ₹269  \n",
       "17              ₹449  \n",
       "18              ₹949  \n",
       "19              ₹498  \n",
       "\n",
       "[100 rows x 3 columns]"
      ]
     },
     "execution_count": 59,
     "metadata": {},
     "output_type": "execute_result"
    }
   ],
   "source": [
    "#combining  allin one making  a one  dataframe  using the concat  function \n",
    "frames= [page1,page2,page3]\n",
    "flipkart_sunglasses= pd.concat(frames,sort= False)\n",
    "flipkart_sunglasses[0:100]"
   ]
  },
  {
   "cell_type": "markdown",
   "id": "3fa96f65",
   "metadata": {},
   "source": [
    "### Answer5 :: : Scrape 100 reviews data from flipkart.com for iphone phone. You have to go the link:\n",
    "### above page you have to scrape the tick marked attributes.These are:\n",
    "### 1. Rating\n",
    "### 2. Review summary\n",
    "### 3. Full review\n",
    "### 4. You have to scrape this data for first 100 review"
   ]
  },
  {
   "cell_type": "code",
   "execution_count": 30,
   "id": "e54362ec",
   "metadata": {},
   "outputs": [],
   "source": [
    "#command for open  the  automation window of browser \n",
    "driver = webdriver.Chrome('chromedriver.exe')"
   ]
  },
  {
   "cell_type": "code",
   "execution_count": 31,
   "id": "11e7279f",
   "metadata": {},
   "outputs": [],
   "source": [
    "driver.get('https://www.flipkart.com/apple-iphone-11-black-64-gb-includes-earpods-power-adapter/p/itm0f37c2240b217?pid=MOBFKCTSVZAXUHGR&lid=LSTMOBFKCTSVZAXUHGREPBFGI&marketplace')\n"
   ]
  },
  {
   "cell_type": "code",
   "execution_count": 32,
   "id": "c26b3bcf",
   "metadata": {},
   "outputs": [],
   "source": [
    "#for  showing  all  the  elements  or for  expanding  the neccessary elements \n",
    "show_all_review_button = driver.find_element(By.XPATH,'//*[@id=\"container\"]/div/div[3]/div[1]/div[2]/div[9]/div/div/div[5]/div/a/div')\n",
    "show_all_review_button.click()"
   ]
  },
  {
   "cell_type": "code",
   "execution_count": 86,
   "id": "258da9d0",
   "metadata": {},
   "outputs": [
    {
     "ename": "IndexError",
     "evalue": "list index out of range",
     "output_type": "error",
     "traceback": [
      "\u001b[1;31m---------------------------------------------------------------------------\u001b[0m",
      "\u001b[1;31mIndexError\u001b[0m                                Traceback (most recent call last)",
      "Input \u001b[1;32mIn [86]\u001b[0m, in \u001b[0;36m<cell line: 3>\u001b[1;34m()\u001b[0m\n\u001b[0;32m      1\u001b[0m \u001b[38;5;66;03m#Checking the first review to study its structure\u001b[39;00m\n\u001b[0;32m      2\u001b[0m reviews \u001b[38;5;241m=\u001b[39m driver\u001b[38;5;241m.\u001b[39mfind_elements(By\u001b[38;5;241m.\u001b[39mCLASS_NAME,\u001b[38;5;124m'\u001b[39m\u001b[38;5;124m_2wzgFH\u001b[39m\u001b[38;5;124m'\u001b[39m)\n\u001b[1;32m----> 3\u001b[0m a \u001b[38;5;241m=\u001b[39m\u001b[43mreviews\u001b[49m\u001b[43m[\u001b[49m\u001b[38;5;241;43m0\u001b[39;49m\u001b[43m]\u001b[49m\u001b[38;5;241m.\u001b[39mtext\u001b[38;5;241m.\u001b[39msplit(\u001b[38;5;124m'\u001b[39m\u001b[38;5;130;01m\\n\u001b[39;00m\u001b[38;5;124m'\u001b[39m)\n",
      "\u001b[1;31mIndexError\u001b[0m: list index out of range"
     ]
    }
   ],
   "source": [
    "#Checking the first review to study its structure\n",
    "reviews = driver.find_elements(By.CLASS_NAME,'_2wzgFH')\n",
    "a =reviews[0].text.split('\\n')"
   ]
  },
  {
   "cell_type": "code",
   "execution_count": null,
   "id": "9acad119",
   "metadata": {},
   "outputs": [],
   "source": [
    "### There is an servor issue its not working properly."
   ]
  },
  {
   "cell_type": "code",
   "execution_count": 531,
   "id": "205fad5c",
   "metadata": {},
   "outputs": [
    {
     "data": {
      "text/plain": [
       "['5',\n",
       " 'Simply awesome',\n",
       " 'Really satisfied with the Product I received... It’s totally genuine and the packaging was also really good so if ur planning to buy just go for it.',\n",
       " 'Flipkart Customer',\n",
       " 'Certified Buyer, Mokokchung',\n",
       " 'Nov, 2020',\n",
       " '122721617']"
      ]
     },
     "execution_count": 531,
     "metadata": {},
     "output_type": "execute_result"
    }
   ],
   "source": [
    "a"
   ]
  },
  {
   "cell_type": "code",
   "execution_count": 498,
   "id": "00d12d6f",
   "metadata": {},
   "outputs": [],
   "source": [
    "def iPhoneReviewScrapper():\n",
    "    '''This function scrapes all the iPhone reviews from Flipkarts and then goes to the next page by clicking the Next button'''\n",
    "    rating = []\n",
    "    summary = []\n",
    "    review = []\n",
    "    \n",
    "    reviewList = driver.find_elements(By.CLASS_NAME,'_2wzgFH')\n",
    "    for index in range(len(reviewList)):\n",
    "        reviewItems = reviewList[index].text.split('\\n')\n",
    "        rating.append(reviewItems[0])\n",
    "        summary.append(reviewItems[1])\n",
    "        review.append(' '.join(reviewItems[2:(len(reviewItems)-4)]).replace('  ', ' '))\n",
    "    \n",
    "    #Clicking the next button and waiting for 2 seconds\n",
    "    try:\n",
    "        #This block is for page 2 and subsiquent pages where there is 'Previous' and 'Next' buttons both of which\n",
    "        #have the class '_1LKTO3'\n",
    "        driver.find_elements(By.CLASS_NAME,'_1LKTO3')[1].click()\n",
    "    except:\n",
    "        #This exception block is for the first page only where there is only 'Next' button\n",
    "        driver.find_element(By.CLASS_NAME,'_1LKTO3').click()\n",
    "    return rating, summary, review"
   ]
  },
  {
   "cell_type": "code",
   "execution_count": null,
   "id": "67be70fe",
   "metadata": {},
   "outputs": [],
   "source": []
  },
  {
   "cell_type": "code",
   "execution_count": 499,
   "id": "f233ec46",
   "metadata": {},
   "outputs": [
    {
     "name": "stdout",
     "output_type": "stream",
     "text": [
      "Review Page 1 scrapped\n"
     ]
    },
    {
     "ename": "StaleElementReferenceException",
     "evalue": "Message: stale element reference: element is not attached to the page document\n  (Session info: chrome=103.0.5060.114)\nStacktrace:\nBacktrace:\n\tOrdinal0 [0x005F6463+2188387]\n\tOrdinal0 [0x0058E461+1762401]\n\tOrdinal0 [0x004A3D78+802168]\n\tOrdinal0 [0x004A6754+812884]\n\tOrdinal0 [0x004A6612+812562]\n\tOrdinal0 [0x004A68A0+813216]\n\tOrdinal0 [0x004D7D63+1015139]\n\tOrdinal0 [0x004D5F68+1007464]\n\tOrdinal0 [0x004D3C6B+998507]\n\tOrdinal0 [0x004D29D9+993753]\n\tOrdinal0 [0x004C8613+951827]\n\tOrdinal0 [0x004EC7DC+1099740]\n\tOrdinal0 [0x004C7FF4+950260]\n\tOrdinal0 [0x004EC9F4+1100276]\n\tOrdinal0 [0x004FCC22+1166370]\n\tOrdinal0 [0x004EC5F6+1099254]\n\tOrdinal0 [0x004C6BE0+945120]\n\tOrdinal0 [0x004C7AD6+948950]\n\tGetHandleVerifier [0x008971F2+2712546]\n\tGetHandleVerifier [0x0088886D+2652765]\n\tGetHandleVerifier [0x0068002A+520730]\n\tGetHandleVerifier [0x0067EE06+516086]\n\tOrdinal0 [0x0059468B+1787531]\n\tOrdinal0 [0x00598E88+1805960]\n\tOrdinal0 [0x00598F75+1806197]\n\tOrdinal0 [0x005A1DF1+1842673]\n\tBaseThreadInitThunk [0x76C36739+25]\n\tRtlGetFullPathName_UEx [0x77D68FEF+1215]\n\tRtlGetFullPathName_UEx [0x77D68FBD+1165]\n",
     "output_type": "error",
     "traceback": [
      "\u001b[1;31m---------------------------------------------------------------------------\u001b[0m",
      "\u001b[1;31mAttributeError\u001b[0m                            Traceback (most recent call last)",
      "Input \u001b[1;32mIn [498]\u001b[0m, in \u001b[0;36miPhoneReviewScrapper\u001b[1;34m()\u001b[0m\n\u001b[0;32m     15\u001b[0m \u001b[38;5;28;01mtry\u001b[39;00m:\n\u001b[0;32m     16\u001b[0m     \u001b[38;5;66;03m#This block is for page 2 and subsiquent pages where there is 'Previous' and 'Next' buttons both of which\u001b[39;00m\n\u001b[0;32m     17\u001b[0m     \u001b[38;5;66;03m#have the class '_1LKTO3'\u001b[39;00m\n\u001b[1;32m---> 18\u001b[0m     \u001b[43mdriver\u001b[49m\u001b[38;5;241;43m.\u001b[39;49m\u001b[43mfind_elements\u001b[49m\u001b[43m(\u001b[49m\u001b[43mBy\u001b[49m\u001b[38;5;241;43m.\u001b[39;49m\u001b[43mCLASS_NAME\u001b[49m\u001b[43m,\u001b[49m\u001b[38;5;124;43m'\u001b[39;49m\u001b[38;5;124;43m_1LKTO3\u001b[39;49m\u001b[38;5;124;43m'\u001b[39;49m\u001b[43m)\u001b[49m\u001b[38;5;241;43m.\u001b[39;49m\u001b[43mclick\u001b[49m()\n\u001b[0;32m     19\u001b[0m \u001b[38;5;28;01mexcept\u001b[39;00m:\n\u001b[0;32m     20\u001b[0m     \u001b[38;5;66;03m#This exception block is for the first page only where there is only 'Next' button\u001b[39;00m\n",
      "\u001b[1;31mAttributeError\u001b[0m: 'list' object has no attribute 'click'",
      "\nDuring handling of the above exception, another exception occurred:\n",
      "\u001b[1;31mStaleElementReferenceException\u001b[0m            Traceback (most recent call last)",
      "Input \u001b[1;32mIn [499]\u001b[0m, in \u001b[0;36m<cell line: 6>\u001b[1;34m()\u001b[0m\n\u001b[0;32m      4\u001b[0m iPhoneReview \u001b[38;5;241m=\u001b[39m []\n\u001b[0;32m      6\u001b[0m \u001b[38;5;28;01mfor\u001b[39;00m index \u001b[38;5;129;01min\u001b[39;00m \u001b[38;5;28mrange\u001b[39m(\u001b[38;5;241m0\u001b[39m, \u001b[38;5;241m10\u001b[39m):\n\u001b[1;32m----> 7\u001b[0m     r, s, re \u001b[38;5;241m=\u001b[39m \u001b[43miPhoneReviewScrapper\u001b[49m\u001b[43m(\u001b[49m\u001b[43m)\u001b[49m\n\u001b[0;32m      8\u001b[0m     iPhoneRating\u001b[38;5;241m.\u001b[39mextend(r)\u001b[38;5;66;03m#here we have used extend function  to  add the data stored  in the lists\u001b[39;00m\n\u001b[0;32m      9\u001b[0m     iPhoneSummary\u001b[38;5;241m.\u001b[39mextend(s)\n",
      "Input \u001b[1;32mIn [498]\u001b[0m, in \u001b[0;36miPhoneReviewScrapper\u001b[1;34m()\u001b[0m\n\u001b[0;32m     18\u001b[0m     driver\u001b[38;5;241m.\u001b[39mfind_elements(By\u001b[38;5;241m.\u001b[39mCLASS_NAME,\u001b[38;5;124m'\u001b[39m\u001b[38;5;124m_1LKTO3\u001b[39m\u001b[38;5;124m'\u001b[39m)\u001b[38;5;241m.\u001b[39mclick()\n\u001b[0;32m     19\u001b[0m \u001b[38;5;28;01mexcept\u001b[39;00m:\n\u001b[0;32m     20\u001b[0m     \u001b[38;5;66;03m#This exception block is for the first page only where there is only 'Next' button\u001b[39;00m\n\u001b[1;32m---> 21\u001b[0m     \u001b[43mdriver\u001b[49m\u001b[38;5;241;43m.\u001b[39;49m\u001b[43mfind_element\u001b[49m\u001b[43m(\u001b[49m\u001b[43mBy\u001b[49m\u001b[38;5;241;43m.\u001b[39;49m\u001b[43mCLASS_NAME\u001b[49m\u001b[43m,\u001b[49m\u001b[38;5;124;43m'\u001b[39;49m\u001b[38;5;124;43m_1LKTO3\u001b[39;49m\u001b[38;5;124;43m'\u001b[39;49m\u001b[43m)\u001b[49m\u001b[38;5;241;43m.\u001b[39;49m\u001b[43mclick\u001b[49m\u001b[43m(\u001b[49m\u001b[43m)\u001b[49m\n\u001b[0;32m     22\u001b[0m \u001b[38;5;28;01mreturn\u001b[39;00m rating, summary, review\n",
      "File \u001b[1;32m~\\anaconda3\\lib\\site-packages\\selenium\\webdriver\\remote\\webelement.py:88\u001b[0m, in \u001b[0;36mWebElement.click\u001b[1;34m(self)\u001b[0m\n\u001b[0;32m     86\u001b[0m \u001b[38;5;28;01mdef\u001b[39;00m \u001b[38;5;21mclick\u001b[39m(\u001b[38;5;28mself\u001b[39m) \u001b[38;5;241m-\u001b[39m\u001b[38;5;241m>\u001b[39m \u001b[38;5;28;01mNone\u001b[39;00m:\n\u001b[0;32m     87\u001b[0m     \u001b[38;5;124;03m\"\"\"Clicks the element.\"\"\"\u001b[39;00m\n\u001b[1;32m---> 88\u001b[0m     \u001b[38;5;28;43mself\u001b[39;49m\u001b[38;5;241;43m.\u001b[39;49m\u001b[43m_execute\u001b[49m\u001b[43m(\u001b[49m\u001b[43mCommand\u001b[49m\u001b[38;5;241;43m.\u001b[39;49m\u001b[43mCLICK_ELEMENT\u001b[49m\u001b[43m)\u001b[49m\n",
      "File \u001b[1;32m~\\anaconda3\\lib\\site-packages\\selenium\\webdriver\\remote\\webelement.py:396\u001b[0m, in \u001b[0;36mWebElement._execute\u001b[1;34m(self, command, params)\u001b[0m\n\u001b[0;32m    394\u001b[0m     params \u001b[38;5;241m=\u001b[39m {}\n\u001b[0;32m    395\u001b[0m params[\u001b[38;5;124m'\u001b[39m\u001b[38;5;124mid\u001b[39m\u001b[38;5;124m'\u001b[39m] \u001b[38;5;241m=\u001b[39m \u001b[38;5;28mself\u001b[39m\u001b[38;5;241m.\u001b[39m_id\n\u001b[1;32m--> 396\u001b[0m \u001b[38;5;28;01mreturn\u001b[39;00m \u001b[38;5;28;43mself\u001b[39;49m\u001b[38;5;241;43m.\u001b[39;49m\u001b[43m_parent\u001b[49m\u001b[38;5;241;43m.\u001b[39;49m\u001b[43mexecute\u001b[49m\u001b[43m(\u001b[49m\u001b[43mcommand\u001b[49m\u001b[43m,\u001b[49m\u001b[43m \u001b[49m\u001b[43mparams\u001b[49m\u001b[43m)\u001b[49m\n",
      "File \u001b[1;32m~\\anaconda3\\lib\\site-packages\\selenium\\webdriver\\remote\\webdriver.py:435\u001b[0m, in \u001b[0;36mWebDriver.execute\u001b[1;34m(self, driver_command, params)\u001b[0m\n\u001b[0;32m    433\u001b[0m response \u001b[38;5;241m=\u001b[39m \u001b[38;5;28mself\u001b[39m\u001b[38;5;241m.\u001b[39mcommand_executor\u001b[38;5;241m.\u001b[39mexecute(driver_command, params)\n\u001b[0;32m    434\u001b[0m \u001b[38;5;28;01mif\u001b[39;00m response:\n\u001b[1;32m--> 435\u001b[0m     \u001b[38;5;28;43mself\u001b[39;49m\u001b[38;5;241;43m.\u001b[39;49m\u001b[43merror_handler\u001b[49m\u001b[38;5;241;43m.\u001b[39;49m\u001b[43mcheck_response\u001b[49m\u001b[43m(\u001b[49m\u001b[43mresponse\u001b[49m\u001b[43m)\u001b[49m\n\u001b[0;32m    436\u001b[0m     response[\u001b[38;5;124m'\u001b[39m\u001b[38;5;124mvalue\u001b[39m\u001b[38;5;124m'\u001b[39m] \u001b[38;5;241m=\u001b[39m \u001b[38;5;28mself\u001b[39m\u001b[38;5;241m.\u001b[39m_unwrap_value(\n\u001b[0;32m    437\u001b[0m         response\u001b[38;5;241m.\u001b[39mget(\u001b[38;5;124m'\u001b[39m\u001b[38;5;124mvalue\u001b[39m\u001b[38;5;124m'\u001b[39m, \u001b[38;5;28;01mNone\u001b[39;00m))\n\u001b[0;32m    438\u001b[0m     \u001b[38;5;28;01mreturn\u001b[39;00m response\n",
      "File \u001b[1;32m~\\anaconda3\\lib\\site-packages\\selenium\\webdriver\\remote\\errorhandler.py:247\u001b[0m, in \u001b[0;36mErrorHandler.check_response\u001b[1;34m(self, response)\u001b[0m\n\u001b[0;32m    245\u001b[0m         alert_text \u001b[38;5;241m=\u001b[39m value[\u001b[38;5;124m'\u001b[39m\u001b[38;5;124malert\u001b[39m\u001b[38;5;124m'\u001b[39m]\u001b[38;5;241m.\u001b[39mget(\u001b[38;5;124m'\u001b[39m\u001b[38;5;124mtext\u001b[39m\u001b[38;5;124m'\u001b[39m)\n\u001b[0;32m    246\u001b[0m     \u001b[38;5;28;01mraise\u001b[39;00m exception_class(message, screen, stacktrace, alert_text)  \u001b[38;5;66;03m# type: ignore[call-arg]  # mypy is not smart enough here\u001b[39;00m\n\u001b[1;32m--> 247\u001b[0m \u001b[38;5;28;01mraise\u001b[39;00m exception_class(message, screen, stacktrace)\n",
      "\u001b[1;31mStaleElementReferenceException\u001b[0m: Message: stale element reference: element is not attached to the page document\n  (Session info: chrome=103.0.5060.114)\nStacktrace:\nBacktrace:\n\tOrdinal0 [0x005F6463+2188387]\n\tOrdinal0 [0x0058E461+1762401]\n\tOrdinal0 [0x004A3D78+802168]\n\tOrdinal0 [0x004A6754+812884]\n\tOrdinal0 [0x004A6612+812562]\n\tOrdinal0 [0x004A68A0+813216]\n\tOrdinal0 [0x004D7D63+1015139]\n\tOrdinal0 [0x004D5F68+1007464]\n\tOrdinal0 [0x004D3C6B+998507]\n\tOrdinal0 [0x004D29D9+993753]\n\tOrdinal0 [0x004C8613+951827]\n\tOrdinal0 [0x004EC7DC+1099740]\n\tOrdinal0 [0x004C7FF4+950260]\n\tOrdinal0 [0x004EC9F4+1100276]\n\tOrdinal0 [0x004FCC22+1166370]\n\tOrdinal0 [0x004EC5F6+1099254]\n\tOrdinal0 [0x004C6BE0+945120]\n\tOrdinal0 [0x004C7AD6+948950]\n\tGetHandleVerifier [0x008971F2+2712546]\n\tGetHandleVerifier [0x0088886D+2652765]\n\tGetHandleVerifier [0x0068002A+520730]\n\tGetHandleVerifier [0x0067EE06+516086]\n\tOrdinal0 [0x0059468B+1787531]\n\tOrdinal0 [0x00598E88+1805960]\n\tOrdinal0 [0x00598F75+1806197]\n\tOrdinal0 [0x005A1DF1+1842673]\n\tBaseThreadInitThunk [0x76C36739+25]\n\tRtlGetFullPathName_UEx [0x77D68FEF+1215]\n\tRtlGetFullPathName_UEx [0x77D68FBD+1165]\n"
     ]
    }
   ],
   "source": [
    "#Scrapping iPhone reviews for the first 10 pages\n",
    "iPhoneRating = []\n",
    "iPhoneSummary = []\n",
    "iPhoneReview = []\n",
    "\n",
    "for index in range(0, 10):\n",
    "    r, s, re = iPhoneReviewScrapper()\n",
    "    iPhoneRating.extend(r)#here we have used extend function  to  add the data stored  in the lists\n",
    "    iPhoneSummary.extend(s)\n",
    "    iPhoneReview.extend(re)\n",
    "    print(f'Review Page {index+1} scrapped')"
   ]
  },
  {
   "cell_type": "code",
   "execution_count": 500,
   "id": "45e6df34",
   "metadata": {},
   "outputs": [
    {
     "data": {
      "text/html": [
       "<div>\n",
       "<style scoped>\n",
       "    .dataframe tbody tr th:only-of-type {\n",
       "        vertical-align: middle;\n",
       "    }\n",
       "\n",
       "    .dataframe tbody tr th {\n",
       "        vertical-align: top;\n",
       "    }\n",
       "\n",
       "    .dataframe thead th {\n",
       "        text-align: right;\n",
       "    }\n",
       "</style>\n",
       "<table border=\"1\" class=\"dataframe\">\n",
       "  <thead>\n",
       "    <tr style=\"text-align: right;\">\n",
       "      <th></th>\n",
       "      <th>Review Title</th>\n",
       "      <th>Rating</th>\n",
       "      <th>Full Review</th>\n",
       "    </tr>\n",
       "  </thead>\n",
       "  <tbody>\n",
       "    <tr>\n",
       "      <th>0</th>\n",
       "      <td>Perfect product!</td>\n",
       "      <td>5</td>\n",
       "      <td>It’s a must buy who is looking for an upgrade ...</td>\n",
       "    </tr>\n",
       "    <tr>\n",
       "      <th>1</th>\n",
       "      <td>Highly recommended</td>\n",
       "      <td>5</td>\n",
       "      <td>It's my first time to use iOS phone and I am l...</td>\n",
       "    </tr>\n",
       "    <tr>\n",
       "      <th>2</th>\n",
       "      <td>Perfect product!</td>\n",
       "      <td>5</td>\n",
       "      <td>Value for money❤️❤️ Its awesome mobile phone i...</td>\n",
       "    </tr>\n",
       "    <tr>\n",
       "      <th>3</th>\n",
       "      <td>Worth every penny</td>\n",
       "      <td>5</td>\n",
       "      <td>Smooth like butter, camera like fantabulous, s...</td>\n",
       "    </tr>\n",
       "    <tr>\n",
       "      <th>4</th>\n",
       "      <td>Perfect product!</td>\n",
       "      <td>5</td>\n",
       "      <td>It is just awesome mobile for this price from ...</td>\n",
       "    </tr>\n",
       "    <tr>\n",
       "      <th>5</th>\n",
       "      <td>Perfect product!</td>\n",
       "      <td>5</td>\n",
       "      <td>Iphone is just awesome.. battery backup is ver...</td>\n",
       "    </tr>\n",
       "    <tr>\n",
       "      <th>6</th>\n",
       "      <td>Terrific</td>\n",
       "      <td>5</td>\n",
       "      <td>Really worth of money. i just love it. It is t...</td>\n",
       "    </tr>\n",
       "    <tr>\n",
       "      <th>7</th>\n",
       "      <td>Worth every penny</td>\n",
       "      <td>5</td>\n",
       "      <td>Best budget Iphone till date ❤️ go for it guys...</td>\n",
       "    </tr>\n",
       "    <tr>\n",
       "      <th>8</th>\n",
       "      <td>Simply awesome</td>\n",
       "      <td>5</td>\n",
       "      <td>Excellent camera, good performance, no lag. Th...</td>\n",
       "    </tr>\n",
       "    <tr>\n",
       "      <th>9</th>\n",
       "      <td>Classy product</td>\n",
       "      <td>5</td>\n",
       "      <td>Totally in love with this ❤ the camera quality...</td>\n",
       "    </tr>\n",
       "  </tbody>\n",
       "</table>\n",
       "</div>"
      ],
      "text/plain": [
       "         Review Title Rating  \\\n",
       "0    Perfect product!      5   \n",
       "1  Highly recommended      5   \n",
       "2    Perfect product!      5   \n",
       "3   Worth every penny      5   \n",
       "4    Perfect product!      5   \n",
       "5    Perfect product!      5   \n",
       "6            Terrific      5   \n",
       "7   Worth every penny      5   \n",
       "8      Simply awesome      5   \n",
       "9      Classy product      5   \n",
       "\n",
       "                                         Full Review  \n",
       "0  It’s a must buy who is looking for an upgrade ...  \n",
       "1  It's my first time to use iOS phone and I am l...  \n",
       "2  Value for money❤️❤️ Its awesome mobile phone i...  \n",
       "3  Smooth like butter, camera like fantabulous, s...  \n",
       "4  It is just awesome mobile for this price from ...  \n",
       "5  Iphone is just awesome.. battery backup is ver...  \n",
       "6  Really worth of money. i just love it. It is t...  \n",
       "7  Best budget Iphone till date ❤️ go for it guys...  \n",
       "8  Excellent camera, good performance, no lag. Th...  \n",
       "9  Totally in love with this ❤ the camera quality...  "
      ]
     },
     "execution_count": 500,
     "metadata": {},
     "output_type": "execute_result"
    }
   ],
   "source": [
    "#Making a dataframe of all reviews\n",
    "\n",
    "iPhoneReviewsDf = pd.DataFrame()\n",
    "\n",
    "iPhoneReviewsDf['Review Title'] = iPhoneSummary\n",
    "iPhoneReviewsDf['Rating'] = iPhoneRating\n",
    "iPhoneReviewsDf['Full Review'] = iPhoneReview\n",
    "\n",
    "iPhoneReviewsDf"
   ]
  },
  {
   "cell_type": "markdown",
   "id": "ba60b407",
   "metadata": {},
   "source": [
    "## Answer 6 :: Scrape data for first 100 sneakers you find when you visit flipkart.com andsearch for “sneakers” in the search field."
   ]
  },
  {
   "cell_type": "markdown",
   "id": "c5cc3db9",
   "metadata": {},
   "source": [
    "### You have to scrape 4 attributes of each sneaker:"
   ]
  },
  {
   "cell_type": "markdown",
   "id": "0eb01c05",
   "metadata": {},
   "source": [
    "### 1. Brand\n",
    "### 2. Product Description\n",
    "### 3. Price"
   ]
  },
  {
   "cell_type": "code",
   "execution_count": 126,
   "id": "07a1dfaf",
   "metadata": {},
   "outputs": [],
   "source": [
    "#command for open  the  automation window of browser \n",
    "driver = webdriver.Chrome('chromedriver.exe')"
   ]
  },
  {
   "cell_type": "code",
   "execution_count": 127,
   "id": "dbee7ce4",
   "metadata": {},
   "outputs": [],
   "source": [
    "url = 'https://www.flipkart.com/'\n",
    "driver.get(url)"
   ]
  },
  {
   "cell_type": "code",
   "execution_count": 128,
   "id": "6b32a4a6",
   "metadata": {},
   "outputs": [
    {
     "data": {
      "text/plain": [
       "<selenium.webdriver.remote.webelement.WebElement (session=\"db43c10ab475d2eeb5d0bda97a2a4f09\", element=\"04e68290-1423-450a-8f19-92149191a418\")>"
      ]
     },
     "execution_count": 128,
     "metadata": {},
     "output_type": "execute_result"
    }
   ],
   "source": [
    "#now  checking   for  the sneakers @  flipkart search box\n",
    "search_field_designation = driver.find_element(By.XPATH,'/html/body/div/div/div[1]/div[1]/div[2]/div[2]/form/div/div/input')\n",
    "search_field_designation"
   ]
  },
  {
   "cell_type": "code",
   "execution_count": 129,
   "id": "34b58279",
   "metadata": {},
   "outputs": [],
   "source": [
    "search_field_designation.send_keys('sneakers')"
   ]
  },
  {
   "cell_type": "code",
   "execution_count": 130,
   "id": "49130e7c",
   "metadata": {},
   "outputs": [
    {
     "data": {
      "text/plain": [
       "<selenium.webdriver.remote.webelement.WebElement (session=\"db43c10ab475d2eeb5d0bda97a2a4f09\", element=\"fed8ab3f-bb66-4e0f-8e8c-75594bc8e379\")>"
      ]
     },
     "execution_count": 130,
     "metadata": {},
     "output_type": "execute_result"
    }
   ],
   "source": [
    "# now we will be  be using  the click search item  to search  for sneakers  here\n",
    "search_btn = driver.find_element(By.CLASS_NAME,'L0Z3Pu')\n",
    "search_btn"
   ]
  },
  {
   "cell_type": "code",
   "execution_count": 131,
   "id": "8787e3de",
   "metadata": {},
   "outputs": [],
   "source": [
    "search_btn.click()"
   ]
  },
  {
   "cell_type": "code",
   "execution_count": 134,
   "id": "82f3b15d",
   "metadata": {},
   "outputs": [],
   "source": [
    "shoe_brand=[]\n",
    "# here  we  created  a empty  list  for  the storage \n",
    "for i in range(0,3):\n",
    "    brand_tags= driver.find_elements(By.CLASS_NAME,'_2WkVRV')\n",
    "\n",
    "# so now when extracted  the  data now  we will changing it  to text and iterate over  the  for loop\n",
    "    for i in brand_tags:\n",
    "        brand_flip=i.text\n",
    "        shoe_brand.append(brand_flip)"
   ]
  },
  {
   "cell_type": "code",
   "execution_count": 136,
   "id": "d7dc1529",
   "metadata": {},
   "outputs": [
    {
     "data": {
      "text/plain": [
       "<selenium.webdriver.remote.webelement.WebElement (session=\"db43c10ab475d2eeb5d0bda97a2a4f09\", element=\"6fd16052-8b24-4e94-8125-1760fe63029e\")>"
      ]
     },
     "execution_count": 136,
     "metadata": {},
     "output_type": "execute_result"
    }
   ],
   "source": [
    "next_button = driver.find_element(By.XPATH,'/html/body/div[1]/div/div[3]/div[1]/div[2]/div[12]/div/div/nav/a[11]')\n",
    "next_button"
   ]
  },
  {
   "cell_type": "code",
   "execution_count": 137,
   "id": "dd08fde4",
   "metadata": {},
   "outputs": [],
   "source": [
    "next_button.click()"
   ]
  },
  {
   "cell_type": "code",
   "execution_count": 138,
   "id": "bce9aa0f",
   "metadata": {},
   "outputs": [
    {
     "data": {
      "text/html": [
       "<div>\n",
       "<style scoped>\n",
       "    .dataframe tbody tr th:only-of-type {\n",
       "        vertical-align: middle;\n",
       "    }\n",
       "\n",
       "    .dataframe tbody tr th {\n",
       "        vertical-align: top;\n",
       "    }\n",
       "\n",
       "    .dataframe thead th {\n",
       "        text-align: right;\n",
       "    }\n",
       "</style>\n",
       "<table border=\"1\" class=\"dataframe\">\n",
       "  <thead>\n",
       "    <tr style=\"text-align: right;\">\n",
       "      <th></th>\n",
       "      <th>BrandName</th>\n",
       "    </tr>\n",
       "  </thead>\n",
       "  <tbody>\n",
       "    <tr>\n",
       "      <th>0</th>\n",
       "      <td>BRUTON</td>\n",
       "    </tr>\n",
       "    <tr>\n",
       "      <th>1</th>\n",
       "      <td>HRX by Hrithik Roshan</td>\n",
       "    </tr>\n",
       "    <tr>\n",
       "      <th>2</th>\n",
       "      <td>WOODLAND</td>\n",
       "    </tr>\n",
       "    <tr>\n",
       "      <th>3</th>\n",
       "      <td>BRUTON</td>\n",
       "    </tr>\n",
       "    <tr>\n",
       "      <th>4</th>\n",
       "      <td>BRUTON</td>\n",
       "    </tr>\n",
       "    <tr>\n",
       "      <th>...</th>\n",
       "      <td>...</td>\n",
       "    </tr>\n",
       "    <tr>\n",
       "      <th>115</th>\n",
       "      <td>DUNKASTON</td>\n",
       "    </tr>\n",
       "    <tr>\n",
       "      <th>116</th>\n",
       "      <td>PUMA</td>\n",
       "    </tr>\n",
       "    <tr>\n",
       "      <th>117</th>\n",
       "      <td>Robbie jones</td>\n",
       "    </tr>\n",
       "    <tr>\n",
       "      <th>118</th>\n",
       "      <td>Kzaara</td>\n",
       "    </tr>\n",
       "    <tr>\n",
       "      <th>119</th>\n",
       "      <td>KWIK FIT</td>\n",
       "    </tr>\n",
       "  </tbody>\n",
       "</table>\n",
       "<p>120 rows × 1 columns</p>\n",
       "</div>"
      ],
      "text/plain": [
       "                 BrandName\n",
       "0                   BRUTON\n",
       "1    HRX by Hrithik Roshan\n",
       "2                 WOODLAND\n",
       "3                   BRUTON\n",
       "4                   BRUTON\n",
       "..                     ...\n",
       "115              DUNKASTON\n",
       "116                   PUMA\n",
       "117           Robbie jones\n",
       "118                 Kzaara\n",
       "119               KWIK FIT\n",
       "\n",
       "[120 rows x 1 columns]"
      ]
     },
     "execution_count": 138,
     "metadata": {},
     "output_type": "execute_result"
    }
   ],
   "source": [
    "brandsframe= pd.DataFrame({})\n",
    "brandsframe['BrandName']=shoe_brand\n",
    "brandsframe"
   ]
  },
  {
   "cell_type": "code",
   "execution_count": 143,
   "id": "f0184aff",
   "metadata": {},
   "outputs": [],
   "source": [
    "shoe_description=[]\n",
    "\n",
    "# here  we  created  a empty  list  for  the storage \n",
    "\n",
    "for i in range(0,3):\n",
    "    shoe_desc= driver.find_elements(By.CLASS_NAME,'IRpwTa')\n",
    "\n",
    "# so now when extracted  the  data now  we will changing it  to text and iterate over  the  for loop\n",
    "    \n",
    "    for i in shoe_desc:\n",
    "        shoe_tag=i.text\n",
    "        shoe_description.append(shoe_tag)"
   ]
  },
  {
   "cell_type": "code",
   "execution_count": 144,
   "id": "24843cd6",
   "metadata": {},
   "outputs": [
    {
     "data": {
      "text/plain": [
       "<selenium.webdriver.remote.webelement.WebElement (session=\"db43c10ab475d2eeb5d0bda97a2a4f09\", element=\"4bbb8eb7-100e-4cc4-85e9-478ce402234e\")>"
      ]
     },
     "execution_count": 144,
     "metadata": {},
     "output_type": "execute_result"
    }
   ],
   "source": [
    "next_button = driver.find_element(By.XPATH,'/html/body/div[1]/div/div[3]/div[1]/div[2]/div[12]/div/div/nav/a[11]')\n",
    "next_button"
   ]
  },
  {
   "cell_type": "code",
   "execution_count": 145,
   "id": "413691ae",
   "metadata": {},
   "outputs": [],
   "source": [
    "next_button.click()"
   ]
  },
  {
   "cell_type": "code",
   "execution_count": 147,
   "id": "f26e53f2",
   "metadata": {},
   "outputs": [
    {
     "data": {
      "text/html": [
       "<div>\n",
       "<style scoped>\n",
       "    .dataframe tbody tr th:only-of-type {\n",
       "        vertical-align: middle;\n",
       "    }\n",
       "\n",
       "    .dataframe tbody tr th {\n",
       "        vertical-align: top;\n",
       "    }\n",
       "\n",
       "    .dataframe thead th {\n",
       "        text-align: right;\n",
       "    }\n",
       "</style>\n",
       "<table border=\"1\" class=\"dataframe\">\n",
       "  <thead>\n",
       "    <tr style=\"text-align: right;\">\n",
       "      <th></th>\n",
       "      <th>Shoes_Description</th>\n",
       "    </tr>\n",
       "  </thead>\n",
       "  <tbody>\n",
       "    <tr>\n",
       "      <th>0</th>\n",
       "      <td>Casual , Partywear Sneakers Shoes For Men's An...</td>\n",
       "    </tr>\n",
       "    <tr>\n",
       "      <th>1</th>\n",
       "      <td>Lattest Sneakers Shoe Sneakers For Men</td>\n",
       "    </tr>\n",
       "    <tr>\n",
       "      <th>2</th>\n",
       "      <td>Sneakers Sneakers For Men</td>\n",
       "    </tr>\n",
       "    <tr>\n",
       "      <th>3</th>\n",
       "      <td>Sneakers For Men</td>\n",
       "    </tr>\n",
       "    <tr>\n",
       "      <th>4</th>\n",
       "      <td>Sneakers For Men</td>\n",
       "    </tr>\n",
       "    <tr>\n",
       "      <th>...</th>\n",
       "      <td>...</td>\n",
       "    </tr>\n",
       "    <tr>\n",
       "      <th>115</th>\n",
       "      <td>Exclusive Affordable Collection of Trendy &amp; St...</td>\n",
       "    </tr>\n",
       "    <tr>\n",
       "      <th>116</th>\n",
       "      <td>Men's Combo Pack of 02 Shoes for Men Casual Sn...</td>\n",
       "    </tr>\n",
       "    <tr>\n",
       "      <th>117</th>\n",
       "      <td>411 Casual Sneakers For Men</td>\n",
       "    </tr>\n",
       "    <tr>\n",
       "      <th>118</th>\n",
       "      <td>STYLISH-WHITE-6 Sneakers For Men</td>\n",
       "    </tr>\n",
       "    <tr>\n",
       "      <th>119</th>\n",
       "      <td>HRX by Hrithik Roshan Men Blue Perforated Deta...</td>\n",
       "    </tr>\n",
       "  </tbody>\n",
       "</table>\n",
       "<p>120 rows × 1 columns</p>\n",
       "</div>"
      ],
      "text/plain": [
       "                                     Shoes_Description\n",
       "0    Casual , Partywear Sneakers Shoes For Men's An...\n",
       "1               Lattest Sneakers Shoe Sneakers For Men\n",
       "2                            Sneakers Sneakers For Men\n",
       "3                                     Sneakers For Men\n",
       "4                                     Sneakers For Men\n",
       "..                                                 ...\n",
       "115  Exclusive Affordable Collection of Trendy & St...\n",
       "116  Men's Combo Pack of 02 Shoes for Men Casual Sn...\n",
       "117                        411 Casual Sneakers For Men\n",
       "118                   STYLISH-WHITE-6 Sneakers For Men\n",
       "119  HRX by Hrithik Roshan Men Blue Perforated Deta...\n",
       "\n",
       "[120 rows x 1 columns]"
      ]
     },
     "execution_count": 147,
     "metadata": {},
     "output_type": "execute_result"
    }
   ],
   "source": [
    "descframe = pd.DataFrame({})\n",
    "descframe['Shoes_Description']=shoe_description\n",
    "descframe"
   ]
  },
  {
   "cell_type": "code",
   "execution_count": 149,
   "id": "28866eb0",
   "metadata": {},
   "outputs": [],
   "source": [
    "shoe_price=[]\n",
    "# here  we  created  a empty  list  for  the storage \n",
    "for i in range(0,3):\n",
    "    price_shoetag= driver.find_elements(By.CLASS_NAME,'_30jeq3')\n",
    "# so now when extracted  the  data now  we will changing it  to text and iterate over  the  for loop\n",
    " \n",
    "    for i in price_shoetag:\n",
    "        price_shoe=i.text\n",
    "        shoe_price.append(price_shoe)"
   ]
  },
  {
   "cell_type": "code",
   "execution_count": 150,
   "id": "32328f37",
   "metadata": {},
   "outputs": [
    {
     "data": {
      "text/plain": [
       "<selenium.webdriver.remote.webelement.WebElement (session=\"db43c10ab475d2eeb5d0bda97a2a4f09\", element=\"207b0cde-df7c-4001-8559-35c500569c66\")>"
      ]
     },
     "execution_count": 150,
     "metadata": {},
     "output_type": "execute_result"
    }
   ],
   "source": [
    "next_button = driver.find_element(By.XPATH,'/html/body/div[1]/div/div[3]/div[1]/div[2]/div[12]/div/div/nav/a[11]')\n",
    "next_button"
   ]
  },
  {
   "cell_type": "code",
   "execution_count": 151,
   "id": "77cf52a2",
   "metadata": {},
   "outputs": [],
   "source": [
    "next_button.click()"
   ]
  },
  {
   "cell_type": "code",
   "execution_count": 152,
   "id": "ddbf0fec",
   "metadata": {},
   "outputs": [
    {
     "data": {
      "text/html": [
       "<div>\n",
       "<style scoped>\n",
       "    .dataframe tbody tr th:only-of-type {\n",
       "        vertical-align: middle;\n",
       "    }\n",
       "\n",
       "    .dataframe tbody tr th {\n",
       "        vertical-align: top;\n",
       "    }\n",
       "\n",
       "    .dataframe thead th {\n",
       "        text-align: right;\n",
       "    }\n",
       "</style>\n",
       "<table border=\"1\" class=\"dataframe\">\n",
       "  <thead>\n",
       "    <tr style=\"text-align: right;\">\n",
       "      <th></th>\n",
       "      <th>Shoe-prices</th>\n",
       "    </tr>\n",
       "  </thead>\n",
       "  <tbody>\n",
       "    <tr>\n",
       "      <th>0</th>\n",
       "      <td>₹349</td>\n",
       "    </tr>\n",
       "    <tr>\n",
       "      <th>1</th>\n",
       "      <td>₹2,849</td>\n",
       "    </tr>\n",
       "    <tr>\n",
       "      <th>2</th>\n",
       "      <td>₹474</td>\n",
       "    </tr>\n",
       "    <tr>\n",
       "      <th>3</th>\n",
       "      <td>₹496</td>\n",
       "    </tr>\n",
       "    <tr>\n",
       "      <th>4</th>\n",
       "      <td>₹2,449</td>\n",
       "    </tr>\n",
       "    <tr>\n",
       "      <th>...</th>\n",
       "      <td>...</td>\n",
       "    </tr>\n",
       "    <tr>\n",
       "      <th>130</th>\n",
       "      <td>₹630</td>\n",
       "    </tr>\n",
       "    <tr>\n",
       "      <th>131</th>\n",
       "      <td>₹499</td>\n",
       "    </tr>\n",
       "    <tr>\n",
       "      <th>132</th>\n",
       "      <td>₹258</td>\n",
       "    </tr>\n",
       "    <tr>\n",
       "      <th>133</th>\n",
       "      <td>₹699</td>\n",
       "    </tr>\n",
       "    <tr>\n",
       "      <th>134</th>\n",
       "      <td>₹195</td>\n",
       "    </tr>\n",
       "  </tbody>\n",
       "</table>\n",
       "<p>135 rows × 1 columns</p>\n",
       "</div>"
      ],
      "text/plain": [
       "    Shoe-prices\n",
       "0          ₹349\n",
       "1        ₹2,849\n",
       "2          ₹474\n",
       "3          ₹496\n",
       "4        ₹2,449\n",
       "..          ...\n",
       "130        ₹630\n",
       "131        ₹499\n",
       "132        ₹258\n",
       "133        ₹699\n",
       "134        ₹195\n",
       "\n",
       "[135 rows x 1 columns]"
      ]
     },
     "execution_count": 152,
     "metadata": {},
     "output_type": "execute_result"
    }
   ],
   "source": [
    "priceframe=pd.DataFrame({})\n",
    "priceframe['Shoe-prices']=shoe_price\n",
    "priceframe"
   ]
  },
  {
   "cell_type": "code",
   "execution_count": 153,
   "id": "d9d740c5",
   "metadata": {},
   "outputs": [
    {
     "data": {
      "text/html": [
       "<div>\n",
       "<style scoped>\n",
       "    .dataframe tbody tr th:only-of-type {\n",
       "        vertical-align: middle;\n",
       "    }\n",
       "\n",
       "    .dataframe tbody tr th {\n",
       "        vertical-align: top;\n",
       "    }\n",
       "\n",
       "    .dataframe thead th {\n",
       "        text-align: right;\n",
       "    }\n",
       "</style>\n",
       "<table border=\"1\" class=\"dataframe\">\n",
       "  <thead>\n",
       "    <tr style=\"text-align: right;\">\n",
       "      <th></th>\n",
       "      <th>BrandName</th>\n",
       "      <th>Shoes_Description</th>\n",
       "    </tr>\n",
       "  </thead>\n",
       "  <tbody>\n",
       "    <tr>\n",
       "      <th>0</th>\n",
       "      <td>BRUTON</td>\n",
       "      <td>Casual , Partywear Sneakers Shoes For Men's An...</td>\n",
       "    </tr>\n",
       "    <tr>\n",
       "      <th>1</th>\n",
       "      <td>HRX by Hrithik Roshan</td>\n",
       "      <td>Lattest Sneakers Shoe Sneakers For Men</td>\n",
       "    </tr>\n",
       "    <tr>\n",
       "      <th>2</th>\n",
       "      <td>WOODLAND</td>\n",
       "      <td>Sneakers Sneakers For Men</td>\n",
       "    </tr>\n",
       "    <tr>\n",
       "      <th>3</th>\n",
       "      <td>BRUTON</td>\n",
       "      <td>Sneakers For Men</td>\n",
       "    </tr>\n",
       "    <tr>\n",
       "      <th>4</th>\n",
       "      <td>BRUTON</td>\n",
       "      <td>Sneakers For Men</td>\n",
       "    </tr>\n",
       "    <tr>\n",
       "      <th>...</th>\n",
       "      <td>...</td>\n",
       "      <td>...</td>\n",
       "    </tr>\n",
       "    <tr>\n",
       "      <th>115</th>\n",
       "      <td>DUNKASTON</td>\n",
       "      <td>Exclusive Affordable Collection of Trendy &amp; St...</td>\n",
       "    </tr>\n",
       "    <tr>\n",
       "      <th>116</th>\n",
       "      <td>PUMA</td>\n",
       "      <td>Men's Combo Pack of 02 Shoes for Men Casual Sn...</td>\n",
       "    </tr>\n",
       "    <tr>\n",
       "      <th>117</th>\n",
       "      <td>Robbie jones</td>\n",
       "      <td>411 Casual Sneakers For Men</td>\n",
       "    </tr>\n",
       "    <tr>\n",
       "      <th>118</th>\n",
       "      <td>Kzaara</td>\n",
       "      <td>STYLISH-WHITE-6 Sneakers For Men</td>\n",
       "    </tr>\n",
       "    <tr>\n",
       "      <th>119</th>\n",
       "      <td>KWIK FIT</td>\n",
       "      <td>HRX by Hrithik Roshan Men Blue Perforated Deta...</td>\n",
       "    </tr>\n",
       "  </tbody>\n",
       "</table>\n",
       "<p>120 rows × 2 columns</p>\n",
       "</div>"
      ],
      "text/plain": [
       "                 BrandName                                  Shoes_Description\n",
       "0                   BRUTON  Casual , Partywear Sneakers Shoes For Men's An...\n",
       "1    HRX by Hrithik Roshan             Lattest Sneakers Shoe Sneakers For Men\n",
       "2                 WOODLAND                          Sneakers Sneakers For Men\n",
       "3                   BRUTON                                   Sneakers For Men\n",
       "4                   BRUTON                                   Sneakers For Men\n",
       "..                     ...                                                ...\n",
       "115              DUNKASTON  Exclusive Affordable Collection of Trendy & St...\n",
       "116                   PUMA  Men's Combo Pack of 02 Shoes for Men Casual Sn...\n",
       "117           Robbie jones                        411 Casual Sneakers For Men\n",
       "118                 Kzaara                   STYLISH-WHITE-6 Sneakers For Men\n",
       "119               KWIK FIT  HRX by Hrithik Roshan Men Blue Perforated Deta...\n",
       "\n",
       "[120 rows x 2 columns]"
      ]
     },
     "execution_count": 153,
     "metadata": {},
     "output_type": "execute_result"
    }
   ],
   "source": [
    "df5 = brandsframe[0:120].join(descframe)\n",
    "df5  # joining the two frame"
   ]
  },
  {
   "cell_type": "code",
   "execution_count": 154,
   "id": "68a8cac9",
   "metadata": {},
   "outputs": [
    {
     "data": {
      "text/html": [
       "<div>\n",
       "<style scoped>\n",
       "    .dataframe tbody tr th:only-of-type {\n",
       "        vertical-align: middle;\n",
       "    }\n",
       "\n",
       "    .dataframe tbody tr th {\n",
       "        vertical-align: top;\n",
       "    }\n",
       "\n",
       "    .dataframe thead th {\n",
       "        text-align: right;\n",
       "    }\n",
       "</style>\n",
       "<table border=\"1\" class=\"dataframe\">\n",
       "  <thead>\n",
       "    <tr style=\"text-align: right;\">\n",
       "      <th></th>\n",
       "      <th>Shoe-prices</th>\n",
       "      <th>BrandName</th>\n",
       "      <th>Shoes_Description</th>\n",
       "    </tr>\n",
       "  </thead>\n",
       "  <tbody>\n",
       "    <tr>\n",
       "      <th>0</th>\n",
       "      <td>₹349</td>\n",
       "      <td>BRUTON</td>\n",
       "      <td>Casual , Partywear Sneakers Shoes For Men's An...</td>\n",
       "    </tr>\n",
       "    <tr>\n",
       "      <th>1</th>\n",
       "      <td>₹2,849</td>\n",
       "      <td>HRX by Hrithik Roshan</td>\n",
       "      <td>Lattest Sneakers Shoe Sneakers For Men</td>\n",
       "    </tr>\n",
       "    <tr>\n",
       "      <th>2</th>\n",
       "      <td>₹474</td>\n",
       "      <td>WOODLAND</td>\n",
       "      <td>Sneakers Sneakers For Men</td>\n",
       "    </tr>\n",
       "    <tr>\n",
       "      <th>3</th>\n",
       "      <td>₹496</td>\n",
       "      <td>BRUTON</td>\n",
       "      <td>Sneakers For Men</td>\n",
       "    </tr>\n",
       "    <tr>\n",
       "      <th>4</th>\n",
       "      <td>₹2,449</td>\n",
       "      <td>BRUTON</td>\n",
       "      <td>Sneakers For Men</td>\n",
       "    </tr>\n",
       "    <tr>\n",
       "      <th>...</th>\n",
       "      <td>...</td>\n",
       "      <td>...</td>\n",
       "      <td>...</td>\n",
       "    </tr>\n",
       "    <tr>\n",
       "      <th>115</th>\n",
       "      <td>₹839</td>\n",
       "      <td>DUNKASTON</td>\n",
       "      <td>Exclusive Affordable Collection of Trendy &amp; St...</td>\n",
       "    </tr>\n",
       "    <tr>\n",
       "      <th>116</th>\n",
       "      <td>₹599</td>\n",
       "      <td>PUMA</td>\n",
       "      <td>Men's Combo Pack of 02 Shoes for Men Casual Sn...</td>\n",
       "    </tr>\n",
       "    <tr>\n",
       "      <th>117</th>\n",
       "      <td>₹630</td>\n",
       "      <td>Robbie jones</td>\n",
       "      <td>411 Casual Sneakers For Men</td>\n",
       "    </tr>\n",
       "    <tr>\n",
       "      <th>118</th>\n",
       "      <td>₹449</td>\n",
       "      <td>Kzaara</td>\n",
       "      <td>STYLISH-WHITE-6 Sneakers For Men</td>\n",
       "    </tr>\n",
       "    <tr>\n",
       "      <th>119</th>\n",
       "      <td>₹295</td>\n",
       "      <td>KWIK FIT</td>\n",
       "      <td>HRX by Hrithik Roshan Men Blue Perforated Deta...</td>\n",
       "    </tr>\n",
       "  </tbody>\n",
       "</table>\n",
       "<p>120 rows × 3 columns</p>\n",
       "</div>"
      ],
      "text/plain": [
       "    Shoe-prices              BrandName  \\\n",
       "0          ₹349                 BRUTON   \n",
       "1        ₹2,849  HRX by Hrithik Roshan   \n",
       "2          ₹474               WOODLAND   \n",
       "3          ₹496                 BRUTON   \n",
       "4        ₹2,449                 BRUTON   \n",
       "..          ...                    ...   \n",
       "115        ₹839              DUNKASTON   \n",
       "116        ₹599                   PUMA   \n",
       "117        ₹630           Robbie jones   \n",
       "118        ₹449                 Kzaara   \n",
       "119        ₹295               KWIK FIT   \n",
       "\n",
       "                                     Shoes_Description  \n",
       "0    Casual , Partywear Sneakers Shoes For Men's An...  \n",
       "1               Lattest Sneakers Shoe Sneakers For Men  \n",
       "2                            Sneakers Sneakers For Men  \n",
       "3                                     Sneakers For Men  \n",
       "4                                     Sneakers For Men  \n",
       "..                                                 ...  \n",
       "115  Exclusive Affordable Collection of Trendy & St...  \n",
       "116  Men's Combo Pack of 02 Shoes for Men Casual Sn...  \n",
       "117                        411 Casual Sneakers For Men  \n",
       "118                   STYLISH-WHITE-6 Sneakers For Men  \n",
       "119  HRX by Hrithik Roshan Men Blue Perforated Deta...  \n",
       "\n",
       "[120 rows x 3 columns]"
      ]
     },
     "execution_count": 154,
     "metadata": {},
     "output_type": "execute_result"
    }
   ],
   "source": [
    "#here is  the  final join of price for the result \n",
    "df6= priceframe[0:120].join(df5)\n",
    "df6"
   ]
  },
  {
   "cell_type": "code",
   "execution_count": 155,
   "id": "63678b40",
   "metadata": {},
   "outputs": [
    {
     "data": {
      "text/html": [
       "<div>\n",
       "<style scoped>\n",
       "    .dataframe tbody tr th:only-of-type {\n",
       "        vertical-align: middle;\n",
       "    }\n",
       "\n",
       "    .dataframe tbody tr th {\n",
       "        vertical-align: top;\n",
       "    }\n",
       "\n",
       "    .dataframe thead th {\n",
       "        text-align: right;\n",
       "    }\n",
       "</style>\n",
       "<table border=\"1\" class=\"dataframe\">\n",
       "  <thead>\n",
       "    <tr style=\"text-align: right;\">\n",
       "      <th></th>\n",
       "      <th>Shoe-prices</th>\n",
       "      <th>BrandName</th>\n",
       "      <th>Shoes_Description</th>\n",
       "    </tr>\n",
       "  </thead>\n",
       "  <tbody>\n",
       "    <tr>\n",
       "      <th>0</th>\n",
       "      <td>₹349</td>\n",
       "      <td>BRUTON</td>\n",
       "      <td>Casual , Partywear Sneakers Shoes For Men's An...</td>\n",
       "    </tr>\n",
       "    <tr>\n",
       "      <th>1</th>\n",
       "      <td>₹2,849</td>\n",
       "      <td>HRX by Hrithik Roshan</td>\n",
       "      <td>Lattest Sneakers Shoe Sneakers For Men</td>\n",
       "    </tr>\n",
       "    <tr>\n",
       "      <th>2</th>\n",
       "      <td>₹474</td>\n",
       "      <td>WOODLAND</td>\n",
       "      <td>Sneakers Sneakers For Men</td>\n",
       "    </tr>\n",
       "    <tr>\n",
       "      <th>3</th>\n",
       "      <td>₹496</td>\n",
       "      <td>BRUTON</td>\n",
       "      <td>Sneakers For Men</td>\n",
       "    </tr>\n",
       "    <tr>\n",
       "      <th>4</th>\n",
       "      <td>₹2,449</td>\n",
       "      <td>BRUTON</td>\n",
       "      <td>Sneakers For Men</td>\n",
       "    </tr>\n",
       "    <tr>\n",
       "      <th>...</th>\n",
       "      <td>...</td>\n",
       "      <td>...</td>\n",
       "      <td>...</td>\n",
       "    </tr>\n",
       "    <tr>\n",
       "      <th>95</th>\n",
       "      <td>₹899</td>\n",
       "      <td>RapidBox</td>\n",
       "      <td>Sneakers For Men</td>\n",
       "    </tr>\n",
       "    <tr>\n",
       "      <th>96</th>\n",
       "      <td>₹871</td>\n",
       "      <td>HOTSTYLE</td>\n",
       "      <td>Combo Pack of 3 Casual Shoes, Sneakers For Men</td>\n",
       "    </tr>\n",
       "    <tr>\n",
       "      <th>97</th>\n",
       "      <td>₹499</td>\n",
       "      <td>ONECENTRE</td>\n",
       "      <td>Stylish &amp; Trending Outdoor Walking Comfortable...</td>\n",
       "    </tr>\n",
       "    <tr>\n",
       "      <th>98</th>\n",
       "      <td>₹494</td>\n",
       "      <td>corsac</td>\n",
       "      <td>shoe Sneakers For Men</td>\n",
       "    </tr>\n",
       "    <tr>\n",
       "      <th>99</th>\n",
       "      <td>₹474</td>\n",
       "      <td>RapidBox</td>\n",
       "      <td>Sneakers For Men</td>\n",
       "    </tr>\n",
       "  </tbody>\n",
       "</table>\n",
       "<p>100 rows × 3 columns</p>\n",
       "</div>"
      ],
      "text/plain": [
       "   Shoe-prices              BrandName  \\\n",
       "0         ₹349                 BRUTON   \n",
       "1       ₹2,849  HRX by Hrithik Roshan   \n",
       "2         ₹474               WOODLAND   \n",
       "3         ₹496                 BRUTON   \n",
       "4       ₹2,449                 BRUTON   \n",
       "..         ...                    ...   \n",
       "95        ₹899               RapidBox   \n",
       "96        ₹871               HOTSTYLE   \n",
       "97        ₹499              ONECENTRE   \n",
       "98        ₹494                 corsac   \n",
       "99        ₹474               RapidBox   \n",
       "\n",
       "                                    Shoes_Description  \n",
       "0   Casual , Partywear Sneakers Shoes For Men's An...  \n",
       "1              Lattest Sneakers Shoe Sneakers For Men  \n",
       "2                           Sneakers Sneakers For Men  \n",
       "3                                    Sneakers For Men  \n",
       "4                                    Sneakers For Men  \n",
       "..                                                ...  \n",
       "95                                   Sneakers For Men  \n",
       "96     Combo Pack of 3 Casual Shoes, Sneakers For Men  \n",
       "97  Stylish & Trending Outdoor Walking Comfortable...  \n",
       "98                              shoe Sneakers For Men  \n",
       "99                                   Sneakers For Men  \n",
       "\n",
       "[100 rows x 3 columns]"
      ]
     },
     "execution_count": 155,
     "metadata": {},
     "output_type": "execute_result"
    }
   ],
   "source": [
    "df6[0:100] #thus  we  have  scraped  all  the  100  data from  the flipkart website"
   ]
  },
  {
   "cell_type": "markdown",
   "id": "9b27a1b4",
   "metadata": {},
   "source": [
    "## Answer 7:: scrape First 100 shoes data you get. The data should include “Brand” of the shoes , Short Shoe description, price of the shoe as shown in the below image"
   ]
  },
  {
   "cell_type": "markdown",
   "id": "dd9b0c51",
   "metadata": {},
   "source": [
    "## Go to the link - https://www.myntra.com/shoes"
   ]
  },
  {
   "cell_type": "code",
   "execution_count": 524,
   "id": "3eeb2ff0",
   "metadata": {},
   "outputs": [],
   "source": [
    "#command for open  the  automation window of browser \n",
    "driver = webdriver.Chrome('chromedriver.exe')"
   ]
  },
  {
   "cell_type": "code",
   "execution_count": 525,
   "id": "e029d183",
   "metadata": {},
   "outputs": [],
   "source": [
    "url = 'https://www.myntra.com/shoes'\n",
    "driver.get(url)"
   ]
  },
  {
   "cell_type": "code",
   "execution_count": 526,
   "id": "a09c8d09",
   "metadata": {},
   "outputs": [],
   "source": [
    "## We cannot be able to inspect or scrap the data from this website."
   ]
  },
  {
   "cell_type": "markdown",
   "id": "ede758a1",
   "metadata": {},
   "source": [
    "## Answer 8 :: Go to webpage https://www.amazon.in/\n",
    "## Enter “Laptop” in the search field and then click the search icon.\n",
    "## Then set CPU Type filter to “Intel Core i7”."
   ]
  },
  {
   "cell_type": "code",
   "execution_count": 231,
   "id": "695dc96e",
   "metadata": {},
   "outputs": [],
   "source": [
    "#command for open  the  automation window of browser \n",
    "driver = webdriver.Chrome('chromedriver.exe')"
   ]
  },
  {
   "cell_type": "code",
   "execution_count": 232,
   "id": "776c07d4",
   "metadata": {},
   "outputs": [],
   "source": [
    "url = 'https://www.amazon.in/'\n",
    "driver.get(url)"
   ]
  },
  {
   "cell_type": "code",
   "execution_count": 233,
   "id": "161886f6",
   "metadata": {},
   "outputs": [
    {
     "data": {
      "text/plain": [
       "<selenium.webdriver.remote.webelement.WebElement (session=\"1ce0463bb65f0753d969a1dfb5bd1486\", element=\"938f6df0-1e0f-4b79-bd6d-d7b9f1c4d73b\")>"
      ]
     },
     "execution_count": 233,
     "metadata": {},
     "output_type": "execute_result"
    }
   ],
   "source": [
    "#now  checking   for  the Laptop @  amazon search box\n",
    "search_field_designation = driver.find_element(By.XPATH,'/html/body/div[1]/header/div/div[1]/div[2]/div/form/div[2]/div[1]/input')\n",
    "search_field_designation"
   ]
  },
  {
   "cell_type": "code",
   "execution_count": 234,
   "id": "8a7fd7dc",
   "metadata": {},
   "outputs": [],
   "source": [
    "search_field_designation.send_keys('Laptop')"
   ]
  },
  {
   "cell_type": "code",
   "execution_count": 235,
   "id": "bd258e83",
   "metadata": {},
   "outputs": [
    {
     "data": {
      "text/plain": [
       "<selenium.webdriver.remote.webelement.WebElement (session=\"1ce0463bb65f0753d969a1dfb5bd1486\", element=\"da420c99-0752-4b40-9f71-bb15d245ff18\")>"
      ]
     },
     "execution_count": 235,
     "metadata": {},
     "output_type": "execute_result"
    }
   ],
   "source": [
    "# now we will be  be using  the click search item  to search  for Laptop  here\n",
    "search_btn = driver.find_element(By.XPATH,'//*[@id=\"nav-search-submit-button\"]')\n",
    "search_btn"
   ]
  },
  {
   "cell_type": "code",
   "execution_count": 236,
   "id": "c11768a4",
   "metadata": {},
   "outputs": [],
   "source": [
    "search_btn.click()"
   ]
  },
  {
   "cell_type": "code",
   "execution_count": 237,
   "id": "68bccb4d",
   "metadata": {},
   "outputs": [],
   "source": [
    "#applying  the  filters  now  of core  i7 here \n",
    "filter1 = driver.find_element(By.XPATH,'//*[@id=\"p_n_feature_thirteen_browse-bin/12598163031\"]/span/a/div/label/i').click()"
   ]
  },
  {
   "cell_type": "code",
   "execution_count": 238,
   "id": "b04049f7",
   "metadata": {},
   "outputs": [
    {
     "data": {
      "text/plain": [
       "['Hp Pavilion 15 12Th Gen Intel Core I7 16Gb Sdram/1Tb Ssd 15.6 Inches (39.6Cm) Fhd,IPS/Intel Iris Xe Graphics/B&O/Windows 11 Home/Alexa/Backlit Kb/Fpr/Mso 2021/1.75Kg, 15-Eg2039Tu, Natural Silver',\n",
       " 'Hp Pavilion X360 11Th Gen Intel Core I7 14 Inches Fhd Multitouch 2In1 Laptop (16Gb Ram/512Gb Ssd/B&O/Windows 11 Home/Fpr/Backlit Kb/Intel Iris Xe Graphics/Pen/Alexa/Ms Office/Silver/1.52Kg)14-Dy1047Tu',\n",
       " 'Lenovo ThinkBook 15 Intel 11th Gen Core i7 15.6\"(39.62 cm)FHD Thin and Light Laptop (16GB/512GB SSD/Windows 11 Home/MS Office H&S 2021/Iris® Xe Graphics/Backlit/Mineral Grey/1.7 Kg) 20VE00W4IH',\n",
       " 'Samsung Galaxy Book2 Intel 12th Gen core i7 39.6cm (15.6\") FHD LED Thin & Light Laptop (16 GB/512 GB SSD/Windows 11/MS Office/Backlit Keyboard/Fingerprint Reader/Silver/1.55Kg), NP750XED-KC2IN',\n",
       " 'HP Pavilion 14 12th Gen Intel Core i7 16GB SDRAM/1TB SSD 14 inch(35.6cm) FHD,IPS,Micro-Edge Display/Intel UHD Graphics/B&O/Win 11/Alexa Built-in/Backlit KB/FPR/MSO 2021/Natural Silver, 14-dv2015TU',\n",
       " 'HP Envy 11th Gen Intel Evo Core i7 14 inch(35.6 cm) WUXGA Anti-Glare Display 2-in-1 Laptop(16GB RAM/1TB SSD/GTX 1650 4GB Graphics/400 nits/Win 11/MS Office/FPR/B&O/Alexa Built-in/1.59 Kg), 14-eb0021TX',\n",
       " 'ASUS Vivobook 15, 15.6-inch (39.62 cms) FHD, Intel Core i7-1065G7 10th Gen, Thin and Light Laptop (16GB/512GB SSD/Iris Plus Graphics/Windows 11/Office 2021/Silver/1.8 kg), X515JA-EJ701WS',\n",
       " 'ASUS TUF Gaming F15 (2022), 15.6-inch (39.62 cms) FHD 144Hz, Intel Core i7-12700H 12th Gen, RTX 3050 Ti 4GB Graphics, Gaming Laptop (16GB/512GB SSD/Windows 11/Gray/2.2 Kg), FX507ZE-HN038W',\n",
       " 'ASUS TUF Dash F15 (2022), 15.6-inch (39.62 cms) WQHD 165Hz/3ms, Intel Core i7-12650H 12th Gen, RTX 3070 8GB Graphics, Gaming Laptop (16GB/1TB SSD/Windows 11/Office 2021/Black/2 kg), FX517ZR-HQ030WS',\n",
       " 'Lenovo IdeaPad Slim 5 Pro Intel Core i7 11th Gen 14\" (35.56cm) 2.2K IPS Thin & Light Laptop (16GB/512GB SSD/Win11/Office 2021/Backlit/3Yr Warranty/3months Game Pass/Storm Grey/1.38Kg), 82L3006YIN']"
      ]
     },
     "execution_count": 238,
     "metadata": {},
     "output_type": "execute_result"
    }
   ],
   "source": [
    "#now  we  will extract the  info according   to i7 core  \n",
    "icore7_title =[]\n",
    "i7 = driver.find_elements(By.XPATH,\"//span[@class='a-size-medium a-color-base a-text-normal']\")\n",
    "i7[0:10]\n",
    "for i in i7:\n",
    "    icore=i.text\n",
    "    icore7_title.append(icore)\n",
    "    \n",
    "core_title=icore7_title[:10]\n",
    "core_title"
   ]
  },
  {
   "cell_type": "code",
   "execution_count": 239,
   "id": "b00078c7",
   "metadata": {},
   "outputs": [
    {
     "data": {
      "text/plain": [
       "['87,990',\n",
       " '83,603',\n",
       " '86,990',\n",
       " '79,990',\n",
       " '86,990',\n",
       " '99,700',\n",
       " '57,890',\n",
       " '1,12,990',\n",
       " '1,64,990',\n",
       " '75,099']"
      ]
     },
     "execution_count": 239,
     "metadata": {},
     "output_type": "execute_result"
    }
   ],
   "source": [
    "icore_prices=[]\n",
    "i7_pricetag=driver.find_elements(By.CLASS_NAME,'a-price-whole')\n",
    "i7_pricetag[0:10]\n",
    "for i in i7_pricetag:\n",
    "    prices_tag=i.text.strip('[]')\n",
    "    icore_prices.append(prices_tag)\n",
    "prices=icore_prices[0:10]\n",
    "prices"
   ]
  },
  {
   "cell_type": "code",
   "execution_count": 240,
   "id": "63b221af",
   "metadata": {},
   "outputs": [],
   "source": [
    "# Importing required Exceptions which needs to handled\n",
    "from selenium.common.exceptions import StaleElementReferenceException, NoSuchElementException"
   ]
  },
  {
   "cell_type": "code",
   "execution_count": 199,
   "id": "b6405592",
   "metadata": {},
   "outputs": [],
   "source": [
    "#locating Ratings\n",
    "urls=driver.find_elements(By.XPATH,\"//a[@class='a-link-normal s-underline-text s-underline-link-text s-link-style a-text-normal']\")#collecting urls of all the laptop\n",
    "UR=[]\n",
    "Ratings=[]\n",
    "for i in urls[:10]:\n",
    "    UR.append(i.get_attribute('href'))#getting the url of first 10 laptops\n",
    "for url in UR:#loop for every laptop in the list\n",
    "    driver.get(url)\n",
    "    try:                  #exception handling for nosuchelementexception                                                    #click the rating link found\n",
    "        rating=driver.find_element(By.XPATH,\"//span[@class='a-size-base a-nowrap']//span\")#locating the rating\n",
    "        Ratings.append(rating.text)#appending the ratings in Ratings list\n",
    "        \n",
    "    except NoSuchElementException:\n",
    "        Ratings.append(\"NO rating\")#appending the No rating if no rating is there"
   ]
  },
  {
   "cell_type": "code",
   "execution_count": 200,
   "id": "673545e6",
   "metadata": {},
   "outputs": [
    {
     "data": {
      "text/plain": [
       "(10, 10, 10)"
      ]
     },
     "execution_count": 200,
     "metadata": {},
     "output_type": "execute_result"
    }
   ],
   "source": [
    "len(core_title),len(Ratings),len(prices)"
   ]
  },
  {
   "cell_type": "code",
   "execution_count": 201,
   "id": "b254577b",
   "metadata": {},
   "outputs": [
    {
     "data": {
      "text/html": [
       "<div>\n",
       "<style scoped>\n",
       "    .dataframe tbody tr th:only-of-type {\n",
       "        vertical-align: middle;\n",
       "    }\n",
       "\n",
       "    .dataframe tbody tr th {\n",
       "        vertical-align: top;\n",
       "    }\n",
       "\n",
       "    .dataframe thead th {\n",
       "        text-align: right;\n",
       "    }\n",
       "</style>\n",
       "<table border=\"1\" class=\"dataframe\">\n",
       "  <thead>\n",
       "    <tr style=\"text-align: right;\">\n",
       "      <th></th>\n",
       "      <th>Laptop_Name</th>\n",
       "      <th>Laptop_Prices</th>\n",
       "      <th>Ratings</th>\n",
       "    </tr>\n",
       "  </thead>\n",
       "  <tbody>\n",
       "    <tr>\n",
       "      <th>0</th>\n",
       "      <td>Lenovo IdeaPad Slim 5 Pro Intel Core i7 11th G...</td>\n",
       "      <td>75,099</td>\n",
       "      <td>3.8 out of 5</td>\n",
       "    </tr>\n",
       "    <tr>\n",
       "      <th>1</th>\n",
       "      <td>Fujitsu UH-X 11th Gen Intel Core i7 13.3” FHD ...</td>\n",
       "      <td>84,990</td>\n",
       "      <td>4.5 out of 5</td>\n",
       "    </tr>\n",
       "    <tr>\n",
       "      <th>2</th>\n",
       "      <td>Hp Pavilion 15 12Th Gen Intel Core I7 16Gb Sdr...</td>\n",
       "      <td>87,990</td>\n",
       "      <td>4 out of 5</td>\n",
       "    </tr>\n",
       "    <tr>\n",
       "      <th>3</th>\n",
       "      <td>Hp Pavilion X360 11Th Gen Intel Core I7 14 Inc...</td>\n",
       "      <td>83,603</td>\n",
       "      <td>4.1 out of 5</td>\n",
       "    </tr>\n",
       "    <tr>\n",
       "      <th>4</th>\n",
       "      <td>Lenovo ThinkBook 15 Intel 11th Gen Core i7 15....</td>\n",
       "      <td>86,990</td>\n",
       "      <td>4.3 out of 5</td>\n",
       "    </tr>\n",
       "    <tr>\n",
       "      <th>5</th>\n",
       "      <td>Samsung Galaxy Book2 Intel 12th Gen core i7 39...</td>\n",
       "      <td>79,990</td>\n",
       "      <td>3.2 out of 5</td>\n",
       "    </tr>\n",
       "    <tr>\n",
       "      <th>6</th>\n",
       "      <td>HP Pavilion 14 12th Gen Intel Core i7 16GB SDR...</td>\n",
       "      <td>86,990</td>\n",
       "      <td>3.7 out of 5</td>\n",
       "    </tr>\n",
       "    <tr>\n",
       "      <th>7</th>\n",
       "      <td>HP Envy 11th Gen Intel Evo Core i7 14 inch(35....</td>\n",
       "      <td>99,700</td>\n",
       "      <td>3.7 out of 5</td>\n",
       "    </tr>\n",
       "    <tr>\n",
       "      <th>8</th>\n",
       "      <td>ASUS Vivobook 15, 15.6-inch (39.62 cms) FHD, I...</td>\n",
       "      <td>57,890</td>\n",
       "      <td>4.2 out of 5</td>\n",
       "    </tr>\n",
       "    <tr>\n",
       "      <th>9</th>\n",
       "      <td>ASUS TUF Gaming F15 (2022), 15.6-inch (39.62 c...</td>\n",
       "      <td>1,12,990</td>\n",
       "      <td>4.3 out of 5</td>\n",
       "    </tr>\n",
       "  </tbody>\n",
       "</table>\n",
       "</div>"
      ],
      "text/plain": [
       "                                         Laptop_Name Laptop_Prices  \\\n",
       "0  Lenovo IdeaPad Slim 5 Pro Intel Core i7 11th G...        75,099   \n",
       "1  Fujitsu UH-X 11th Gen Intel Core i7 13.3” FHD ...        84,990   \n",
       "2  Hp Pavilion 15 12Th Gen Intel Core I7 16Gb Sdr...        87,990   \n",
       "3  Hp Pavilion X360 11Th Gen Intel Core I7 14 Inc...        83,603   \n",
       "4  Lenovo ThinkBook 15 Intel 11th Gen Core i7 15....        86,990   \n",
       "5  Samsung Galaxy Book2 Intel 12th Gen core i7 39...        79,990   \n",
       "6  HP Pavilion 14 12th Gen Intel Core i7 16GB SDR...        86,990   \n",
       "7  HP Envy 11th Gen Intel Evo Core i7 14 inch(35....        99,700   \n",
       "8  ASUS Vivobook 15, 15.6-inch (39.62 cms) FHD, I...        57,890   \n",
       "9  ASUS TUF Gaming F15 (2022), 15.6-inch (39.62 c...      1,12,990   \n",
       "\n",
       "        Ratings  \n",
       "0  3.8 out of 5  \n",
       "1  4.5 out of 5  \n",
       "2    4 out of 5  \n",
       "3  4.1 out of 5  \n",
       "4  4.3 out of 5  \n",
       "5  3.2 out of 5  \n",
       "6  3.7 out of 5  \n",
       "7  3.7 out of 5  \n",
       "8  4.2 out of 5  \n",
       "9  4.3 out of 5  "
      ]
     },
     "execution_count": 201,
     "metadata": {},
     "output_type": "execute_result"
    }
   ],
   "source": [
    "#creating the  dataframe\n",
    "laptop_df= pd.DataFrame({})\n",
    "laptop_df['Laptop_Name']=core_title\n",
    "laptop_df['Laptop_Prices']=prices\n",
    "laptop_df['Ratings']=Ratings\n",
    "laptop_df"
   ]
  },
  {
   "cell_type": "markdown",
   "id": "98bb2287",
   "metadata": {},
   "source": [
    "### Answer 9 :: Write a python program to scrape data for first 10 job results for Data Scientist\n",
    "### Designation in Noida\n",
    "### location. You have to scrape company name, No. of days ago when job was posted\n",
    "### Rating of the company."
   ]
  },
  {
   "cell_type": "code",
   "execution_count": 305,
   "id": "40cb7342",
   "metadata": {},
   "outputs": [],
   "source": [
    "#command for open  the  automation window of browser \n",
    "driver = webdriver.Chrome('chromedriver.exe')"
   ]
  },
  {
   "cell_type": "code",
   "execution_count": 306,
   "id": "9d02e5d0",
   "metadata": {},
   "outputs": [],
   "source": [
    "url = 'https://www.ambitionbox.com/'\n",
    "driver.get(url)"
   ]
  },
  {
   "cell_type": "code",
   "execution_count": 307,
   "id": "2bb8a49e",
   "metadata": {},
   "outputs": [],
   "source": [
    "jobs_button= driver.find_element(By.XPATH,'//a[@class=\"link jobs\"]')\n",
    "jobs_button.click()"
   ]
  },
  {
   "cell_type": "code",
   "execution_count": 308,
   "id": "bf44aec4",
   "metadata": {},
   "outputs": [
    {
     "data": {
      "text/plain": [
       "<selenium.webdriver.remote.webelement.WebElement (session=\"6062f1427622fa0d6e62fb5a8bc6311b\", element=\"d00c02e8-f339-42ac-b7b4-5b05bcef8839\")>"
      ]
     },
     "execution_count": 308,
     "metadata": {},
     "output_type": "execute_result"
    }
   ],
   "source": [
    "# Finding element for job search bar\n",
    "search_field_designation= driver.find_element(By.XPATH,'//*[@id=\"jobs-typeahead\"]/span/input')\n",
    "search_field_designation"
   ]
  },
  {
   "cell_type": "code",
   "execution_count": 262,
   "id": "917aaacb",
   "metadata": {},
   "outputs": [],
   "source": [
    "search_field_designation.send_keys('Data Scientist')"
   ]
  },
  {
   "cell_type": "code",
   "execution_count": 263,
   "id": "7e38bfed",
   "metadata": {},
   "outputs": [
    {
     "data": {
      "text/plain": [
       "<selenium.webdriver.remote.webelement.WebElement (session=\"2f13c1ee03de20aea4ec3f066dbe7521\", element=\"e6ef6437-9009-45de-9ee8-b213dd18d891\")>"
      ]
     },
     "execution_count": 263,
     "metadata": {},
     "output_type": "execute_result"
    }
   ],
   "source": [
    "search_btn=driver.find_element(By.XPATH,'//*[@id=\"jobs\"]/div[2]/div[1]/div[1]/div/div/div/button/span')\n",
    "search_btn"
   ]
  },
  {
   "cell_type": "code",
   "execution_count": 264,
   "id": "b7751576",
   "metadata": {},
   "outputs": [],
   "source": [
    "search_btn.click()"
   ]
  },
  {
   "cell_type": "code",
   "execution_count": 265,
   "id": "9cb0eeb1",
   "metadata": {},
   "outputs": [],
   "source": [
    "#now  finding  the  location from the menu \n",
    "location_menu= driver.find_element(By.XPATH,'//*[@id=\"filters-row\"]/div/div/div[2]/div[1]/p')\n",
    "location_menu.click()"
   ]
  },
  {
   "cell_type": "code",
   "execution_count": 266,
   "id": "2194c482",
   "metadata": {},
   "outputs": [],
   "source": [
    "loc_searchbox= driver.find_element(By.XPATH,'//*[@id=\"filters-row\"]/div/div/div[2]/div[2]/div/div[2]/input')\n",
    "loc_searchbox.send_keys('Noida')"
   ]
  },
  {
   "cell_type": "code",
   "execution_count": 267,
   "id": "235c958d",
   "metadata": {},
   "outputs": [],
   "source": [
    "selection_box= driver.find_element(By.XPATH,'//*[@id=\"filters-row\"]/div/div/div[2]/div[2]/div/div[3]/div[1]/div[1]/div/label').click()"
   ]
  },
  {
   "cell_type": "code",
   "execution_count": 268,
   "id": "2f0a6a91",
   "metadata": {},
   "outputs": [
    {
     "data": {
      "text/plain": [
       "['Senior Data Scientist',\n",
       " 'Data Scientist- Forecasting and R or Python',\n",
       " 'Data Scientist',\n",
       " 'Data Scientist - NLP',\n",
       " 'Data Scientist - NLP',\n",
       " 'Data Science - Lead Data Scientist',\n",
       " 'Data Scientist - Associate Vice President',\n",
       " 'Senior Data Scientist - Artificial Intelligence/Machine Learning (4-8 yrs)',\n",
       " 'Data Science Trainer | AI | Machine Learning | Python |',\n",
       " 'Data Scientist - Python/SQL/Redshift (4-7 yrs)']"
      ]
     },
     "execution_count": 268,
     "metadata": {},
     "output_type": "execute_result"
    }
   ],
   "source": [
    "job_titles=[]\n",
    "# So lets extract all the tags having the job-titles\n",
    "titles_tags=driver.find_elements(By.XPATH,\"//a[@class='title noclick']\")\n",
    "titles_tags[0:10]\n",
    "for i in titles_tags:\n",
    "    title=i.text\n",
    "    job_titles.append(title)\n",
    "job_titles[0:10]\n",
    "# here  we  have  got  all  the  titles "
   ]
  },
  {
   "cell_type": "code",
   "execution_count": 270,
   "id": "552cabfe",
   "metadata": {},
   "outputs": [
    {
     "data": {
      "text/plain": [
       "['Optum Global Solutions (India) Private Limited',\n",
       " 'GENPACT India Private Limited',\n",
       " 'GENPACT India Private Limited',\n",
       " 'CRMnext',\n",
       " 'Acidaes Solutions Pvt. Ltd.',\n",
       " 'Paytm',\n",
       " 'Paytm',\n",
       " 'Randstad',\n",
       " 'Careerera',\n",
       " 'Telus International']"
      ]
     },
     "execution_count": 270,
     "metadata": {},
     "output_type": "execute_result"
    }
   ],
   "source": [
    "company_names=[]\n",
    "# So lets extract all the tags having the company names\n",
    "companies_tags=driver.find_elements(By.XPATH,\"//p[@class='company body-medium']\")\n",
    "companies_tags[0:10]\n",
    "for i in companies_tags:\n",
    "    company_name=i.text\n",
    "    company_names.append(company_name)\n",
    "company_names[0:10]\n",
    "#  here  we have  got all  the  company names  "
   ]
  },
  {
   "cell_type": "code",
   "execution_count": 272,
   "id": "813d0bfe",
   "metadata": {},
   "outputs": [
    {
     "data": {
      "text/plain": [
       "['4.1', '4.0', '4.0', '4.1', '3.8', '3.7', '3.7', '4.1', '4.6', '4.2']"
      ]
     },
     "execution_count": 272,
     "metadata": {},
     "output_type": "execute_result"
    }
   ],
   "source": [
    "#find the all  the  ratings  of the  comapany\n",
    "company_ratings=[]\n",
    "rate_tags= driver.find_elements(By.CLASS_NAME,\"body-small\")\n",
    "for i in rate_tags:\n",
    "    com_rate=i.text\n",
    "    company_ratings.append(com_rate)\n",
    "company_ratings"
   ]
  },
  {
   "cell_type": "code",
   "execution_count": 273,
   "id": "f73f2f94",
   "metadata": {},
   "outputs": [
    {
     "data": {
      "text/plain": [
       "['6d ago',\n",
       " '13d ago',\n",
       " '1mon ago',\n",
       " '7d ago',\n",
       " '12d ago',\n",
       " '1mon ago',\n",
       " '1mon ago',\n",
       " '11mon ago',\n",
       " '21d ago',\n",
       " '11mon ago']"
      ]
     },
     "execution_count": 273,
     "metadata": {},
     "output_type": "execute_result"
    }
   ],
   "source": [
    "# days ago  the job was  beings  posted  here \n",
    "postings_ago=[]\n",
    "ago_tags= driver.find_elements(By.XPATH,\" //div[@class='other-info']/span[1]\" )\n",
    "for i in ago_tags:\n",
    "    ago_date=i.text\n",
    "    postings_ago.append(ago_date)\n",
    "post_day=postings_ago[:10]\n",
    "post_day"
   ]
  },
  {
   "cell_type": "code",
   "execution_count": 274,
   "id": "4fc5e063",
   "metadata": {},
   "outputs": [
    {
     "data": {
      "text/plain": [
       "10"
      ]
     },
     "execution_count": 274,
     "metadata": {},
     "output_type": "execute_result"
    }
   ],
   "source": [
    "len(post_day)"
   ]
  },
  {
   "cell_type": "code",
   "execution_count": 275,
   "id": "cb01a60f",
   "metadata": {},
   "outputs": [
    {
     "data": {
      "text/html": [
       "<div>\n",
       "<style scoped>\n",
       "    .dataframe tbody tr th:only-of-type {\n",
       "        vertical-align: middle;\n",
       "    }\n",
       "\n",
       "    .dataframe tbody tr th {\n",
       "        vertical-align: top;\n",
       "    }\n",
       "\n",
       "    .dataframe thead th {\n",
       "        text-align: right;\n",
       "    }\n",
       "</style>\n",
       "<table border=\"1\" class=\"dataframe\">\n",
       "  <thead>\n",
       "    <tr style=\"text-align: right;\">\n",
       "      <th></th>\n",
       "      <th>Name_of_companies</th>\n",
       "      <th>Name of the role</th>\n",
       "      <th>Ratings given</th>\n",
       "      <th>Days ago posted</th>\n",
       "    </tr>\n",
       "  </thead>\n",
       "  <tbody>\n",
       "    <tr>\n",
       "      <th>0</th>\n",
       "      <td>Optum Global Solutions (India) Private Limited</td>\n",
       "      <td>Senior Data Scientist</td>\n",
       "      <td>4.1</td>\n",
       "      <td>6d ago</td>\n",
       "    </tr>\n",
       "    <tr>\n",
       "      <th>1</th>\n",
       "      <td>GENPACT India Private Limited</td>\n",
       "      <td>Data Scientist- Forecasting and R or Python</td>\n",
       "      <td>4.0</td>\n",
       "      <td>13d ago</td>\n",
       "    </tr>\n",
       "    <tr>\n",
       "      <th>2</th>\n",
       "      <td>GENPACT India Private Limited</td>\n",
       "      <td>Data Scientist</td>\n",
       "      <td>4.0</td>\n",
       "      <td>1mon ago</td>\n",
       "    </tr>\n",
       "    <tr>\n",
       "      <th>3</th>\n",
       "      <td>CRMnext</td>\n",
       "      <td>Data Scientist - NLP</td>\n",
       "      <td>4.1</td>\n",
       "      <td>7d ago</td>\n",
       "    </tr>\n",
       "    <tr>\n",
       "      <th>4</th>\n",
       "      <td>Acidaes Solutions Pvt. Ltd.</td>\n",
       "      <td>Data Scientist - NLP</td>\n",
       "      <td>3.8</td>\n",
       "      <td>12d ago</td>\n",
       "    </tr>\n",
       "    <tr>\n",
       "      <th>5</th>\n",
       "      <td>Paytm</td>\n",
       "      <td>Data Science - Lead Data Scientist</td>\n",
       "      <td>3.7</td>\n",
       "      <td>1mon ago</td>\n",
       "    </tr>\n",
       "    <tr>\n",
       "      <th>6</th>\n",
       "      <td>Paytm</td>\n",
       "      <td>Data Scientist - Associate Vice President</td>\n",
       "      <td>3.7</td>\n",
       "      <td>1mon ago</td>\n",
       "    </tr>\n",
       "    <tr>\n",
       "      <th>7</th>\n",
       "      <td>Randstad</td>\n",
       "      <td>Senior Data Scientist - Artificial Intelligenc...</td>\n",
       "      <td>4.1</td>\n",
       "      <td>11mon ago</td>\n",
       "    </tr>\n",
       "    <tr>\n",
       "      <th>8</th>\n",
       "      <td>Careerera</td>\n",
       "      <td>Data Science Trainer | AI | Machine Learning |...</td>\n",
       "      <td>4.6</td>\n",
       "      <td>21d ago</td>\n",
       "    </tr>\n",
       "    <tr>\n",
       "      <th>9</th>\n",
       "      <td>Telus International</td>\n",
       "      <td>Data Scientist - Python/SQL/Redshift (4-7 yrs)</td>\n",
       "      <td>4.2</td>\n",
       "      <td>11mon ago</td>\n",
       "    </tr>\n",
       "  </tbody>\n",
       "</table>\n",
       "</div>"
      ],
      "text/plain": [
       "                                Name_of_companies  \\\n",
       "0  Optum Global Solutions (India) Private Limited   \n",
       "1                   GENPACT India Private Limited   \n",
       "2                   GENPACT India Private Limited   \n",
       "3                                         CRMnext   \n",
       "4                     Acidaes Solutions Pvt. Ltd.   \n",
       "5                                           Paytm   \n",
       "6                                           Paytm   \n",
       "7                                        Randstad   \n",
       "8                                       Careerera   \n",
       "9                             Telus International   \n",
       "\n",
       "                                    Name of the role Ratings given  \\\n",
       "0                              Senior Data Scientist           4.1   \n",
       "1        Data Scientist- Forecasting and R or Python           4.0   \n",
       "2                                     Data Scientist           4.0   \n",
       "3                               Data Scientist - NLP           4.1   \n",
       "4                               Data Scientist - NLP           3.8   \n",
       "5                 Data Science - Lead Data Scientist           3.7   \n",
       "6          Data Scientist - Associate Vice President           3.7   \n",
       "7  Senior Data Scientist - Artificial Intelligenc...           4.1   \n",
       "8  Data Science Trainer | AI | Machine Learning |...           4.6   \n",
       "9     Data Scientist - Python/SQL/Redshift (4-7 yrs)           4.2   \n",
       "\n",
       "  Days ago posted  \n",
       "0          6d ago  \n",
       "1         13d ago  \n",
       "2        1mon ago  \n",
       "3          7d ago  \n",
       "4         12d ago  \n",
       "5        1mon ago  \n",
       "6        1mon ago  \n",
       "7       11mon ago  \n",
       "8         21d ago  \n",
       "9       11mon ago  "
      ]
     },
     "execution_count": 275,
     "metadata": {},
     "output_type": "execute_result"
    }
   ],
   "source": [
    "# now we  are  creating  a  single  dataframe   for  all  the  above  extracted  items \n",
    "ambition_df = pd.DataFrame({})\n",
    "ambition_df['Name_of_companies']=company_names\n",
    "ambition_df['Name of the role']=job_titles\n",
    "ambition_df['Ratings given']=company_ratings\n",
    "ambition_df['Days ago posted']=post_day\n",
    "ambition_df[0:10]"
   ]
  },
  {
   "cell_type": "markdown",
   "id": "44bd9ee5",
   "metadata": {},
   "source": [
    "## Answer 10 :: Write a python program to scrape the salary data for Data Scientist designation.\n",
    "## You have to scrape Company name, Number of salaries, Average salary, Minsalary, Max Salar"
   ]
  },
  {
   "cell_type": "code",
   "execution_count": 12,
   "id": "4c18ea1d",
   "metadata": {},
   "outputs": [],
   "source": [
    "#command for open  the  automation window of browser \n",
    "driver = webdriver.Chrome('chromedriver.exe')"
   ]
  },
  {
   "cell_type": "code",
   "execution_count": 13,
   "id": "614327aa",
   "metadata": {},
   "outputs": [],
   "source": [
    "url = 'https://www.ambitionbox.com/'\n",
    "driver.get(url)"
   ]
  },
  {
   "cell_type": "code",
   "execution_count": 14,
   "id": "28a71db8",
   "metadata": {},
   "outputs": [],
   "source": [
    "salary_button= driver.find_element(By.XPATH,'/html/body/div[1]/nav/nav/a[4]')\n",
    "salary_button.click()"
   ]
  },
  {
   "cell_type": "code",
   "execution_count": 15,
   "id": "28c7a457",
   "metadata": {},
   "outputs": [],
   "source": [
    "search_field_designation= driver.find_element(By.XPATH,'//*[@id=\"jobProfileSearchbox\"]') \n",
    "search_field_designation.send_keys('Data Scientist')"
   ]
  },
  {
   "cell_type": "code",
   "execution_count": 16,
   "id": "a64b213d",
   "metadata": {},
   "outputs": [
    {
     "data": {
      "text/plain": [
       "<selenium.webdriver.remote.webelement.WebElement (session=\"bb8771e6bb99e09c790991dcb5536559\", element=\"bcd0e9de-e50e-462a-8b50-195bfc93db44\")>"
      ]
     },
     "execution_count": 16,
     "metadata": {},
     "output_type": "execute_result"
    }
   ],
   "source": [
    "search_btn=driver.find_element(By.XPATH,'//div[@class=\"suggestion_wrap tt-suggestion tt-selectable\"]')\n",
    "search_btn"
   ]
  },
  {
   "cell_type": "code",
   "execution_count": 17,
   "id": "0c4471aa",
   "metadata": {},
   "outputs": [],
   "source": [
    "search_btn.click()"
   ]
  },
  {
   "cell_type": "code",
   "execution_count": 18,
   "id": "11c12eab",
   "metadata": {},
   "outputs": [
    {
     "data": {
      "text/plain": [
       "['Walmart',\n",
       " 'Ab Inbev',\n",
       " 'ZS',\n",
       " 'Optum',\n",
       " 'Reliance Jio',\n",
       " 'Fractal Analytics',\n",
       " 'Tiger Analytics',\n",
       " 'UnitedHealth',\n",
       " 'EXL Service',\n",
       " 'Deloitte']"
      ]
     },
     "execution_count": 18,
     "metadata": {},
     "output_type": "execute_result"
    }
   ],
   "source": [
    "com = driver.find_elements(By.XPATH,'//div[@class=\"company-info\"]')\n",
    "\n",
    "len(com)\n",
    "\n",
    "Com=[]\n",
    "\n",
    "\n",
    "\n",
    "for i in com:\n",
    "\n",
    "    Com.append(i.text)\n",
    "\n",
    "Com\n",
    "\n",
    "\n",
    "\n",
    "Com = [i.split('\\n', 1)[0] for i in Com]\n",
    "\n",
    "Com = Com[0:10]\n",
    "Com"
   ]
  },
  {
   "cell_type": "code",
   "execution_count": 19,
   "id": "5a669516",
   "metadata": {},
   "outputs": [],
   "source": [
    "#now  we  will scraping  the min   salary by the  comapnies   here \n",
    "salary_company=[]\n",
    "sal_tagmin= driver.find_elements(By.XPATH,'//div[@class=\"value body-medium\"]')\n",
    "for i in sal_tagmin:\n",
    "    sal_min=i.text\n",
    "    salary_company.append(sal_min)\n",
    "    salary_min=salary_company[0:10]"
   ]
  },
  {
   "cell_type": "code",
   "execution_count": 20,
   "id": "0b594bc8",
   "metadata": {},
   "outputs": [],
   "source": [
    " #This is  the list  for the average  salary\n",
    "salary_avg=[]    \n",
    "sal_tagavg= driver.find_elements(By.CLASS_NAME,'averageCtc')\n",
    "for i in sal_tagavg:\n",
    "    sal_avg=i.text\n",
    "    salary_avg.append(sal_avg)"
   ]
  },
  {
   "cell_type": "code",
   "execution_count": 21,
   "id": "482bd825",
   "metadata": {},
   "outputs": [
    {
     "data": {
      "text/plain": [
       "['₹ 36.0L',\n",
       " '₹ 26.2L',\n",
       " '₹ 22.0L',\n",
       " '₹ 22.5L',\n",
       " '₹ 26.2L',\n",
       " '₹ 23.0L',\n",
       " '₹ 20.0L',\n",
       " '₹ 21.1L',\n",
       " '₹ 21.0L',\n",
       " '₹ 25.0L']"
      ]
     },
     "execution_count": 21,
     "metadata": {},
     "output_type": "execute_result"
    }
   ],
   "source": [
    "#  now we  will  find  the  max  salary   of  the  employees\n",
    "salary_max=[]\n",
    "sal_tagmax= driver.find_elements(By.XPATH,'//div[@class=\"value body-medium\"]')\n",
    "for i in sal_tagmax:\n",
    "    tag_max=i.text\n",
    "    salary_max.append(tag_max)\n",
    "salary_max\n",
    "max_salary= (salary_max[1:20:2])\n",
    "max_salary"
   ]
  },
  {
   "cell_type": "code",
   "execution_count": 22,
   "id": "7708669c",
   "metadata": {},
   "outputs": [
    {
     "data": {
      "text/plain": [
       "10"
      ]
     },
     "execution_count": 22,
     "metadata": {},
     "output_type": "execute_result"
    }
   ],
   "source": [
    "len(salary_min)"
   ]
  },
  {
   "cell_type": "code",
   "execution_count": 23,
   "id": "825eb29c",
   "metadata": {},
   "outputs": [
    {
     "data": {
      "text/plain": [
       "['3 yrs experience (based on 12 salaries)',\n",
       " '3-4 yrs experience (based on 33 salaries)',\n",
       " '2 yrs experience (based on 15 salaries)',\n",
       " '3-4 yrs experience (based on 32 salaries)',\n",
       " '3-4 yrs experience (based on 21 salaries)',\n",
       " '2-4 yrs experience (based on 89 salaries)',\n",
       " '2-4 yrs experience (based on 51 salaries)',\n",
       " '2-4 yrs experience (based on 57 salaries)',\n",
       " '3-4 yrs experience (based on 21 salaries)',\n",
       " '2-4 yrs experience (based on 69 salaries)']"
      ]
     },
     "execution_count": 23,
     "metadata": {},
     "output_type": "execute_result"
    }
   ],
   "source": [
    "#now  we  will  be fetching  the  experience   here \n",
    "company_exp=[]\n",
    "exp_tag= driver.find_elements(By.XPATH,'//div[@class=\"sbold-list-header\"]')\n",
    "for i in exp_tag:\n",
    "    com_exp=i.text.replace('\\n','')\n",
    "    company_exp.append(com_exp)\n",
    "company_exp"
   ]
  },
  {
   "cell_type": "code",
   "execution_count": 26,
   "id": "c4b395a1",
   "metadata": {},
   "outputs": [
    {
     "data": {
      "text/html": [
       "<div>\n",
       "<style scoped>\n",
       "    .dataframe tbody tr th:only-of-type {\n",
       "        vertical-align: middle;\n",
       "    }\n",
       "\n",
       "    .dataframe tbody tr th {\n",
       "        vertical-align: top;\n",
       "    }\n",
       "\n",
       "    .dataframe thead th {\n",
       "        text-align: right;\n",
       "    }\n",
       "</style>\n",
       "<table border=\"1\" class=\"dataframe\">\n",
       "  <thead>\n",
       "    <tr style=\"text-align: right;\">\n",
       "      <th></th>\n",
       "      <th>Comapnay_names</th>\n",
       "      <th>Minimum_salary</th>\n",
       "      <th>Average_salary</th>\n",
       "      <th>Maximum_salary</th>\n",
       "      <th>Experiences_req</th>\n",
       "    </tr>\n",
       "  </thead>\n",
       "  <tbody>\n",
       "    <tr>\n",
       "      <th>0</th>\n",
       "      <td>Walmart</td>\n",
       "      <td>₹ 25.0L</td>\n",
       "      <td>₹ 30.6L</td>\n",
       "      <td>₹ 36.0L</td>\n",
       "      <td>3 yrs experience (based on 12 salaries)</td>\n",
       "    </tr>\n",
       "    <tr>\n",
       "      <th>1</th>\n",
       "      <td>Ab Inbev</td>\n",
       "      <td>₹ 36.0L</td>\n",
       "      <td>₹ 20.8L</td>\n",
       "      <td>₹ 26.2L</td>\n",
       "      <td>3-4 yrs experience (based on 33 salaries)</td>\n",
       "    </tr>\n",
       "    <tr>\n",
       "      <th>2</th>\n",
       "      <td>ZS</td>\n",
       "      <td>₹ 15.0L</td>\n",
       "      <td>₹ 16.7L</td>\n",
       "      <td>₹ 22.0L</td>\n",
       "      <td>2 yrs experience (based on 15 salaries)</td>\n",
       "    </tr>\n",
       "    <tr>\n",
       "      <th>3</th>\n",
       "      <td>Optum</td>\n",
       "      <td>₹ 26.2L</td>\n",
       "      <td>₹ 15.9L</td>\n",
       "      <td>₹ 22.5L</td>\n",
       "      <td>3-4 yrs experience (based on 32 salaries)</td>\n",
       "    </tr>\n",
       "    <tr>\n",
       "      <th>4</th>\n",
       "      <td>Reliance Jio</td>\n",
       "      <td>₹ 11.0L</td>\n",
       "      <td>₹ 15.7L</td>\n",
       "      <td>₹ 26.2L</td>\n",
       "      <td>3-4 yrs experience (based on 21 salaries)</td>\n",
       "    </tr>\n",
       "    <tr>\n",
       "      <th>5</th>\n",
       "      <td>Fractal Analytics</td>\n",
       "      <td>₹ 22.0L</td>\n",
       "      <td>₹ 15.5L</td>\n",
       "      <td>₹ 23.0L</td>\n",
       "      <td>2-4 yrs experience (based on 89 salaries)</td>\n",
       "    </tr>\n",
       "    <tr>\n",
       "      <th>6</th>\n",
       "      <td>Tiger Analytics</td>\n",
       "      <td>₹ 11.0L</td>\n",
       "      <td>₹ 14.8L</td>\n",
       "      <td>₹ 20.0L</td>\n",
       "      <td>2-4 yrs experience (based on 51 salaries)</td>\n",
       "    </tr>\n",
       "    <tr>\n",
       "      <th>7</th>\n",
       "      <td>UnitedHealth</td>\n",
       "      <td>₹ 22.5L</td>\n",
       "      <td>₹ 14.0L</td>\n",
       "      <td>₹ 21.1L</td>\n",
       "      <td>2-4 yrs experience (based on 57 salaries)</td>\n",
       "    </tr>\n",
       "    <tr>\n",
       "      <th>8</th>\n",
       "      <td>EXL Service</td>\n",
       "      <td>₹ 5.6L</td>\n",
       "      <td>₹ 13.2L</td>\n",
       "      <td>₹ 21.0L</td>\n",
       "      <td>3-4 yrs experience (based on 21 salaries)</td>\n",
       "    </tr>\n",
       "    <tr>\n",
       "      <th>9</th>\n",
       "      <td>Deloitte</td>\n",
       "      <td>₹ 26.2L</td>\n",
       "      <td>₹ 12.8L</td>\n",
       "      <td>₹ 25.0L</td>\n",
       "      <td>2-4 yrs experience (based on 69 salaries)</td>\n",
       "    </tr>\n",
       "  </tbody>\n",
       "</table>\n",
       "</div>"
      ],
      "text/plain": [
       "      Comapnay_names Minimum_salary Average_salary Maximum_salary  \\\n",
       "0            Walmart        ₹ 25.0L        ₹ 30.6L        ₹ 36.0L   \n",
       "1           Ab Inbev        ₹ 36.0L        ₹ 20.8L        ₹ 26.2L   \n",
       "2                 ZS        ₹ 15.0L        ₹ 16.7L        ₹ 22.0L   \n",
       "3              Optum        ₹ 26.2L        ₹ 15.9L        ₹ 22.5L   \n",
       "4       Reliance Jio        ₹ 11.0L        ₹ 15.7L        ₹ 26.2L   \n",
       "5  Fractal Analytics        ₹ 22.0L        ₹ 15.5L        ₹ 23.0L   \n",
       "6    Tiger Analytics        ₹ 11.0L        ₹ 14.8L        ₹ 20.0L   \n",
       "7       UnitedHealth        ₹ 22.5L        ₹ 14.0L        ₹ 21.1L   \n",
       "8        EXL Service         ₹ 5.6L        ₹ 13.2L        ₹ 21.0L   \n",
       "9           Deloitte        ₹ 26.2L        ₹ 12.8L        ₹ 25.0L   \n",
       "\n",
       "                             Experiences_req  \n",
       "0    3 yrs experience (based on 12 salaries)  \n",
       "1  3-4 yrs experience (based on 33 salaries)  \n",
       "2    2 yrs experience (based on 15 salaries)  \n",
       "3  3-4 yrs experience (based on 32 salaries)  \n",
       "4  3-4 yrs experience (based on 21 salaries)  \n",
       "5  2-4 yrs experience (based on 89 salaries)  \n",
       "6  2-4 yrs experience (based on 51 salaries)  \n",
       "7  2-4 yrs experience (based on 57 salaries)  \n",
       "8  3-4 yrs experience (based on 21 salaries)  \n",
       "9  2-4 yrs experience (based on 69 salaries)  "
      ]
     },
     "execution_count": 26,
     "metadata": {},
     "output_type": "execute_result"
    }
   ],
   "source": [
    "#now  creating  the  Dataframe \n",
    "scientist_df = pd.DataFrame({})\n",
    "scientist_df['Comapnay_names']=Com\n",
    "scientist_df['Minimum_salary']=salary_min\n",
    "scientist_df['Average_salary']=salary_avg\n",
    "scientist_df['Maximum_salary']=max_salary\n",
    "scientist_df['Experiences_req']=company_exp\n",
    "scientist_df"
   ]
  },
  {
   "cell_type": "code",
   "execution_count": null,
   "id": "0f3144dc",
   "metadata": {},
   "outputs": [],
   "source": [
    "####################### PROJECT IS COMPLETED#########################"
   ]
  },
  {
   "cell_type": "code",
   "execution_count": null,
   "id": "3824f46f",
   "metadata": {},
   "outputs": [],
   "source": []
  }
 ],
 "metadata": {
  "kernelspec": {
   "display_name": "Python 3 (ipykernel)",
   "language": "python",
   "name": "python3"
  },
  "language_info": {
   "codemirror_mode": {
    "name": "ipython",
    "version": 3
   },
   "file_extension": ".py",
   "mimetype": "text/x-python",
   "name": "python",
   "nbconvert_exporter": "python",
   "pygments_lexer": "ipython3",
   "version": "3.9.12"
  }
 },
 "nbformat": 4,
 "nbformat_minor": 5
}
